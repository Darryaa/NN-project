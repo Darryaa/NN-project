{
 "cells": [
  {
   "cell_type": "markdown",
   "id": "corresponding-armstrong",
   "metadata": {
    "ExecuteTime": {
     "end_time": "2022-05-05T04:58:05.692448Z",
     "start_time": "2022-05-05T04:58:05.688565Z"
    }
   },
   "source": [
    "## Загрузка данных"
   ]
  },
  {
   "cell_type": "code",
   "execution_count": 1,
   "id": "spectacular-folder",
   "metadata": {},
   "outputs": [],
   "source": [
    "import pandas as pd\n",
    "import numpy as np\n",
    "import torch\n",
    "import torch.nn as nn\n",
    "import seaborn as sns\n",
    "import matplotlib.pyplot as plt\n",
    "from sklearn.preprocessing import StandardScaler, OneHotEncoder\n",
    "from sklearn.model_selection import train_test_split\n",
    "import torch\n",
    "import torch.nn as nn\n",
    "import torch.optim as optim\n",
    "from sklearn.model_selection import train_test_split\n",
    "import numpy as np\n",
    "import random\n",
    "from sklearn.metrics import mean_squared_error\n",
    "\n"
   ]
  },
  {
   "cell_type": "code",
   "execution_count": 2,
   "id": "c068d815",
   "metadata": {},
   "outputs": [],
   "source": [
    "df = pd.read_csv(\"/datasets/6_class.csv\")"
   ]
  },
  {
   "cell_type": "code",
   "execution_count": 3,
   "id": "22ba7fcc",
   "metadata": {},
   "outputs": [
    {
     "data": {
      "text/plain": [
       "RangeIndex(start=0, stop=240, step=1)"
      ]
     },
     "execution_count": 3,
     "metadata": {},
     "output_type": "execute_result"
    }
   ],
   "source": [
    "df.index"
   ]
  },
  {
   "cell_type": "markdown",
   "id": "66bbe2e0",
   "metadata": {},
   "source": [
    "ниже убеждаемся, что 'Unnamed: 0' это индекс и удаляем его:"
   ]
  },
  {
   "cell_type": "code",
   "execution_count": 4,
   "id": "6b95c72a",
   "metadata": {},
   "outputs": [
    {
     "data": {
      "image/png": "[encoded data removed]",
      "text/plain": [
       "<Figure size 432x288 with 1 Axes>"
      ]
     },
     "metadata": {
      "needs_background": "light"
     },
     "output_type": "display_data"
    }
   ],
   "source": [
    "df['Unnamed: 0'].hist(bins=240);"
   ]
  },
  {
   "cell_type": "code",
   "execution_count": 5,
   "id": "ffc2e1c6",
   "metadata": {},
   "outputs": [],
   "source": [
    "df= df.drop('Unnamed: 0',axis=1)"
   ]
  },
  {
   "cell_type": "code",
   "execution_count": 6,
   "id": "d5c4cad8",
   "metadata": {},
   "outputs": [
    {
     "data": {
      "text/html": [
       "<div>\n",
       "<style scoped>\n",
       "    .dataframe tbody tr th:only-of-type {\n",
       "        vertical-align: middle;\n",
       "    }\n",
       "\n",
       "    .dataframe tbody tr th {\n",
       "        vertical-align: top;\n",
       "    }\n",
       "\n",
       "    .dataframe thead th {\n",
       "        text-align: right;\n",
       "    }\n",
       "</style>\n",
       "<table border=\"1\" class=\"dataframe\">\n",
       "  <thead>\n",
       "    <tr style=\"text-align: right;\">\n",
       "      <th></th>\n",
       "      <th>Temperature (K)</th>\n",
       "      <th>Luminosity(L/Lo)</th>\n",
       "      <th>Radius(R/Ro)</th>\n",
       "      <th>Absolute magnitude(Mv)</th>\n",
       "      <th>Star type</th>\n",
       "      <th>Star color</th>\n",
       "    </tr>\n",
       "  </thead>\n",
       "  <tbody>\n",
       "    <tr>\n",
       "      <th>0</th>\n",
       "      <td>3068</td>\n",
       "      <td>0.002400</td>\n",
       "      <td>0.1700</td>\n",
       "      <td>16.12</td>\n",
       "      <td>0</td>\n",
       "      <td>Red</td>\n",
       "    </tr>\n",
       "    <tr>\n",
       "      <th>1</th>\n",
       "      <td>3042</td>\n",
       "      <td>0.000500</td>\n",
       "      <td>0.1542</td>\n",
       "      <td>16.60</td>\n",
       "      <td>0</td>\n",
       "      <td>Red</td>\n",
       "    </tr>\n",
       "    <tr>\n",
       "      <th>2</th>\n",
       "      <td>2600</td>\n",
       "      <td>0.000300</td>\n",
       "      <td>0.1020</td>\n",
       "      <td>18.70</td>\n",
       "      <td>0</td>\n",
       "      <td>Red</td>\n",
       "    </tr>\n",
       "    <tr>\n",
       "      <th>3</th>\n",
       "      <td>2800</td>\n",
       "      <td>0.000200</td>\n",
       "      <td>0.1600</td>\n",
       "      <td>16.65</td>\n",
       "      <td>0</td>\n",
       "      <td>Red</td>\n",
       "    </tr>\n",
       "    <tr>\n",
       "      <th>4</th>\n",
       "      <td>1939</td>\n",
       "      <td>0.000138</td>\n",
       "      <td>0.1030</td>\n",
       "      <td>20.06</td>\n",
       "      <td>0</td>\n",
       "      <td>Red</td>\n",
       "    </tr>\n",
       "  </tbody>\n",
       "</table>\n",
       "</div>"
      ],
      "text/plain": [
       "   Temperature (K)  Luminosity(L/Lo)  Radius(R/Ro)  Absolute magnitude(Mv)  \\\n",
       "0             3068          0.002400        0.1700                   16.12   \n",
       "1             3042          0.000500        0.1542                   16.60   \n",
       "2             2600          0.000300        0.1020                   18.70   \n",
       "3             2800          0.000200        0.1600                   16.65   \n",
       "4             1939          0.000138        0.1030                   20.06   \n",
       "\n",
       "   Star type Star color  \n",
       "0          0        Red  \n",
       "1          0        Red  \n",
       "2          0        Red  \n",
       "3          0        Red  \n",
       "4          0        Red  "
      ]
     },
     "execution_count": 6,
     "metadata": {},
     "output_type": "execute_result"
    }
   ],
   "source": [
    "df.head()"
   ]
  },
  {
   "cell_type": "code",
   "execution_count": 7,
   "id": "6968bafc",
   "metadata": {},
   "outputs": [],
   "source": [
    "num = ['Temperature (K)','Luminosity(L/Lo)','Radius(R/Ro)','Absolute magnitude(Mv)']"
   ]
  },
  {
   "cell_type": "code",
   "execution_count": 8,
   "id": "485b27f9",
   "metadata": {},
   "outputs": [],
   "source": [
    "cat = ['Star color','Star type']"
   ]
  },
  {
   "cell_type": "markdown",
   "id": "simple-subdivision",
   "metadata": {},
   "source": [
    "## Предобработка и анализ данных"
   ]
  },
  {
   "cell_type": "markdown",
   "id": "fb9fb1f0",
   "metadata": {},
   "source": [
    "Замечаем дубликаты в названиях звезд, избвимся от них:"
   ]
  },
  {
   "cell_type": "code",
   "execution_count": 9,
   "id": "flush-dream",
   "metadata": {},
   "outputs": [
    {
     "data": {
      "text/plain": [
       "array(['Red', 'Blue White', 'White', 'Yellowish White', 'Blue white',\n",
       "       'Pale yellow orange', 'Blue', 'Blue-white', 'Whitish',\n",
       "       'yellow-white', 'Orange', 'White-Yellow', 'white', 'Blue ',\n",
       "       'yellowish', 'Yellowish', 'Orange-Red', 'Blue white ',\n",
       "       'Blue-White'], dtype=object)"
      ]
     },
     "execution_count": 9,
     "metadata": {},
     "output_type": "execute_result"
    }
   ],
   "source": [
    "df['Star color'].unique()"
   ]
  },
  {
   "cell_type": "code",
   "execution_count": 10,
   "id": "ee687167",
   "metadata": {},
   "outputs": [
    {
     "data": {
      "text/plain": [
       "array([0, 1, 2, 3, 4, 5])"
      ]
     },
     "execution_count": 10,
     "metadata": {},
     "output_type": "execute_result"
    }
   ],
   "source": [
    "df['Star type'].unique()"
   ]
  },
  {
   "cell_type": "code",
   "execution_count": 11,
   "id": "3c3dade5",
   "metadata": {},
   "outputs": [],
   "source": [
    "df['Star color'] = df['Star color'].str.lower()"
   ]
  },
  {
   "cell_type": "code",
   "execution_count": 12,
   "id": "6f22143b",
   "metadata": {},
   "outputs": [],
   "source": [
    "df['Star color'] = df['Star color'].str.replace('-',' ')"
   ]
  },
  {
   "cell_type": "code",
   "execution_count": 13,
   "id": "69e217a0",
   "metadata": {},
   "outputs": [],
   "source": [
    "df['Star color'] = df['Star color'].str.rstrip()"
   ]
  },
  {
   "cell_type": "code",
   "execution_count": 16,
   "id": "cc80e581",
   "metadata": {},
   "outputs": [
    {
     "data": {
      "text/plain": [
       "array(['red', 'blue white', 'white', 'yellowish white',\n",
       "       'pale yellow orange', 'blue', 'whitish', 'yellow white', 'orange',\n",
       "       'white yellow', 'yellowish', 'orange red'], dtype=object)"
      ]
     },
     "execution_count": 16,
     "metadata": {},
     "output_type": "execute_result"
    }
   ],
   "source": [
    "df['Star color'].unique()"
   ]
  },
  {
   "cell_type": "markdown",
   "id": "783acf95",
   "metadata": {},
   "source": [
    "Убеждаемся, что пропуски отсутвуют."
   ]
  },
  {
   "cell_type": "code",
   "execution_count": 17,
   "id": "9fd6cdbf",
   "metadata": {},
   "outputs": [
    {
     "data": {
      "text/plain": [
       "Temperature (K)           0\n",
       "Luminosity(L/Lo)          0\n",
       "Radius(R/Ro)              0\n",
       "Absolute magnitude(Mv)    0\n",
       "Star type                 0\n",
       "Star color                0\n",
       "dtype: int64"
      ]
     },
     "execution_count": 17,
     "metadata": {},
     "output_type": "execute_result"
    }
   ],
   "source": [
    "df.isna().sum()"
   ]
  },
  {
   "cell_type": "code",
   "execution_count": 18,
   "id": "353b8b03",
   "metadata": {},
   "outputs": [
    {
     "data": {
      "text/html": [
       "<div>\n",
       "<style scoped>\n",
       "    .dataframe tbody tr th:only-of-type {\n",
       "        vertical-align: middle;\n",
       "    }\n",
       "\n",
       "    .dataframe tbody tr th {\n",
       "        vertical-align: top;\n",
       "    }\n",
       "\n",
       "    .dataframe thead th {\n",
       "        text-align: right;\n",
       "    }\n",
       "</style>\n",
       "<table border=\"1\" class=\"dataframe\">\n",
       "  <thead>\n",
       "    <tr style=\"text-align: right;\">\n",
       "      <th></th>\n",
       "      <th>Temperature (K)</th>\n",
       "      <th>Luminosity(L/Lo)</th>\n",
       "      <th>Radius(R/Ro)</th>\n",
       "      <th>Absolute magnitude(Mv)</th>\n",
       "      <th>Star type</th>\n",
       "    </tr>\n",
       "  </thead>\n",
       "  <tbody>\n",
       "    <tr>\n",
       "      <th>count</th>\n",
       "      <td>240.000000</td>\n",
       "      <td>240.000000</td>\n",
       "      <td>240.000000</td>\n",
       "      <td>240.000000</td>\n",
       "      <td>240.000000</td>\n",
       "    </tr>\n",
       "    <tr>\n",
       "      <th>mean</th>\n",
       "      <td>10497.462500</td>\n",
       "      <td>107188.361635</td>\n",
       "      <td>237.157781</td>\n",
       "      <td>4.382396</td>\n",
       "      <td>2.500000</td>\n",
       "    </tr>\n",
       "    <tr>\n",
       "      <th>std</th>\n",
       "      <td>9552.425037</td>\n",
       "      <td>179432.244940</td>\n",
       "      <td>517.155763</td>\n",
       "      <td>10.532512</td>\n",
       "      <td>1.711394</td>\n",
       "    </tr>\n",
       "    <tr>\n",
       "      <th>min</th>\n",
       "      <td>1939.000000</td>\n",
       "      <td>0.000080</td>\n",
       "      <td>0.008400</td>\n",
       "      <td>-11.920000</td>\n",
       "      <td>0.000000</td>\n",
       "    </tr>\n",
       "    <tr>\n",
       "      <th>25%</th>\n",
       "      <td>3344.250000</td>\n",
       "      <td>0.000865</td>\n",
       "      <td>0.102750</td>\n",
       "      <td>-6.232500</td>\n",
       "      <td>1.000000</td>\n",
       "    </tr>\n",
       "    <tr>\n",
       "      <th>50%</th>\n",
       "      <td>5776.000000</td>\n",
       "      <td>0.070500</td>\n",
       "      <td>0.762500</td>\n",
       "      <td>8.313000</td>\n",
       "      <td>2.500000</td>\n",
       "    </tr>\n",
       "    <tr>\n",
       "      <th>75%</th>\n",
       "      <td>15055.500000</td>\n",
       "      <td>198050.000000</td>\n",
       "      <td>42.750000</td>\n",
       "      <td>13.697500</td>\n",
       "      <td>4.000000</td>\n",
       "    </tr>\n",
       "    <tr>\n",
       "      <th>max</th>\n",
       "      <td>40000.000000</td>\n",
       "      <td>849420.000000</td>\n",
       "      <td>1948.500000</td>\n",
       "      <td>20.060000</td>\n",
       "      <td>5.000000</td>\n",
       "    </tr>\n",
       "  </tbody>\n",
       "</table>\n",
       "</div>"
      ],
      "text/plain": [
       "       Temperature (K)  Luminosity(L/Lo)  Radius(R/Ro)  \\\n",
       "count       240.000000        240.000000    240.000000   \n",
       "mean      10497.462500     107188.361635    237.157781   \n",
       "std        9552.425037     179432.244940    517.155763   \n",
       "min        1939.000000          0.000080      0.008400   \n",
       "25%        3344.250000          0.000865      0.102750   \n",
       "50%        5776.000000          0.070500      0.762500   \n",
       "75%       15055.500000     198050.000000     42.750000   \n",
       "max       40000.000000     849420.000000   1948.500000   \n",
       "\n",
       "       Absolute magnitude(Mv)   Star type  \n",
       "count              240.000000  240.000000  \n",
       "mean                 4.382396    2.500000  \n",
       "std                 10.532512    1.711394  \n",
       "min                -11.920000    0.000000  \n",
       "25%                 -6.232500    1.000000  \n",
       "50%                  8.313000    2.500000  \n",
       "75%                 13.697500    4.000000  \n",
       "max                 20.060000    5.000000  "
      ]
     },
     "execution_count": 18,
     "metadata": {},
     "output_type": "execute_result"
    }
   ],
   "source": [
    "df.describe()"
   ]
  },
  {
   "cell_type": "markdown",
   "id": "2ab56976",
   "metadata": {},
   "source": [
    "C Это самые горячие звезды, температура поверхности которых может достигать 50 000 Кельвинов. Их цвет - голубой или голубовато-белый. \n",
    "Звезды класса W:\n",
    "Это также горячие звезды, температура поверхности которых может быть около 100 000 Кельвинов. "
   ]
  },
  {
   "cell_type": "code",
   "execution_count": 16,
   "id": "65394d1e",
   "metadata": {},
   "outputs": [
    {
     "data": {
      "image/png": "[encoded data removed]",
      "text/plain": [
       "<Figure size 432x288 with 1 Axes>"
      ]
     },
     "metadata": {
      "needs_background": "light"
     },
     "output_type": "display_data"
    },
    {
     "data": {
      "image/png": "[encoded data removed]",
      "text/plain": [
       "<Figure size 432x288 with 1 Axes>"
      ]
     },
     "metadata": {
      "needs_background": "light"
     },
     "output_type": "display_data"
    },
    {
     "data": {
      "image/png": "[encoded data removed]",
      "text/plain": [
       "<Figure size 432x288 with 1 Axes>"
      ]
     },
     "metadata": {
      "needs_background": "light"
     },
     "output_type": "display_data"
    },
    {
     "data": {
      "image/png": "[encoded data removed]",
      "text/plain": [
       "<Figure size 432x288 with 1 Axes>"
      ]
     },
     "metadata": {
      "needs_background": "light"
     },
     "output_type": "display_data"
    }
   ],
   "source": [
    "for a in num:\n",
    "    plt.figure()\n",
    "    sns.kdeplot(data=df, x=a)\n",
    "    plt.title(f'KDE for {a}')\n",
    "    plt.show()"
   ]
  },
  {
   "cell_type": "code",
   "execution_count": 19,
   "id": "8e872bb0",
   "metadata": {},
   "outputs": [
    {
     "data": {
      "image/png": "[encoded data removed]",
      "text/plain": [
       "<Figure size 432x288 with 1 Axes>"
      ]
     },
     "metadata": {
      "needs_background": "light"
     },
     "output_type": "display_data"
    }
   ],
   "source": [
    "df['Temperature (K)'].plot();"
   ]
  },
  {
   "cell_type": "code",
   "execution_count": 18,
   "id": "d688ea4a",
   "metadata": {},
   "outputs": [
    {
     "data": {
      "text/plain": [
       "40000"
      ]
     },
     "execution_count": 18,
     "metadata": {},
     "output_type": "execute_result"
    }
   ],
   "source": [
    "df['Temperature (K)'].max()"
   ]
  },
  {
   "cell_type": "markdown",
   "id": "funded-electric",
   "metadata": {},
   "source": [
    "## Построение базовой нейронной сети"
   ]
  },
  {
   "cell_type": "code",
   "execution_count": 20,
   "id": "3d754216",
   "metadata": {},
   "outputs": [],
   "source": [
    "num = ['Luminosity(L/Lo)','Radius(R/Ro)','Absolute magnitude(Mv)']"
   ]
  },
  {
   "cell_type": "code",
   "execution_count": 21,
   "id": "forced-concentrate",
   "metadata": {},
   "outputs": [],
   "source": [
    "X = df.drop([\"Temperature (K)\"],axis=1)\n",
    "y = df[[\"Temperature (K)\"]]\n",
    "\n",
    "X_train, X_test, y_train, y_test = train_test_split(X,y,test_size=0.3, random_state=42,shuffle=True)"
   ]
  },
  {
   "cell_type": "code",
   "execution_count": 22,
   "id": "418cde48",
   "metadata": {},
   "outputs": [
    {
     "data": {
      "text/html": [
       "<div>\n",
       "<style scoped>\n",
       "    .dataframe tbody tr th:only-of-type {\n",
       "        vertical-align: middle;\n",
       "    }\n",
       "\n",
       "    .dataframe tbody tr th {\n",
       "        vertical-align: top;\n",
       "    }\n",
       "\n",
       "    .dataframe thead th {\n",
       "        text-align: right;\n",
       "    }\n",
       "</style>\n",
       "<table border=\"1\" class=\"dataframe\">\n",
       "  <thead>\n",
       "    <tr style=\"text-align: right;\">\n",
       "      <th></th>\n",
       "      <th>Luminosity(L/Lo)</th>\n",
       "      <th>Radius(R/Ro)</th>\n",
       "      <th>Absolute magnitude(Mv)</th>\n",
       "      <th>Star type</th>\n",
       "      <th>Star color</th>\n",
       "    </tr>\n",
       "  </thead>\n",
       "  <tbody>\n",
       "    <tr>\n",
       "      <th>0</th>\n",
       "      <td>0.002400</td>\n",
       "      <td>0.1700</td>\n",
       "      <td>16.12</td>\n",
       "      <td>0</td>\n",
       "      <td>red</td>\n",
       "    </tr>\n",
       "    <tr>\n",
       "      <th>1</th>\n",
       "      <td>0.000500</td>\n",
       "      <td>0.1542</td>\n",
       "      <td>16.60</td>\n",
       "      <td>0</td>\n",
       "      <td>red</td>\n",
       "    </tr>\n",
       "    <tr>\n",
       "      <th>2</th>\n",
       "      <td>0.000300</td>\n",
       "      <td>0.1020</td>\n",
       "      <td>18.70</td>\n",
       "      <td>0</td>\n",
       "      <td>red</td>\n",
       "    </tr>\n",
       "    <tr>\n",
       "      <th>3</th>\n",
       "      <td>0.000200</td>\n",
       "      <td>0.1600</td>\n",
       "      <td>16.65</td>\n",
       "      <td>0</td>\n",
       "      <td>red</td>\n",
       "    </tr>\n",
       "    <tr>\n",
       "      <th>4</th>\n",
       "      <td>0.000138</td>\n",
       "      <td>0.1030</td>\n",
       "      <td>20.06</td>\n",
       "      <td>0</td>\n",
       "      <td>red</td>\n",
       "    </tr>\n",
       "    <tr>\n",
       "      <th>...</th>\n",
       "      <td>...</td>\n",
       "      <td>...</td>\n",
       "      <td>...</td>\n",
       "      <td>...</td>\n",
       "      <td>...</td>\n",
       "    </tr>\n",
       "    <tr>\n",
       "      <th>235</th>\n",
       "      <td>374830.000000</td>\n",
       "      <td>1356.0000</td>\n",
       "      <td>-9.93</td>\n",
       "      <td>5</td>\n",
       "      <td>blue</td>\n",
       "    </tr>\n",
       "    <tr>\n",
       "      <th>236</th>\n",
       "      <td>834042.000000</td>\n",
       "      <td>1194.0000</td>\n",
       "      <td>-10.63</td>\n",
       "      <td>5</td>\n",
       "      <td>blue</td>\n",
       "    </tr>\n",
       "    <tr>\n",
       "      <th>237</th>\n",
       "      <td>537493.000000</td>\n",
       "      <td>1423.0000</td>\n",
       "      <td>-10.73</td>\n",
       "      <td>5</td>\n",
       "      <td>white</td>\n",
       "    </tr>\n",
       "    <tr>\n",
       "      <th>238</th>\n",
       "      <td>404940.000000</td>\n",
       "      <td>1112.0000</td>\n",
       "      <td>-11.23</td>\n",
       "      <td>5</td>\n",
       "      <td>white</td>\n",
       "    </tr>\n",
       "    <tr>\n",
       "      <th>239</th>\n",
       "      <td>294903.000000</td>\n",
       "      <td>1783.0000</td>\n",
       "      <td>-7.80</td>\n",
       "      <td>5</td>\n",
       "      <td>blue</td>\n",
       "    </tr>\n",
       "  </tbody>\n",
       "</table>\n",
       "<p>240 rows × 5 columns</p>\n",
       "</div>"
      ],
      "text/plain": [
       "     Luminosity(L/Lo)  Radius(R/Ro)  Absolute magnitude(Mv)  Star type  \\\n",
       "0            0.002400        0.1700                   16.12          0   \n",
       "1            0.000500        0.1542                   16.60          0   \n",
       "2            0.000300        0.1020                   18.70          0   \n",
       "3            0.000200        0.1600                   16.65          0   \n",
       "4            0.000138        0.1030                   20.06          0   \n",
       "..                ...           ...                     ...        ...   \n",
       "235     374830.000000     1356.0000                   -9.93          5   \n",
       "236     834042.000000     1194.0000                  -10.63          5   \n",
       "237     537493.000000     1423.0000                  -10.73          5   \n",
       "238     404940.000000     1112.0000                  -11.23          5   \n",
       "239     294903.000000     1783.0000                   -7.80          5   \n",
       "\n",
       "    Star color  \n",
       "0          red  \n",
       "1          red  \n",
       "2          red  \n",
       "3          red  \n",
       "4          red  \n",
       "..         ...  \n",
       "235       blue  \n",
       "236       blue  \n",
       "237      white  \n",
       "238      white  \n",
       "239       blue  \n",
       "\n",
       "[240 rows x 5 columns]"
      ]
     },
     "execution_count": 22,
     "metadata": {},
     "output_type": "execute_result"
    }
   ],
   "source": [
    "X"
   ]
  },
  {
   "cell_type": "code",
   "execution_count": 23,
   "id": "0d217d30",
   "metadata": {},
   "outputs": [],
   "source": [
    "scaler = StandardScaler() "
   ]
  },
  {
   "cell_type": "code",
   "execution_count": 24,
   "id": "0ce593a1",
   "metadata": {},
   "outputs": [],
   "source": [
    "ohe = OneHotEncoder(sparse=False, handle_unknown='ignore')\n"
   ]
  },
  {
   "cell_type": "code",
   "execution_count": 25,
   "id": "7c9f333f",
   "metadata": {},
   "outputs": [],
   "source": [
    "numeric_data = X_train[num]"
   ]
  },
  {
   "cell_type": "code",
   "execution_count": 26,
   "id": "893b1f52",
   "metadata": {},
   "outputs": [],
   "source": [
    "numeric_data2 = X_test[num]"
   ]
  },
  {
   "cell_type": "code",
   "execution_count": 27,
   "id": "6ff07f3d",
   "metadata": {},
   "outputs": [],
   "source": [
    "scaled_X_train= scaler.fit_transform(numeric_data)"
   ]
  },
  {
   "cell_type": "code",
   "execution_count": 28,
   "id": "cc389707",
   "metadata": {},
   "outputs": [],
   "source": [
    "scaled_X_test= scaler.transform(numeric_data2)"
   ]
  },
  {
   "cell_type": "code",
   "execution_count": 29,
   "id": "16a3fb6e",
   "metadata": {},
   "outputs": [],
   "source": [
    "cat_data = X_train[cat]"
   ]
  },
  {
   "cell_type": "code",
   "execution_count": 30,
   "id": "c892aec1",
   "metadata": {},
   "outputs": [],
   "source": [
    "cat_data2 = X_test[cat]"
   ]
  },
  {
   "cell_type": "code",
   "execution_count": 31,
   "id": "ec1ecd2b",
   "metadata": {},
   "outputs": [],
   "source": [
    "X_train_cat = ohe.fit_transform(cat_data)\n",
    "X_test_cat = ohe.transform(cat_data2) "
   ]
  },
  {
   "cell_type": "code",
   "execution_count": 32,
   "id": "1adf0a3f",
   "metadata": {},
   "outputs": [],
   "source": [
    "train_df = pd.DataFrame(\n",
    "    data=np.hstack([scaled_X_train, X_train_cat]),\n",
    "    columns=num + list(ohe.get_feature_names(cat))\n",
    ")"
   ]
  },
  {
   "cell_type": "code",
   "execution_count": 33,
   "id": "3c5fe3a0",
   "metadata": {},
   "outputs": [],
   "source": [
    "#train_df['type'] = X_train['Star type']"
   ]
  },
  {
   "cell_type": "code",
   "execution_count": 34,
   "id": "5dd2c118",
   "metadata": {},
   "outputs": [
    {
     "data": {
      "text/html": [
       "<div>\n",
       "<style scoped>\n",
       "    .dataframe tbody tr th:only-of-type {\n",
       "        vertical-align: middle;\n",
       "    }\n",
       "\n",
       "    .dataframe tbody tr th {\n",
       "        vertical-align: top;\n",
       "    }\n",
       "\n",
       "    .dataframe thead th {\n",
       "        text-align: right;\n",
       "    }\n",
       "</style>\n",
       "<table border=\"1\" class=\"dataframe\">\n",
       "  <thead>\n",
       "    <tr style=\"text-align: right;\">\n",
       "      <th></th>\n",
       "      <th>Luminosity(L/Lo)</th>\n",
       "      <th>Radius(R/Ro)</th>\n",
       "      <th>Absolute magnitude(Mv)</th>\n",
       "      <th>Star color_blue</th>\n",
       "      <th>Star color_blue white</th>\n",
       "      <th>Star color_orange</th>\n",
       "      <th>Star color_pale yellow orange</th>\n",
       "      <th>Star color_red</th>\n",
       "      <th>Star color_white</th>\n",
       "      <th>Star color_white yellow</th>\n",
       "      <th>Star color_whitish</th>\n",
       "      <th>Star color_yellow white</th>\n",
       "      <th>Star color_yellowish</th>\n",
       "      <th>Star color_yellowish white</th>\n",
       "      <th>Star type_0</th>\n",
       "      <th>Star type_1</th>\n",
       "      <th>Star type_2</th>\n",
       "      <th>Star type_3</th>\n",
       "      <th>Star type_4</th>\n",
       "      <th>Star type_5</th>\n",
       "    </tr>\n",
       "  </thead>\n",
       "  <tbody>\n",
       "    <tr>\n",
       "      <th>0</th>\n",
       "      <td>-0.605495</td>\n",
       "      <td>-0.432609</td>\n",
       "      <td>0.921181</td>\n",
       "      <td>0.0</td>\n",
       "      <td>0.0</td>\n",
       "      <td>0.0</td>\n",
       "      <td>1.0</td>\n",
       "      <td>0.0</td>\n",
       "      <td>0.0</td>\n",
       "      <td>0.0</td>\n",
       "      <td>0.0</td>\n",
       "      <td>0.0</td>\n",
       "      <td>0.0</td>\n",
       "      <td>0.0</td>\n",
       "      <td>0.0</td>\n",
       "      <td>0.0</td>\n",
       "      <td>1.0</td>\n",
       "      <td>0.0</td>\n",
       "      <td>0.0</td>\n",
       "      <td>0.0</td>\n",
       "    </tr>\n",
       "    <tr>\n",
       "      <th>1</th>\n",
       "      <td>-0.605495</td>\n",
       "      <td>-0.432415</td>\n",
       "      <td>1.215105</td>\n",
       "      <td>0.0</td>\n",
       "      <td>0.0</td>\n",
       "      <td>0.0</td>\n",
       "      <td>0.0</td>\n",
       "      <td>1.0</td>\n",
       "      <td>0.0</td>\n",
       "      <td>0.0</td>\n",
       "      <td>0.0</td>\n",
       "      <td>0.0</td>\n",
       "      <td>0.0</td>\n",
       "      <td>0.0</td>\n",
       "      <td>1.0</td>\n",
       "      <td>0.0</td>\n",
       "      <td>0.0</td>\n",
       "      <td>0.0</td>\n",
       "      <td>0.0</td>\n",
       "      <td>0.0</td>\n",
       "    </tr>\n",
       "    <tr>\n",
       "      <th>2</th>\n",
       "      <td>-0.605495</td>\n",
       "      <td>-0.431926</td>\n",
       "      <td>0.696871</td>\n",
       "      <td>0.0</td>\n",
       "      <td>0.0</td>\n",
       "      <td>0.0</td>\n",
       "      <td>0.0</td>\n",
       "      <td>1.0</td>\n",
       "      <td>0.0</td>\n",
       "      <td>0.0</td>\n",
       "      <td>0.0</td>\n",
       "      <td>0.0</td>\n",
       "      <td>0.0</td>\n",
       "      <td>0.0</td>\n",
       "      <td>0.0</td>\n",
       "      <td>1.0</td>\n",
       "      <td>0.0</td>\n",
       "      <td>0.0</td>\n",
       "      <td>0.0</td>\n",
       "      <td>0.0</td>\n",
       "    </tr>\n",
       "    <tr>\n",
       "      <th>3</th>\n",
       "      <td>-0.605495</td>\n",
       "      <td>-0.432616</td>\n",
       "      <td>0.892176</td>\n",
       "      <td>0.0</td>\n",
       "      <td>0.0</td>\n",
       "      <td>0.0</td>\n",
       "      <td>0.0</td>\n",
       "      <td>0.0</td>\n",
       "      <td>1.0</td>\n",
       "      <td>0.0</td>\n",
       "      <td>0.0</td>\n",
       "      <td>0.0</td>\n",
       "      <td>0.0</td>\n",
       "      <td>0.0</td>\n",
       "      <td>0.0</td>\n",
       "      <td>0.0</td>\n",
       "      <td>1.0</td>\n",
       "      <td>0.0</td>\n",
       "      <td>0.0</td>\n",
       "      <td>0.0</td>\n",
       "    </tr>\n",
       "    <tr>\n",
       "      <th>4</th>\n",
       "      <td>-0.605495</td>\n",
       "      <td>-0.432413</td>\n",
       "      <td>1.201569</td>\n",
       "      <td>0.0</td>\n",
       "      <td>0.0</td>\n",
       "      <td>0.0</td>\n",
       "      <td>0.0</td>\n",
       "      <td>1.0</td>\n",
       "      <td>0.0</td>\n",
       "      <td>0.0</td>\n",
       "      <td>0.0</td>\n",
       "      <td>0.0</td>\n",
       "      <td>0.0</td>\n",
       "      <td>0.0</td>\n",
       "      <td>1.0</td>\n",
       "      <td>0.0</td>\n",
       "      <td>0.0</td>\n",
       "      <td>0.0</td>\n",
       "      <td>0.0</td>\n",
       "      <td>0.0</td>\n",
       "    </tr>\n",
       "    <tr>\n",
       "      <th>...</th>\n",
       "      <td>...</td>\n",
       "      <td>...</td>\n",
       "      <td>...</td>\n",
       "      <td>...</td>\n",
       "      <td>...</td>\n",
       "      <td>...</td>\n",
       "      <td>...</td>\n",
       "      <td>...</td>\n",
       "      <td>...</td>\n",
       "      <td>...</td>\n",
       "      <td>...</td>\n",
       "      <td>...</td>\n",
       "      <td>...</td>\n",
       "      <td>...</td>\n",
       "      <td>...</td>\n",
       "      <td>...</td>\n",
       "      <td>...</td>\n",
       "      <td>...</td>\n",
       "      <td>...</td>\n",
       "      <td>...</td>\n",
       "    </tr>\n",
       "    <tr>\n",
       "      <th>163</th>\n",
       "      <td>1.560860</td>\n",
       "      <td>-0.304917</td>\n",
       "      <td>-1.003824</td>\n",
       "      <td>1.0</td>\n",
       "      <td>0.0</td>\n",
       "      <td>0.0</td>\n",
       "      <td>0.0</td>\n",
       "      <td>0.0</td>\n",
       "      <td>0.0</td>\n",
       "      <td>0.0</td>\n",
       "      <td>0.0</td>\n",
       "      <td>0.0</td>\n",
       "      <td>0.0</td>\n",
       "      <td>0.0</td>\n",
       "      <td>0.0</td>\n",
       "      <td>0.0</td>\n",
       "      <td>0.0</td>\n",
       "      <td>0.0</td>\n",
       "      <td>1.0</td>\n",
       "      <td>0.0</td>\n",
       "    </tr>\n",
       "    <tr>\n",
       "      <th>164</th>\n",
       "      <td>-0.605495</td>\n",
       "      <td>-0.432352</td>\n",
       "      <td>0.698998</td>\n",
       "      <td>0.0</td>\n",
       "      <td>0.0</td>\n",
       "      <td>0.0</td>\n",
       "      <td>0.0</td>\n",
       "      <td>1.0</td>\n",
       "      <td>0.0</td>\n",
       "      <td>0.0</td>\n",
       "      <td>0.0</td>\n",
       "      <td>0.0</td>\n",
       "      <td>0.0</td>\n",
       "      <td>0.0</td>\n",
       "      <td>0.0</td>\n",
       "      <td>1.0</td>\n",
       "      <td>0.0</td>\n",
       "      <td>0.0</td>\n",
       "      <td>0.0</td>\n",
       "      <td>0.0</td>\n",
       "    </tr>\n",
       "    <tr>\n",
       "      <th>165</th>\n",
       "      <td>-0.605495</td>\n",
       "      <td>-0.431024</td>\n",
       "      <td>0.162008</td>\n",
       "      <td>0.0</td>\n",
       "      <td>0.0</td>\n",
       "      <td>0.0</td>\n",
       "      <td>0.0</td>\n",
       "      <td>0.0</td>\n",
       "      <td>0.0</td>\n",
       "      <td>0.0</td>\n",
       "      <td>0.0</td>\n",
       "      <td>0.0</td>\n",
       "      <td>1.0</td>\n",
       "      <td>0.0</td>\n",
       "      <td>0.0</td>\n",
       "      <td>0.0</td>\n",
       "      <td>0.0</td>\n",
       "      <td>1.0</td>\n",
       "      <td>0.0</td>\n",
       "      <td>0.0</td>\n",
       "    </tr>\n",
       "    <tr>\n",
       "      <th>166</th>\n",
       "      <td>0.877474</td>\n",
       "      <td>1.867318</td>\n",
       "      <td>-1.236836</td>\n",
       "      <td>0.0</td>\n",
       "      <td>1.0</td>\n",
       "      <td>0.0</td>\n",
       "      <td>0.0</td>\n",
       "      <td>0.0</td>\n",
       "      <td>0.0</td>\n",
       "      <td>0.0</td>\n",
       "      <td>0.0</td>\n",
       "      <td>0.0</td>\n",
       "      <td>0.0</td>\n",
       "      <td>0.0</td>\n",
       "      <td>0.0</td>\n",
       "      <td>0.0</td>\n",
       "      <td>0.0</td>\n",
       "      <td>0.0</td>\n",
       "      <td>0.0</td>\n",
       "      <td>1.0</td>\n",
       "    </tr>\n",
       "    <tr>\n",
       "      <th>167</th>\n",
       "      <td>0.152431</td>\n",
       "      <td>-0.359653</td>\n",
       "      <td>-0.997056</td>\n",
       "      <td>1.0</td>\n",
       "      <td>0.0</td>\n",
       "      <td>0.0</td>\n",
       "      <td>0.0</td>\n",
       "      <td>0.0</td>\n",
       "      <td>0.0</td>\n",
       "      <td>0.0</td>\n",
       "      <td>0.0</td>\n",
       "      <td>0.0</td>\n",
       "      <td>0.0</td>\n",
       "      <td>0.0</td>\n",
       "      <td>0.0</td>\n",
       "      <td>0.0</td>\n",
       "      <td>0.0</td>\n",
       "      <td>0.0</td>\n",
       "      <td>1.0</td>\n",
       "      <td>0.0</td>\n",
       "    </tr>\n",
       "  </tbody>\n",
       "</table>\n",
       "<p>168 rows × 20 columns</p>\n",
       "</div>"
      ],
      "text/plain": [
       "     Luminosity(L/Lo)  Radius(R/Ro)  Absolute magnitude(Mv)  Star color_blue  \\\n",
       "0           -0.605495     -0.432609                0.921181              0.0   \n",
       "1           -0.605495     -0.432415                1.215105              0.0   \n",
       "2           -0.605495     -0.431926                0.696871              0.0   \n",
       "3           -0.605495     -0.432616                0.892176              0.0   \n",
       "4           -0.605495     -0.432413                1.201569              0.0   \n",
       "..                ...           ...                     ...              ...   \n",
       "163          1.560860     -0.304917               -1.003824              1.0   \n",
       "164         -0.605495     -0.432352                0.698998              0.0   \n",
       "165         -0.605495     -0.431024                0.162008              0.0   \n",
       "166          0.877474      1.867318               -1.236836              0.0   \n",
       "167          0.152431     -0.359653               -0.997056              1.0   \n",
       "\n",
       "     Star color_blue white  Star color_orange  Star color_pale yellow orange  \\\n",
       "0                      0.0                0.0                            1.0   \n",
       "1                      0.0                0.0                            0.0   \n",
       "2                      0.0                0.0                            0.0   \n",
       "3                      0.0                0.0                            0.0   \n",
       "4                      0.0                0.0                            0.0   \n",
       "..                     ...                ...                            ...   \n",
       "163                    0.0                0.0                            0.0   \n",
       "164                    0.0                0.0                            0.0   \n",
       "165                    0.0                0.0                            0.0   \n",
       "166                    1.0                0.0                            0.0   \n",
       "167                    0.0                0.0                            0.0   \n",
       "\n",
       "     Star color_red  Star color_white  Star color_white yellow  \\\n",
       "0               0.0               0.0                      0.0   \n",
       "1               1.0               0.0                      0.0   \n",
       "2               1.0               0.0                      0.0   \n",
       "3               0.0               1.0                      0.0   \n",
       "4               1.0               0.0                      0.0   \n",
       "..              ...               ...                      ...   \n",
       "163             0.0               0.0                      0.0   \n",
       "164             1.0               0.0                      0.0   \n",
       "165             0.0               0.0                      0.0   \n",
       "166             0.0               0.0                      0.0   \n",
       "167             0.0               0.0                      0.0   \n",
       "\n",
       "     Star color_whitish  Star color_yellow white  Star color_yellowish  \\\n",
       "0                   0.0                      0.0                   0.0   \n",
       "1                   0.0                      0.0                   0.0   \n",
       "2                   0.0                      0.0                   0.0   \n",
       "3                   0.0                      0.0                   0.0   \n",
       "4                   0.0                      0.0                   0.0   \n",
       "..                  ...                      ...                   ...   \n",
       "163                 0.0                      0.0                   0.0   \n",
       "164                 0.0                      0.0                   0.0   \n",
       "165                 0.0                      0.0                   1.0   \n",
       "166                 0.0                      0.0                   0.0   \n",
       "167                 0.0                      0.0                   0.0   \n",
       "\n",
       "     Star color_yellowish white  Star type_0  Star type_1  Star type_2  \\\n",
       "0                           0.0          0.0          0.0          1.0   \n",
       "1                           0.0          1.0          0.0          0.0   \n",
       "2                           0.0          0.0          1.0          0.0   \n",
       "3                           0.0          0.0          0.0          1.0   \n",
       "4                           0.0          1.0          0.0          0.0   \n",
       "..                          ...          ...          ...          ...   \n",
       "163                         0.0          0.0          0.0          0.0   \n",
       "164                         0.0          0.0          1.0          0.0   \n",
       "165                         0.0          0.0          0.0          0.0   \n",
       "166                         0.0          0.0          0.0          0.0   \n",
       "167                         0.0          0.0          0.0          0.0   \n",
       "\n",
       "     Star type_3  Star type_4  Star type_5  \n",
       "0            0.0          0.0          0.0  \n",
       "1            0.0          0.0          0.0  \n",
       "2            0.0          0.0          0.0  \n",
       "3            0.0          0.0          0.0  \n",
       "4            0.0          0.0          0.0  \n",
       "..           ...          ...          ...  \n",
       "163          0.0          1.0          0.0  \n",
       "164          0.0          0.0          0.0  \n",
       "165          1.0          0.0          0.0  \n",
       "166          0.0          0.0          1.0  \n",
       "167          0.0          1.0          0.0  \n",
       "\n",
       "[168 rows x 20 columns]"
      ]
     },
     "execution_count": 34,
     "metadata": {},
     "output_type": "execute_result"
    }
   ],
   "source": [
    "train_df"
   ]
  },
  {
   "cell_type": "code",
   "execution_count": 35,
   "id": "7d307108",
   "metadata": {},
   "outputs": [],
   "source": [
    "test_df = pd.DataFrame(\n",
    "    data=np.hstack([scaled_X_test, X_test_cat]),\n",
    "    columns=num + list(ohe.get_feature_names(cat))\n",
    ")"
   ]
  },
  {
   "cell_type": "code",
   "execution_count": 36,
   "id": "1b6ea4e9",
   "metadata": {},
   "outputs": [],
   "source": [
    "random.seed(0)\n",
    "np.random.seed(0)\n",
    "torch.manual_seed(0)\n",
    "torch.use_deterministic_algorithms(True)"
   ]
  },
  {
   "cell_type": "code",
   "execution_count": 37,
   "id": "4c65cb9d",
   "metadata": {},
   "outputs": [],
   "source": [
    "train_X = torch.FloatTensor(train_df.to_numpy())\n",
    "test_X= torch.FloatTensor(test_df.to_numpy())\n",
    "train_y = torch.FloatTensor(y_train.to_numpy())  \n",
    "test_y = torch.FloatTensor(y_test.to_numpy())"
   ]
  },
  {
   "cell_type": "markdown",
   "id": "898681af",
   "metadata": {},
   "source": [
    "Cоздаем первую сеть c возможностью задавать количество слоев и нейронов, чтобы отследить динамику:"
   ]
  },
  {
   "cell_type": "code",
   "execution_count": 39,
   "id": "293eaf5a",
   "metadata": {},
   "outputs": [],
   "source": [
    "class Baseline(nn.Module):\n",
    "    def __init__(self, layer_sizes=[20, 200, 36, 16, 1]):\n",
    "        super(Baseline, self).__init__()\n",
    "        self.layers = nn.ModuleList()\n",
    "        self.relu = nn.ReLU()\n",
    "        \n",
    "       \n",
    "        for i in range(len(layer_sizes)-1):\n",
    "            self.layers.append(nn.Linear(layer_sizes[i], layer_sizes[i+1]))\n",
    "        \n",
    "    def forward(self, x):\n",
    "        for i, layer in enumerate(self.layers):\n",
    "            x = layer(x)\n",
    "            if i != len(self.layers)-1:\n",
    "                x = self.relu(x)\n",
    "        return x"
   ]
  },
  {
   "cell_type": "markdown",
   "id": "d84d0568",
   "metadata": {},
   "source": [
    "Cоздаем функцию для обучени и отслеживая динамики rmse в зависимости от парамертов выше:"
   ]
  },
  {
   "cell_type": "code",
   "execution_count": 41,
   "id": "774ac242",
   "metadata": {},
   "outputs": [],
   "source": [
    "def train_with_rmse(model,batch_size, X_train, y_train, X_val, y_val, num_epochs=2000):\n",
    "    criterion = nn.MSELoss()\n",
    "    optimizer = optim.Adam(model.parameters(), lr=0.0001, weight_decay=1e-5)\n",
    "    \n",
    "    train_rmse = []\n",
    "    val_rmse = []\n",
    "    \n",
    "    for epoch in range(num_epochs):\n",
    "        model.train()\n",
    "        epoch_loss = 0\n",
    "        permutation = torch.randperm(X_train.size()[0])\n",
    "        \n",
    "        for i in range(0, X_train.size()[0], batch_size):\n",
    "            indices = permutation[i:i+batch_size]\n",
    "            batch_X = X_train[indices]\n",
    "            batch_y = y_train[indices]\n",
    "            \n",
    "            optimizer.zero_grad()\n",
    "            outputs = model(batch_X)\n",
    "            loss = criterion(outputs, batch_y)\n",
    "            loss.backward()\n",
    "            optimizer.step()\n",
    "            epoch_loss += loss.item()\n",
    "        model.eval()\n",
    "        with torch.no_grad():\n",
    "            train_preds = model(X_train)\n",
    "            train_rmse.append(np.sqrt(mean_squared_error(y_train.numpy(), train_preds.numpy())))\n",
    "            \n",
    "            val_preds = model(X_val)\n",
    "            val_rmse.append(np.sqrt(mean_squared_error(y_val.numpy(), val_preds.numpy())))\n",
    "        \n",
    "        if (epoch+1) % 100 == 0:\n",
    "            print(f'Epoch [{epoch+1}/{num_epochs}] | Train RMSE: {train_rmse[-1]:.2f} K | Val RMSE: {val_rmse[-1]:.2f}')\n",
    "    "
   ]
  },
  {
   "cell_type": "code",
   "execution_count": 42,
   "id": "9bc701f3",
   "metadata": {},
   "outputs": [],
   "source": [
    "deep_model = Baseline(layer_sizes=[20, 256, 128, 64, 32, 16, 1])"
   ]
  },
  {
   "cell_type": "code",
   "execution_count": 43,
   "id": "4c9d9d0b",
   "metadata": {},
   "outputs": [
    {
     "name": "stdout",
     "output_type": "stream",
     "text": [
      "Epoch [100/2000] | Train RMSE: 12365.17 K | Val RMSE: 13055.12\n",
      "Epoch [200/2000] | Train RMSE: 6695.56 K | Val RMSE: 7070.50\n",
      "Epoch [300/2000] | Train RMSE: 5927.10 K | Val RMSE: 6264.29\n",
      "Epoch [400/2000] | Train RMSE: 5444.86 K | Val RMSE: 5825.07\n",
      "Epoch [500/2000] | Train RMSE: 5063.77 K | Val RMSE: 5521.09\n",
      "Epoch [600/2000] | Train RMSE: 4759.46 K | Val RMSE: 5305.28\n",
      "Epoch [700/2000] | Train RMSE: 4522.26 K | Val RMSE: 5165.21\n",
      "Epoch [800/2000] | Train RMSE: 4343.48 K | Val RMSE: 5085.03\n",
      "Epoch [900/2000] | Train RMSE: 4208.37 K | Val RMSE: 5053.64\n",
      "Epoch [1000/2000] | Train RMSE: 4106.99 K | Val RMSE: 5050.75\n",
      "Epoch [1100/2000] | Train RMSE: 4028.84 K | Val RMSE: 5068.17\n",
      "Epoch [1200/2000] | Train RMSE: 3966.47 K | Val RMSE: 5087.55\n",
      "Epoch [1300/2000] | Train RMSE: 3913.50 K | Val RMSE: 5104.16\n",
      "Epoch [1400/2000] | Train RMSE: 3870.61 K | Val RMSE: 5121.41\n",
      "Epoch [1500/2000] | Train RMSE: 3834.09 K | Val RMSE: 5131.32\n",
      "Epoch [1600/2000] | Train RMSE: 3801.66 K | Val RMSE: 5140.03\n",
      "Epoch [1700/2000] | Train RMSE: 3773.81 K | Val RMSE: 5145.50\n",
      "Epoch [1800/2000] | Train RMSE: 3747.78 K | Val RMSE: 5148.92\n",
      "Epoch [1900/2000] | Train RMSE: 3723.18 K | Val RMSE: 5152.73\n",
      "Epoch [2000/2000] | Train RMSE: 3700.86 K | Val RMSE: 5149.13\n"
     ]
    }
   ],
   "source": [
    "train_with_rmse(model=deep_model,batch_size=30,\n",
    "    X_train=train_X,\n",
    "    y_train=train_y,\n",
    "    X_val=test_X,\n",
    "    y_val=test_y)"
   ]
  },
  {
   "cell_type": "code",
   "execution_count": 44,
   "id": "675a5490",
   "metadata": {},
   "outputs": [],
   "source": [
    "deep_model2 = Baseline(layer_sizes=[20, 256, 36, 128, 64,8, 32, 16, 1])"
   ]
  },
  {
   "cell_type": "code",
   "execution_count": 45,
   "id": "4c59e5ce",
   "metadata": {},
   "outputs": [
    {
     "name": "stdout",
     "output_type": "stream",
     "text": [
      "Epoch [100/2000] | Train RMSE: 13747.64 K | Val RMSE: 14484.88\n",
      "Epoch [200/2000] | Train RMSE: 7082.28 K | Val RMSE: 7519.98\n",
      "Epoch [300/2000] | Train RMSE: 6134.27 K | Val RMSE: 6485.63\n",
      "Epoch [400/2000] | Train RMSE: 5620.09 K | Val RMSE: 5982.07\n",
      "Epoch [500/2000] | Train RMSE: 5244.42 K | Val RMSE: 5667.40\n",
      "Epoch [600/2000] | Train RMSE: 4938.05 K | Val RMSE: 5424.87\n",
      "Epoch [700/2000] | Train RMSE: 4678.88 K | Val RMSE: 5246.80\n",
      "Epoch [800/2000] | Train RMSE: 4469.77 K | Val RMSE: 5135.16\n",
      "Epoch [900/2000] | Train RMSE: 4303.88 K | Val RMSE: 5075.29\n",
      "Epoch [1000/2000] | Train RMSE: 4178.40 K | Val RMSE: 5040.28\n",
      "Epoch [1100/2000] | Train RMSE: 4084.11 K | Val RMSE: 5034.30\n",
      "Epoch [1200/2000] | Train RMSE: 4012.35 K | Val RMSE: 5051.49\n",
      "Epoch [1300/2000] | Train RMSE: 3949.47 K | Val RMSE: 5056.46\n",
      "Epoch [1400/2000] | Train RMSE: 3896.23 K | Val RMSE: 5078.65\n",
      "Epoch [1500/2000] | Train RMSE: 3851.22 K | Val RMSE: 5102.83\n",
      "Epoch [1600/2000] | Train RMSE: 3809.24 K | Val RMSE: 5118.66\n",
      "Epoch [1700/2000] | Train RMSE: 3773.43 K | Val RMSE: 5126.54\n",
      "Epoch [1800/2000] | Train RMSE: 3739.03 K | Val RMSE: 5118.08\n",
      "Epoch [1900/2000] | Train RMSE: 3710.21 K | Val RMSE: 5116.62\n",
      "Epoch [2000/2000] | Train RMSE: 3683.51 K | Val RMSE: 5125.85\n"
     ]
    }
   ],
   "source": [
    "train_with_rmse(model=deep_model2,batch_size=50,\n",
    "    X_train=train_X,\n",
    "    y_train=train_y,\n",
    "    X_val=test_X,\n",
    "    y_val=test_y)"
   ]
  },
  {
   "cell_type": "code",
   "execution_count": 58,
   "id": "62963d1d",
   "metadata": {},
   "outputs": [],
   "source": [
    "simple_model = Baseline(layer_sizes=[20, 100, 50,25, 1])"
   ]
  },
  {
   "cell_type": "code",
   "execution_count": 59,
   "id": "f720b81c",
   "metadata": {},
   "outputs": [
    {
     "name": "stdout",
     "output_type": "stream",
     "text": [
      "Epoch [100/2000] | Train RMSE: 13944.49 K | Val RMSE: 14687.16\n",
      "Epoch [200/2000] | Train RMSE: 13838.50 K | Val RMSE: 14576.91\n",
      "Epoch [300/2000] | Train RMSE: 13435.25 K | Val RMSE: 14156.28\n",
      "Epoch [400/2000] | Train RMSE: 12567.67 K | Val RMSE: 13251.35\n",
      "Epoch [500/2000] | Train RMSE: 11225.94 K | Val RMSE: 11854.82\n",
      "Epoch [600/2000] | Train RMSE: 9659.09 K | Val RMSE: 10223.08\n",
      "Epoch [700/2000] | Train RMSE: 8293.49 K | Val RMSE: 8796.74\n",
      "Epoch [800/2000] | Train RMSE: 7416.28 K | Val RMSE: 7858.87\n",
      "Epoch [900/2000] | Train RMSE: 6909.73 K | Val RMSE: 7289.68\n",
      "Epoch [1000/2000] | Train RMSE: 6594.44 K | Val RMSE: 6918.93\n",
      "Epoch [1100/2000] | Train RMSE: 6363.25 K | Val RMSE: 6650.31\n",
      "Epoch [1200/2000] | Train RMSE: 6182.61 K | Val RMSE: 6440.79\n",
      "Epoch [1300/2000] | Train RMSE: 6026.27 K | Val RMSE: 6272.50\n",
      "Epoch [1400/2000] | Train RMSE: 5884.45 K | Val RMSE: 6128.80\n",
      "Epoch [1500/2000] | Train RMSE: 5749.35 K | Val RMSE: 6003.35\n",
      "Epoch [1600/2000] | Train RMSE: 5620.89 K | Val RMSE: 5888.78\n",
      "Epoch [1700/2000] | Train RMSE: 5496.54 K | Val RMSE: 5779.85\n",
      "Epoch [1800/2000] | Train RMSE: 5374.46 K | Val RMSE: 5678.14\n",
      "Epoch [1900/2000] | Train RMSE: 5258.34 K | Val RMSE: 5589.21\n",
      "Epoch [2000/2000] | Train RMSE: 5146.57 K | Val RMSE: 5501.16\n"
     ]
    }
   ],
   "source": [
    "train_with_rmse(model=simple_model,batch_size=50,\n",
    "    X_train=train_X,\n",
    "    y_train=train_y,\n",
    "    X_val=test_X,\n",
    "    y_val=test_y)"
   ]
  },
  {
   "cell_type": "code",
   "execution_count": 60,
   "id": "b5b56fc7",
   "metadata": {},
   "outputs": [],
   "source": [
    "simple_model = Baseline(layer_sizes=[20, 100,25, 1])"
   ]
  },
  {
   "cell_type": "code",
   "execution_count": 61,
   "id": "e60ade11",
   "metadata": {},
   "outputs": [
    {
     "name": "stdout",
     "output_type": "stream",
     "text": [
      "Epoch [100/2000] | Train RMSE: 13951.87 K | Val RMSE: 14694.88\n",
      "Epoch [200/2000] | Train RMSE: 13946.17 K | Val RMSE: 14689.00\n",
      "Epoch [300/2000] | Train RMSE: 13929.84 K | Val RMSE: 14672.15\n",
      "Epoch [400/2000] | Train RMSE: 13899.09 K | Val RMSE: 14640.35\n",
      "Epoch [500/2000] | Train RMSE: 13851.88 K | Val RMSE: 14591.42\n",
      "Epoch [600/2000] | Train RMSE: 13787.11 K | Val RMSE: 14524.29\n",
      "Epoch [700/2000] | Train RMSE: 13703.94 K | Val RMSE: 14438.05\n",
      "Epoch [800/2000] | Train RMSE: 13602.53 K | Val RMSE: 14332.62\n",
      "Epoch [900/2000] | Train RMSE: 13482.22 K | Val RMSE: 14207.56\n",
      "Epoch [1000/2000] | Train RMSE: 13341.31 K | Val RMSE: 14060.72\n",
      "Epoch [1100/2000] | Train RMSE: 13182.03 K | Val RMSE: 13894.52\n",
      "Epoch [1200/2000] | Train RMSE: 13004.98 K | Val RMSE: 13709.46\n",
      "Epoch [1300/2000] | Train RMSE: 12807.66 K | Val RMSE: 13502.85\n",
      "Epoch [1400/2000] | Train RMSE: 12590.21 K | Val RMSE: 13274.57\n",
      "Epoch [1500/2000] | Train RMSE: 12359.43 K | Val RMSE: 13032.53\n",
      "Epoch [1600/2000] | Train RMSE: 12109.35 K | Val RMSE: 12769.85\n",
      "Epoch [1700/2000] | Train RMSE: 11845.26 K | Val RMSE: 12492.33\n",
      "Epoch [1800/2000] | Train RMSE: 11567.02 K | Val RMSE: 12199.88\n",
      "Epoch [1900/2000] | Train RMSE: 11281.09 K | Val RMSE: 11898.89\n",
      "Epoch [2000/2000] | Train RMSE: 10982.92 K | Val RMSE: 11584.54\n"
     ]
    }
   ],
   "source": [
    "train_with_rmse(model=simple_model,batch_size=50,\n",
    "    X_train=train_X,\n",
    "    y_train=train_y,\n",
    "    X_val=test_X,\n",
    "    y_val=test_y)"
   ]
  },
  {
   "cell_type": "code",
   "execution_count": 62,
   "id": "aa40bde1",
   "metadata": {},
   "outputs": [],
   "source": [
    "deep_model3 = Baseline(layer_sizes=[20, 30, 40,50, 100,3,1])"
   ]
  },
  {
   "cell_type": "code",
   "execution_count": 63,
   "id": "f154dbd0",
   "metadata": {},
   "outputs": [
    {
     "name": "stdout",
     "output_type": "stream",
     "text": [
      "Epoch [100/2000] | Train RMSE: 13952.38 K | Val RMSE: 14695.43\n",
      "Epoch [200/2000] | Train RMSE: 13952.35 K | Val RMSE: 14695.40\n",
      "Epoch [300/2000] | Train RMSE: 13952.32 K | Val RMSE: 14695.37\n",
      "Epoch [400/2000] | Train RMSE: 13952.29 K | Val RMSE: 14695.34\n",
      "Epoch [500/2000] | Train RMSE: 13952.26 K | Val RMSE: 14695.31\n",
      "Epoch [600/2000] | Train RMSE: 13952.24 K | Val RMSE: 14695.29\n",
      "Epoch [700/2000] | Train RMSE: 13952.21 K | Val RMSE: 14695.25\n",
      "Epoch [800/2000] | Train RMSE: 13952.18 K | Val RMSE: 14695.23\n"
     ]
    },
    {
     "ename": "KeyboardInterrupt",
     "evalue": "",
     "output_type": "error",
     "traceback": [
      "\u001b[0;31m---------------------------------------------------------------------------\u001b[0m",
      "\u001b[0;31mKeyboardInterrupt\u001b[0m                         Traceback (most recent call last)",
      "\u001b[0;32m/tmp/ipykernel_152/1341090710.py\u001b[0m in \u001b[0;36m<module>\u001b[0;34m\u001b[0m\n\u001b[0;32m----> 1\u001b[0;31m train_with_rmse(model=deep_model3,batch_size=50,\n\u001b[0m\u001b[1;32m      2\u001b[0m     \u001b[0mX_train\u001b[0m\u001b[0;34m=\u001b[0m\u001b[0mtrain_X\u001b[0m\u001b[0;34m,\u001b[0m\u001b[0;34m\u001b[0m\u001b[0;34m\u001b[0m\u001b[0m\n\u001b[1;32m      3\u001b[0m     \u001b[0my_train\u001b[0m\u001b[0;34m=\u001b[0m\u001b[0mtrain_y\u001b[0m\u001b[0;34m,\u001b[0m\u001b[0;34m\u001b[0m\u001b[0;34m\u001b[0m\u001b[0m\n\u001b[1;32m      4\u001b[0m     \u001b[0mX_val\u001b[0m\u001b[0;34m=\u001b[0m\u001b[0mtest_X\u001b[0m\u001b[0;34m,\u001b[0m\u001b[0;34m\u001b[0m\u001b[0;34m\u001b[0m\u001b[0m\n\u001b[1;32m      5\u001b[0m     y_val=test_y)\n",
      "\u001b[0;32m/tmp/ipykernel_152/1221927596.py\u001b[0m in \u001b[0;36mtrain_with_rmse\u001b[0;34m(model, batch_size, X_train, y_train, X_val, y_val, num_epochs)\u001b[0m\n\u001b[1;32m     19\u001b[0m             \u001b[0moutputs\u001b[0m \u001b[0;34m=\u001b[0m \u001b[0mmodel\u001b[0m\u001b[0;34m(\u001b[0m\u001b[0mbatch_X\u001b[0m\u001b[0;34m)\u001b[0m\u001b[0;34m\u001b[0m\u001b[0;34m\u001b[0m\u001b[0m\n\u001b[1;32m     20\u001b[0m             \u001b[0mloss\u001b[0m \u001b[0;34m=\u001b[0m \u001b[0mcriterion\u001b[0m\u001b[0;34m(\u001b[0m\u001b[0moutputs\u001b[0m\u001b[0;34m,\u001b[0m \u001b[0mbatch_y\u001b[0m\u001b[0;34m)\u001b[0m\u001b[0;34m\u001b[0m\u001b[0;34m\u001b[0m\u001b[0m\n\u001b[0;32m---> 21\u001b[0;31m             \u001b[0mloss\u001b[0m\u001b[0;34m.\u001b[0m\u001b[0mbackward\u001b[0m\u001b[0;34m(\u001b[0m\u001b[0;34m)\u001b[0m\u001b[0;34m\u001b[0m\u001b[0;34m\u001b[0m\u001b[0m\n\u001b[0m\u001b[1;32m     22\u001b[0m             \u001b[0moptimizer\u001b[0m\u001b[0;34m.\u001b[0m\u001b[0mstep\u001b[0m\u001b[0;34m(\u001b[0m\u001b[0;34m)\u001b[0m\u001b[0;34m\u001b[0m\u001b[0;34m\u001b[0m\u001b[0m\n\u001b[1;32m     23\u001b[0m             \u001b[0mepoch_loss\u001b[0m \u001b[0;34m+=\u001b[0m \u001b[0mloss\u001b[0m\u001b[0;34m.\u001b[0m\u001b[0mitem\u001b[0m\u001b[0;34m(\u001b[0m\u001b[0;34m)\u001b[0m\u001b[0;34m\u001b[0m\u001b[0;34m\u001b[0m\u001b[0m\n",
      "\u001b[0;32m/opt/conda/lib/python3.9/site-packages/torch/_tensor.py\u001b[0m in \u001b[0;36mbackward\u001b[0;34m(self, gradient, retain_graph, create_graph, inputs)\u001b[0m\n\u001b[1;32m    305\u001b[0m                 \u001b[0mcreate_graph\u001b[0m\u001b[0;34m=\u001b[0m\u001b[0mcreate_graph\u001b[0m\u001b[0;34m,\u001b[0m\u001b[0;34m\u001b[0m\u001b[0;34m\u001b[0m\u001b[0m\n\u001b[1;32m    306\u001b[0m                 inputs=inputs)\n\u001b[0;32m--> 307\u001b[0;31m         \u001b[0mtorch\u001b[0m\u001b[0;34m.\u001b[0m\u001b[0mautograd\u001b[0m\u001b[0;34m.\u001b[0m\u001b[0mbackward\u001b[0m\u001b[0;34m(\u001b[0m\u001b[0mself\u001b[0m\u001b[0;34m,\u001b[0m \u001b[0mgradient\u001b[0m\u001b[0;34m,\u001b[0m \u001b[0mretain_graph\u001b[0m\u001b[0;34m,\u001b[0m \u001b[0mcreate_graph\u001b[0m\u001b[0;34m,\u001b[0m \u001b[0minputs\u001b[0m\u001b[0;34m=\u001b[0m\u001b[0minputs\u001b[0m\u001b[0;34m)\u001b[0m\u001b[0;34m\u001b[0m\u001b[0;34m\u001b[0m\u001b[0m\n\u001b[0m\u001b[1;32m    308\u001b[0m \u001b[0;34m\u001b[0m\u001b[0m\n\u001b[1;32m    309\u001b[0m     \u001b[0;32mdef\u001b[0m \u001b[0mregister_hook\u001b[0m\u001b[0;34m(\u001b[0m\u001b[0mself\u001b[0m\u001b[0;34m,\u001b[0m \u001b[0mhook\u001b[0m\u001b[0;34m)\u001b[0m\u001b[0;34m:\u001b[0m\u001b[0;34m\u001b[0m\u001b[0;34m\u001b[0m\u001b[0m\n",
      "\u001b[0;32m/opt/conda/lib/python3.9/site-packages/torch/autograd/__init__.py\u001b[0m in \u001b[0;36mbackward\u001b[0;34m(tensors, grad_tensors, retain_graph, create_graph, grad_variables, inputs)\u001b[0m\n\u001b[1;32m    152\u001b[0m         \u001b[0mretain_graph\u001b[0m \u001b[0;34m=\u001b[0m \u001b[0mcreate_graph\u001b[0m\u001b[0;34m\u001b[0m\u001b[0;34m\u001b[0m\u001b[0m\n\u001b[1;32m    153\u001b[0m \u001b[0;34m\u001b[0m\u001b[0m\n\u001b[0;32m--> 154\u001b[0;31m     Variable._execution_engine.run_backward(\n\u001b[0m\u001b[1;32m    155\u001b[0m         \u001b[0mtensors\u001b[0m\u001b[0;34m,\u001b[0m \u001b[0mgrad_tensors_\u001b[0m\u001b[0;34m,\u001b[0m \u001b[0mretain_graph\u001b[0m\u001b[0;34m,\u001b[0m \u001b[0mcreate_graph\u001b[0m\u001b[0;34m,\u001b[0m \u001b[0minputs\u001b[0m\u001b[0;34m,\u001b[0m\u001b[0;34m\u001b[0m\u001b[0;34m\u001b[0m\u001b[0m\n\u001b[1;32m    156\u001b[0m         allow_unreachable=True, accumulate_grad=True)  # allow_unreachable flag\n",
      "\u001b[0;31mKeyboardInterrupt\u001b[0m: "
     ]
    }
   ],
   "source": [
    "train_with_rmse(model=deep_model3,batch_size=50,\n",
    "    X_train=train_X,\n",
    "    y_train=train_y,\n",
    "    X_val=test_X,\n",
    "    y_val=test_y)"
   ]
  },
  {
   "cell_type": "code",
   "execution_count": null,
   "id": "de7baa70",
   "metadata": {},
   "outputs": [],
   "source": [
    "Делаем вывод, что более сложные модели справляются лучше"
   ]
  },
  {
   "cell_type": "markdown",
   "id": "7fb51356",
   "metadata": {},
   "source": [
    "Cтроим график с лучшей из моделей:"
   ]
  },
  {
   "cell_type": "code",
   "execution_count": 74,
   "id": "5afc9d4f",
   "metadata": {},
   "outputs": [],
   "source": [
    "def plot_(m,x,y):\n",
    "    m.eval()\n",
    "    with torch.no_grad():\n",
    "        pred = m(x).squeeze()\n",
    "\n",
    "    y_true = y.numpy()\n",
    "    y_pred = pred.numpy()\n",
    "\n",
    "    \n",
    "    indices = np.arange(len(y_true))\n",
    "\n",
    "    plt.figure(figsize=(14, 8))\n",
    "\n",
    "    plt.plot(indices, y_true, \n",
    "             color='blue', \n",
    "             marker='o', \n",
    "             markersize=4,\n",
    "             linestyle='-',\n",
    "             linewidth=1.5,\n",
    "             alpha=0.7,\n",
    "             label='Фактическая температура (y_test)')\n",
    "\n",
    "    plt.plot(indices, y_pred, \n",
    "             color='red', \n",
    "             marker='x', \n",
    "             markersize=5,\n",
    "             linestyle='--',\n",
    "             linewidth=1.2,\n",
    "             alpha=0.9,\n",
    "             label='Прогноз модели (pred)')\n",
    "\n",
    "    plt.title('Сравнение фактической и прогнозируемой температуры звезд', fontsize=16, pad=20)\n",
    "    plt.xlabel('Звезды в таблице данных', fontsize=14)\n",
    "    plt.ylabel('Температура звезды (K)', fontsize=14)\n",
    "    plt.legend(fontsize=12, loc='best')\n",
    "\n",
    "    plt.grid(True, linestyle='--', alpha=0.6)\n",
    "    plt.ylim(min(y_true.min(), y_pred.min()), \n",
    "             max(y_true.max(), y_pred.max()))\n",
    "\n",
    "    plt.xticks(fontsize=10)\n",
    "    plt.yticks(np.arange(0, max(y_true.max(), y_pred.max()) + 1000, 1000), fontsize=10)\n",
    "    plt.tight_layout()\n",
    "\n",
    "    plt.show()"
   ]
  },
  {
   "cell_type": "code",
   "execution_count": 81,
   "id": "8cd74f29",
   "metadata": {},
   "outputs": [
    {
     "data": {
      "image/png": "[encoded data removed]",
      "text/plain": [
       "<Figure size 1008x576 with 1 Axes>"
      ]
     },
     "metadata": {
      "needs_background": "light"
     },
     "output_type": "display_data"
    }
   ],
   "source": [
    "plot_(deep_model2,train_X,train_y)"
   ]
  },
  {
   "cell_type": "markdown",
   "id": "3f3ae0c6",
   "metadata": {},
   "source": [
    "Cоздаем еще одну модель с использованием BatchNorm"
   ]
  },
  {
   "cell_type": "code",
   "execution_count": null,
   "id": "02e41360",
   "metadata": {},
   "outputs": [],
   "source": [
    "видим, что Batchnorm не улучшает модель, отказываемся от его использования. Пробуем строить модель с drop_out"
   ]
  },
  {
   "cell_type": "code",
   "execution_count": 46,
   "id": "e710944a",
   "metadata": {},
   "outputs": [],
   "source": [
    "class Baseline_batch(nn.Module):\n",
    "    def __init__(self, layer_sizes=[20, 200, 36, 16, 1], use_batchnorm=True):\n",
    "       \n",
    "        super(Baseline_batch, self).__init__()\n",
    "        self.layers = nn.ModuleList()\n",
    "        self.batchnorms = nn.ModuleList() if use_batchnorm else None\n",
    "        self.relu = nn.ReLU()\n",
    "        self.use_batchnorm = use_batchnorm\n",
    "\n",
    "        for i in range(len(layer_sizes)-1):\n",
    "            self.layers.append(nn.Linear(layer_sizes[i], layer_sizes[i+1]))\n",
    "            if use_batchnorm and i < len(layer_sizes)-2:  \n",
    "                self.batchnorms.append(nn.BatchNorm1d(layer_sizes[i+1]))\n",
    "        \n",
    "    def forward(self, x):\n",
    "        for i, layer in enumerate(self.layers):\n",
    "            x = layer(x)\n",
    "            \n",
    "            if i != len(self.layers)-1:\n",
    "                if self.use_batchnorm:\n",
    "                    x = self.batchnorms[i](x)\n",
    "                x = self.relu(x)\n",
    "                \n",
    "        return x"
   ]
  },
  {
   "cell_type": "code",
   "execution_count": 47,
   "id": "0253f528",
   "metadata": {},
   "outputs": [],
   "source": [
    "model_batch = Baseline(layer_sizes=[20, 256, 36, 128, 64,8, 32, 16, 1])"
   ]
  },
  {
   "cell_type": "code",
   "execution_count": 48,
   "id": "0c18aca5",
   "metadata": {},
   "outputs": [
    {
     "name": "stdout",
     "output_type": "stream",
     "text": [
      "Epoch [100/2000] | Train RMSE: 9419.50 K | Val RMSE: 9964.21\n",
      "Epoch [200/2000] | Train RMSE: 6307.60 K | Val RMSE: 6604.73\n",
      "Epoch [300/2000] | Train RMSE: 5591.56 K | Val RMSE: 5909.10\n",
      "Epoch [400/2000] | Train RMSE: 5097.99 K | Val RMSE: 5510.66\n",
      "Epoch [500/2000] | Train RMSE: 4715.03 K | Val RMSE: 5250.13\n",
      "Epoch [600/2000] | Train RMSE: 4435.14 K | Val RMSE: 5103.52\n",
      "Epoch [700/2000] | Train RMSE: 4235.75 K | Val RMSE: 5036.02\n",
      "Epoch [800/2000] | Train RMSE: 4091.05 K | Val RMSE: 5025.88\n",
      "Epoch [900/2000] | Train RMSE: 3981.91 K | Val RMSE: 5045.27\n",
      "Epoch [1000/2000] | Train RMSE: 3899.23 K | Val RMSE: 5074.24\n",
      "Epoch [1100/2000] | Train RMSE: 3832.99 K | Val RMSE: 5096.48\n",
      "Epoch [1200/2000] | Train RMSE: 3778.22 K | Val RMSE: 5109.81\n",
      "Epoch [1300/2000] | Train RMSE: 3730.98 K | Val RMSE: 5126.35\n",
      "Epoch [1400/2000] | Train RMSE: 3688.85 K | Val RMSE: 5127.93\n",
      "Epoch [1500/2000] | Train RMSE: 3652.28 K | Val RMSE: 5134.13\n",
      "Epoch [1600/2000] | Train RMSE: 3617.80 K | Val RMSE: 5135.21\n",
      "Epoch [1700/2000] | Train RMSE: 3588.75 K | Val RMSE: 5143.64\n"
     ]
    },
    {
     "ename": "KeyboardInterrupt",
     "evalue": "",
     "output_type": "error",
     "traceback": [
      "\u001b[0;31m---------------------------------------------------------------------------\u001b[0m",
      "\u001b[0;31mKeyboardInterrupt\u001b[0m                         Traceback (most recent call last)",
      "\u001b[0;32m/tmp/ipykernel_48/956111738.py\u001b[0m in \u001b[0;36m<module>\u001b[0;34m\u001b[0m\n\u001b[0;32m----> 1\u001b[0;31m train_with_rmse(model=model_batch,batch_size=30,\n\u001b[0m\u001b[1;32m      2\u001b[0m     \u001b[0mX_train\u001b[0m\u001b[0;34m=\u001b[0m\u001b[0mtrain_X\u001b[0m\u001b[0;34m,\u001b[0m\u001b[0;34m\u001b[0m\u001b[0;34m\u001b[0m\u001b[0m\n\u001b[1;32m      3\u001b[0m     \u001b[0my_train\u001b[0m\u001b[0;34m=\u001b[0m\u001b[0mtrain_y\u001b[0m\u001b[0;34m,\u001b[0m\u001b[0;34m\u001b[0m\u001b[0;34m\u001b[0m\u001b[0m\n\u001b[1;32m      4\u001b[0m     \u001b[0mX_val\u001b[0m\u001b[0;34m=\u001b[0m\u001b[0mtest_X\u001b[0m\u001b[0;34m,\u001b[0m\u001b[0;34m\u001b[0m\u001b[0;34m\u001b[0m\u001b[0m\n\u001b[1;32m      5\u001b[0m     y_val=test_y)\n",
      "\u001b[0;32m/tmp/ipykernel_48/1221927596.py\u001b[0m in \u001b[0;36mtrain_with_rmse\u001b[0;34m(model, batch_size, X_train, y_train, X_val, y_val, num_epochs)\u001b[0m\n\u001b[1;32m     17\u001b[0m \u001b[0;34m\u001b[0m\u001b[0m\n\u001b[1;32m     18\u001b[0m             \u001b[0moptimizer\u001b[0m\u001b[0;34m.\u001b[0m\u001b[0mzero_grad\u001b[0m\u001b[0;34m(\u001b[0m\u001b[0;34m)\u001b[0m\u001b[0;34m\u001b[0m\u001b[0;34m\u001b[0m\u001b[0m\n\u001b[0;32m---> 19\u001b[0;31m             \u001b[0moutputs\u001b[0m \u001b[0;34m=\u001b[0m \u001b[0mmodel\u001b[0m\u001b[0;34m(\u001b[0m\u001b[0mbatch_X\u001b[0m\u001b[0;34m)\u001b[0m\u001b[0;34m\u001b[0m\u001b[0;34m\u001b[0m\u001b[0m\n\u001b[0m\u001b[1;32m     20\u001b[0m             \u001b[0mloss\u001b[0m \u001b[0;34m=\u001b[0m \u001b[0mcriterion\u001b[0m\u001b[0;34m(\u001b[0m\u001b[0moutputs\u001b[0m\u001b[0;34m,\u001b[0m \u001b[0mbatch_y\u001b[0m\u001b[0;34m)\u001b[0m\u001b[0;34m\u001b[0m\u001b[0;34m\u001b[0m\u001b[0m\n\u001b[1;32m     21\u001b[0m             \u001b[0mloss\u001b[0m\u001b[0;34m.\u001b[0m\u001b[0mbackward\u001b[0m\u001b[0;34m(\u001b[0m\u001b[0;34m)\u001b[0m\u001b[0;34m\u001b[0m\u001b[0;34m\u001b[0m\u001b[0m\n",
      "\u001b[0;32m/opt/conda/lib/python3.9/site-packages/torch/nn/modules/module.py\u001b[0m in \u001b[0;36m_call_impl\u001b[0;34m(self, *input, **kwargs)\u001b[0m\n\u001b[1;32m   1100\u001b[0m         if not (self._backward_hooks or self._forward_hooks or self._forward_pre_hooks or _global_backward_hooks\n\u001b[1;32m   1101\u001b[0m                 or _global_forward_hooks or _global_forward_pre_hooks):\n\u001b[0;32m-> 1102\u001b[0;31m             \u001b[0;32mreturn\u001b[0m \u001b[0mforward_call\u001b[0m\u001b[0;34m(\u001b[0m\u001b[0;34m*\u001b[0m\u001b[0minput\u001b[0m\u001b[0;34m,\u001b[0m \u001b[0;34m**\u001b[0m\u001b[0mkwargs\u001b[0m\u001b[0;34m)\u001b[0m\u001b[0;34m\u001b[0m\u001b[0;34m\u001b[0m\u001b[0m\n\u001b[0m\u001b[1;32m   1103\u001b[0m         \u001b[0;31m# Do not call functions when jit is used\u001b[0m\u001b[0;34m\u001b[0m\u001b[0;34m\u001b[0m\u001b[0;34m\u001b[0m\u001b[0m\n\u001b[1;32m   1104\u001b[0m         \u001b[0mfull_backward_hooks\u001b[0m\u001b[0;34m,\u001b[0m \u001b[0mnon_full_backward_hooks\u001b[0m \u001b[0;34m=\u001b[0m \u001b[0;34m[\u001b[0m\u001b[0;34m]\u001b[0m\u001b[0;34m,\u001b[0m \u001b[0;34m[\u001b[0m\u001b[0;34m]\u001b[0m\u001b[0;34m\u001b[0m\u001b[0;34m\u001b[0m\u001b[0m\n",
      "\u001b[0;32m/tmp/ipykernel_48/1474708382.py\u001b[0m in \u001b[0;36mforward\u001b[0;34m(self, x)\u001b[0m\n\u001b[1;32m     11\u001b[0m     \u001b[0;32mdef\u001b[0m \u001b[0mforward\u001b[0m\u001b[0;34m(\u001b[0m\u001b[0mself\u001b[0m\u001b[0;34m,\u001b[0m \u001b[0mx\u001b[0m\u001b[0;34m)\u001b[0m\u001b[0;34m:\u001b[0m\u001b[0;34m\u001b[0m\u001b[0;34m\u001b[0m\u001b[0m\n\u001b[1;32m     12\u001b[0m         \u001b[0;32mfor\u001b[0m \u001b[0mi\u001b[0m\u001b[0;34m,\u001b[0m \u001b[0mlayer\u001b[0m \u001b[0;32min\u001b[0m \u001b[0menumerate\u001b[0m\u001b[0;34m(\u001b[0m\u001b[0mself\u001b[0m\u001b[0;34m.\u001b[0m\u001b[0mlayers\u001b[0m\u001b[0;34m)\u001b[0m\u001b[0;34m:\u001b[0m\u001b[0;34m\u001b[0m\u001b[0;34m\u001b[0m\u001b[0m\n\u001b[0;32m---> 13\u001b[0;31m             \u001b[0mx\u001b[0m \u001b[0;34m=\u001b[0m \u001b[0mlayer\u001b[0m\u001b[0;34m(\u001b[0m\u001b[0mx\u001b[0m\u001b[0;34m)\u001b[0m\u001b[0;34m\u001b[0m\u001b[0;34m\u001b[0m\u001b[0m\n\u001b[0m\u001b[1;32m     14\u001b[0m             \u001b[0;32mif\u001b[0m \u001b[0mi\u001b[0m \u001b[0;34m!=\u001b[0m \u001b[0mlen\u001b[0m\u001b[0;34m(\u001b[0m\u001b[0mself\u001b[0m\u001b[0;34m.\u001b[0m\u001b[0mlayers\u001b[0m\u001b[0;34m)\u001b[0m\u001b[0;34m-\u001b[0m\u001b[0;36m1\u001b[0m\u001b[0;34m:\u001b[0m\u001b[0;34m\u001b[0m\u001b[0;34m\u001b[0m\u001b[0m\n\u001b[1;32m     15\u001b[0m                 \u001b[0mx\u001b[0m \u001b[0;34m=\u001b[0m \u001b[0mself\u001b[0m\u001b[0;34m.\u001b[0m\u001b[0mrelu\u001b[0m\u001b[0;34m(\u001b[0m\u001b[0mx\u001b[0m\u001b[0;34m)\u001b[0m\u001b[0;34m\u001b[0m\u001b[0;34m\u001b[0m\u001b[0m\n",
      "\u001b[0;32m/opt/conda/lib/python3.9/site-packages/torch/nn/modules/module.py\u001b[0m in \u001b[0;36m_call_impl\u001b[0;34m(self, *input, **kwargs)\u001b[0m\n\u001b[1;32m   1100\u001b[0m         if not (self._backward_hooks or self._forward_hooks or self._forward_pre_hooks or _global_backward_hooks\n\u001b[1;32m   1101\u001b[0m                 or _global_forward_hooks or _global_forward_pre_hooks):\n\u001b[0;32m-> 1102\u001b[0;31m             \u001b[0;32mreturn\u001b[0m \u001b[0mforward_call\u001b[0m\u001b[0;34m(\u001b[0m\u001b[0;34m*\u001b[0m\u001b[0minput\u001b[0m\u001b[0;34m,\u001b[0m \u001b[0;34m**\u001b[0m\u001b[0mkwargs\u001b[0m\u001b[0;34m)\u001b[0m\u001b[0;34m\u001b[0m\u001b[0;34m\u001b[0m\u001b[0m\n\u001b[0m\u001b[1;32m   1103\u001b[0m         \u001b[0;31m# Do not call functions when jit is used\u001b[0m\u001b[0;34m\u001b[0m\u001b[0;34m\u001b[0m\u001b[0;34m\u001b[0m\u001b[0m\n\u001b[1;32m   1104\u001b[0m         \u001b[0mfull_backward_hooks\u001b[0m\u001b[0;34m,\u001b[0m \u001b[0mnon_full_backward_hooks\u001b[0m \u001b[0;34m=\u001b[0m \u001b[0;34m[\u001b[0m\u001b[0;34m]\u001b[0m\u001b[0;34m,\u001b[0m \u001b[0;34m[\u001b[0m\u001b[0;34m]\u001b[0m\u001b[0;34m\u001b[0m\u001b[0;34m\u001b[0m\u001b[0m\n",
      "\u001b[0;32m/opt/conda/lib/python3.9/site-packages/torch/nn/modules/linear.py\u001b[0m in \u001b[0;36mforward\u001b[0;34m(self, input)\u001b[0m\n\u001b[1;32m    101\u001b[0m \u001b[0;34m\u001b[0m\u001b[0m\n\u001b[1;32m    102\u001b[0m     \u001b[0;32mdef\u001b[0m \u001b[0mforward\u001b[0m\u001b[0;34m(\u001b[0m\u001b[0mself\u001b[0m\u001b[0;34m,\u001b[0m \u001b[0minput\u001b[0m\u001b[0;34m:\u001b[0m \u001b[0mTensor\u001b[0m\u001b[0;34m)\u001b[0m \u001b[0;34m->\u001b[0m \u001b[0mTensor\u001b[0m\u001b[0;34m:\u001b[0m\u001b[0;34m\u001b[0m\u001b[0;34m\u001b[0m\u001b[0m\n\u001b[0;32m--> 103\u001b[0;31m         \u001b[0;32mreturn\u001b[0m \u001b[0mF\u001b[0m\u001b[0;34m.\u001b[0m\u001b[0mlinear\u001b[0m\u001b[0;34m(\u001b[0m\u001b[0minput\u001b[0m\u001b[0;34m,\u001b[0m \u001b[0mself\u001b[0m\u001b[0;34m.\u001b[0m\u001b[0mweight\u001b[0m\u001b[0;34m,\u001b[0m \u001b[0mself\u001b[0m\u001b[0;34m.\u001b[0m\u001b[0mbias\u001b[0m\u001b[0;34m)\u001b[0m\u001b[0;34m\u001b[0m\u001b[0;34m\u001b[0m\u001b[0m\n\u001b[0m\u001b[1;32m    104\u001b[0m \u001b[0;34m\u001b[0m\u001b[0m\n\u001b[1;32m    105\u001b[0m     \u001b[0;32mdef\u001b[0m \u001b[0mextra_repr\u001b[0m\u001b[0;34m(\u001b[0m\u001b[0mself\u001b[0m\u001b[0;34m)\u001b[0m \u001b[0;34m->\u001b[0m \u001b[0mstr\u001b[0m\u001b[0;34m:\u001b[0m\u001b[0;34m\u001b[0m\u001b[0;34m\u001b[0m\u001b[0m\n",
      "\u001b[0;32m/opt/conda/lib/python3.9/site-packages/torch/nn/functional.py\u001b[0m in \u001b[0;36mlinear\u001b[0;34m(input, weight, bias)\u001b[0m\n\u001b[1;32m   1846\u001b[0m     \u001b[0;32mif\u001b[0m \u001b[0mhas_torch_function_variadic\u001b[0m\u001b[0;34m(\u001b[0m\u001b[0minput\u001b[0m\u001b[0;34m,\u001b[0m \u001b[0mweight\u001b[0m\u001b[0;34m,\u001b[0m \u001b[0mbias\u001b[0m\u001b[0;34m)\u001b[0m\u001b[0;34m:\u001b[0m\u001b[0;34m\u001b[0m\u001b[0;34m\u001b[0m\u001b[0m\n\u001b[1;32m   1847\u001b[0m         \u001b[0;32mreturn\u001b[0m \u001b[0mhandle_torch_function\u001b[0m\u001b[0;34m(\u001b[0m\u001b[0mlinear\u001b[0m\u001b[0;34m,\u001b[0m \u001b[0;34m(\u001b[0m\u001b[0minput\u001b[0m\u001b[0;34m,\u001b[0m \u001b[0mweight\u001b[0m\u001b[0;34m,\u001b[0m \u001b[0mbias\u001b[0m\u001b[0;34m)\u001b[0m\u001b[0;34m,\u001b[0m \u001b[0minput\u001b[0m\u001b[0;34m,\u001b[0m \u001b[0mweight\u001b[0m\u001b[0;34m,\u001b[0m \u001b[0mbias\u001b[0m\u001b[0;34m=\u001b[0m\u001b[0mbias\u001b[0m\u001b[0;34m)\u001b[0m\u001b[0;34m\u001b[0m\u001b[0;34m\u001b[0m\u001b[0m\n\u001b[0;32m-> 1848\u001b[0;31m     \u001b[0;32mreturn\u001b[0m \u001b[0mtorch\u001b[0m\u001b[0;34m.\u001b[0m\u001b[0m_C\u001b[0m\u001b[0;34m.\u001b[0m\u001b[0m_nn\u001b[0m\u001b[0;34m.\u001b[0m\u001b[0mlinear\u001b[0m\u001b[0;34m(\u001b[0m\u001b[0minput\u001b[0m\u001b[0;34m,\u001b[0m \u001b[0mweight\u001b[0m\u001b[0;34m,\u001b[0m \u001b[0mbias\u001b[0m\u001b[0;34m)\u001b[0m\u001b[0;34m\u001b[0m\u001b[0;34m\u001b[0m\u001b[0m\n\u001b[0m\u001b[1;32m   1849\u001b[0m \u001b[0;34m\u001b[0m\u001b[0m\n\u001b[1;32m   1850\u001b[0m \u001b[0;34m\u001b[0m\u001b[0m\n",
      "\u001b[0;31mKeyboardInterrupt\u001b[0m: "
     ]
    }
   ],
   "source": [
    "train_with_rmse(model=model_batch,batch_size=30,\n",
    "    X_train=train_X,\n",
    "    y_train=train_y,\n",
    "    X_val=test_X,\n",
    "    y_val=test_y)"
   ]
  },
  {
   "cell_type": "code",
   "execution_count": null,
   "id": "b88eb39a",
   "metadata": {},
   "outputs": [],
   "source": []
  },
  {
   "cell_type": "code",
   "execution_count": 75,
   "id": "dc19d0dd",
   "metadata": {},
   "outputs": [],
   "source": [
    "class AdvancedBaseline(nn.Module):\n",
    "    def __init__(self, layer_sizes=[20, 256, 36, 128, 64, 8, 32, 16, 1]):\n",
    "        super(AdvancedBaseline, self).__init__()\n",
    "        self.layer_sizes = layer_sizes\n",
    "        self.layers = nn.ModuleList()\n",
    "        \n",
    "        # Создаем слои с BatchNorm и Dropout\n",
    "        for i in range(len(layer_sizes)-1):\n",
    "            self.layers.append(nn.Linear(layer_sizes[i], layer_sizes[i+1]))\n",
    "            if i < len(layer_sizes)-2:  # Не добавляем для последнего слоя\n",
    "                self.layers.append(nn.BatchNorm1d(layer_sizes[i+1]))\n",
    "                self.layers.append(nn.ReLU())\n",
    "                self.layers.append(nn.Dropout(0.2))\n",
    "    \n",
    "    def forward(self, x):\n",
    "        for layer in self.layers:\n",
    "            x = layer(x)\n",
    "        return x"
   ]
  },
  {
   "cell_type": "code",
   "execution_count": 76,
   "id": "12cda81d",
   "metadata": {},
   "outputs": [],
   "source": [
    "new_model = AdvancedBaseline()"
   ]
  },
  {
   "cell_type": "code",
   "execution_count": 77,
   "id": "4c9bad27",
   "metadata": {},
   "outputs": [],
   "source": [
    "def train_with_rmse2(model, X_train, y_train, X_val, y_val, \n",
    "                   batch_sizes=[16, 25,32, 40, 45, 55],\n",
    "                   num_epochs=2000):\n",
    "    \n",
    "    \n",
    "    criterion = nn.MSELoss()\n",
    "    best_batch_size = None\n",
    "    best_val_rmse = float('inf')\n",
    "    best_model = None\n",
    "    \n",
    "    for batch_size in batch_sizes:\n",
    "        print(f\"\\nTraining with batch_size = {batch_size}\")\n",
    "        \n",
    "        train_loader = DataLoader(X_train, batch_size=batch_size, shuffle=True)\n",
    "        val_loader = DataLoader(y_train, batch_size=batch_size)\n",
    "        \n",
    "        # Вместо копирования создаем новую модель с той же архитектурой\n",
    "        current_model = type(model)(layer_sizes=model.layer_sizes)\n",
    "        optimizer = optim.Adam(current_model.parameters(), lr=0.0001, weight_decay=1e-5)\n",
    "        \n",
    "        train_rmse = []\n",
    "        val_rmse = []\n",
    "        \n",
    "        for epoch in range(num_epochs):\n",
    "            current_model.train()\n",
    "            epoch_loss = 0\n",
    "            \n",
    "            for batch_X, batch_y in train_loader:\n",
    "                optimizer.zero_grad()\n",
    "                outputs = current_model(batch_X)\n",
    "                loss = criterion(outputs, batch_y)\n",
    "                loss.backward()\n",
    "                optimizer.step()\n",
    "                epoch_loss += loss.item()\n",
    "            \n",
    "            current_model.eval()\n",
    "            with torch.no_grad():\n",
    "                train_preds = current_model(X_train)\n",
    "                train_rmse.append(np.sqrt(mean_squared_error(y_train.numpy(), train_preds.numpy())))\n",
    "                \n",
    "                val_preds = current_model(X_val)\n",
    "                current_val_rmse = np.sqrt(mean_squared_error(y_val.numpy(), val_preds.numpy()))\n",
    "                val_rmse.append(current_val_rmse)\n",
    "            \n",
    "            if (epoch+1) % 100 == 0:\n",
    "                print(f'Epoch [{epoch+1}/{num_epochs}] | Train RMSE: {train_rmse[-1]:.2f} | Val RMSE: {val_rmse[-1]:.2f}')\n",
    "        \n",
    "        if min(val_rmse) < best_val_rmse:\n",
    "            best_val_rmse = min(val_rmse)\n",
    "            best_batch_size = batch_size\n",
    "            best_model = current_model\n",
    "            print(f\"New best batch_size: {batch_size} with Val RMSE: {best_val_rmse:.2f}\")\n",
    "    \n",
    "    print(f\"\\nBest batch_size: {best_batch_size} with Val RMSE: {best_val_rmse:.2f}\")\n",
    "    return best_model, best_batch_size, train_rmse, val_rmse"
   ]
  },
  {
   "cell_type": "code",
   "execution_count": 78,
   "id": "54d17921",
   "metadata": {},
   "outputs": [
    {
     "name": "stdout",
     "output_type": "stream",
     "text": [
      "\n",
      "Training with batch_size = 16\n"
     ]
    },
    {
     "ename": "ValueError",
     "evalue": "too many values to unpack (expected 2)",
     "output_type": "error",
     "traceback": [
      "\u001b[0;31m---------------------------------------------------------------------------\u001b[0m",
      "\u001b[0;31mValueError\u001b[0m                                Traceback (most recent call last)",
      "\u001b[0;32m/tmp/ipykernel_48/105962188.py\u001b[0m in \u001b[0;36m<module>\u001b[0;34m\u001b[0m\n\u001b[0;32m----> 1\u001b[0;31m best_model, best_batch, train_hist, val_hist = train_with_rmse2(\n\u001b[0m\u001b[1;32m      2\u001b[0m     \u001b[0mnew_model\u001b[0m\u001b[0;34m,\u001b[0m\u001b[0;34m\u001b[0m\u001b[0;34m\u001b[0m\u001b[0m\n\u001b[1;32m      3\u001b[0m     \u001b[0mtrain_X\u001b[0m\u001b[0;34m,\u001b[0m\u001b[0;34m\u001b[0m\u001b[0;34m\u001b[0m\u001b[0m\n\u001b[1;32m      4\u001b[0m     \u001b[0mtrain_y\u001b[0m\u001b[0;34m,\u001b[0m\u001b[0;34m\u001b[0m\u001b[0;34m\u001b[0m\u001b[0m\n\u001b[1;32m      5\u001b[0m     \u001b[0mtest_X\u001b[0m\u001b[0;34m,\u001b[0m\u001b[0;34m\u001b[0m\u001b[0;34m\u001b[0m\u001b[0m\n",
      "\u001b[0;32m/tmp/ipykernel_48/253623791.py\u001b[0m in \u001b[0;36mtrain_with_rmse2\u001b[0;34m(model, X_train, y_train, X_val, y_val, batch_sizes, num_epochs)\u001b[0m\n\u001b[1;32m     26\u001b[0m             \u001b[0mepoch_loss\u001b[0m \u001b[0;34m=\u001b[0m \u001b[0;36m0\u001b[0m\u001b[0;34m\u001b[0m\u001b[0;34m\u001b[0m\u001b[0m\n\u001b[1;32m     27\u001b[0m \u001b[0;34m\u001b[0m\u001b[0m\n\u001b[0;32m---> 28\u001b[0;31m             \u001b[0;32mfor\u001b[0m \u001b[0mbatch_X\u001b[0m\u001b[0;34m,\u001b[0m \u001b[0mbatch_y\u001b[0m \u001b[0;32min\u001b[0m \u001b[0mtrain_loader\u001b[0m\u001b[0;34m:\u001b[0m\u001b[0;34m\u001b[0m\u001b[0;34m\u001b[0m\u001b[0m\n\u001b[0m\u001b[1;32m     29\u001b[0m                 \u001b[0moptimizer\u001b[0m\u001b[0;34m.\u001b[0m\u001b[0mzero_grad\u001b[0m\u001b[0;34m(\u001b[0m\u001b[0;34m)\u001b[0m\u001b[0;34m\u001b[0m\u001b[0;34m\u001b[0m\u001b[0m\n\u001b[1;32m     30\u001b[0m                 \u001b[0moutputs\u001b[0m \u001b[0;34m=\u001b[0m \u001b[0mcurrent_model\u001b[0m\u001b[0;34m(\u001b[0m\u001b[0mbatch_X\u001b[0m\u001b[0;34m)\u001b[0m\u001b[0;34m\u001b[0m\u001b[0;34m\u001b[0m\u001b[0m\n",
      "\u001b[0;31mValueError\u001b[0m: too many values to unpack (expected 2)"
     ]
    }
   ],
   "source": [
    "best_model, best_batch, train_hist, val_hist = train_with_rmse2(\n",
    "    new_model,\n",
    "    train_X,\n",
    "    train_y,\n",
    "    test_X,\n",
    "    test_y\n",
    ")"
   ]
  },
  {
   "cell_type": "code",
   "execution_count": null,
   "id": "d29db277",
   "metadata": {},
   "outputs": [],
   "source": []
  },
  {
   "cell_type": "code",
   "execution_count": null,
   "id": "11668aac",
   "metadata": {},
   "outputs": [],
   "source": []
  },
  {
   "cell_type": "code",
   "execution_count": null,
   "id": "568da53a",
   "metadata": {},
   "outputs": [],
   "source": []
  },
  {
   "cell_type": "code",
   "execution_count": 55,
   "id": "d7c5af19",
   "metadata": {},
   "outputs": [],
   "source": [
    "from sklearn.metrics import mean_squared_error\n",
    "import numpy as np\n",
    "import torch\n",
    "import torch.nn as nn\n",
    "import torch.optim as optim\n",
    "from torch.utils.data import DataLoader, TensorDataset\n",
    "\n",
    "def train_with_rmse2(model, X_train, y_train, X_val, y_val, \n",
    "                   batch_sizes=[16, 32, 64, 128, 256],  # Добавлен список batch_sizes\n",
    "                   num_epochs=2000):\n",
    "\n",
    "    criterion = nn.MSELoss()\n",
    "    \n",
    "    best_batch_size = None\n",
    "    best_val_rmse = float('inf')\n",
    "    best_model_state = None\n",
    "    \n",
    "    for batch_size in batch_sizes:\n",
    "        print(f\"\\nTraining with batch_size = {batch_size}\")\n",
    "        \n",
    "        # Создаем DataLoader с текущим batch_size\n",
    "        train_loader = DataLoader(X_train, batch_size=batch_size, shuffle=True)\n",
    "        val_loader = DataLoader(y_train, batch_size=batch_size)\n",
    "        \n",
    "        # Копируем модель для каждого batch_size\n",
    "        current_model = type(model)()\n",
    "        current_model.load_state_dict(model.state_dict())\n",
    "        optimizer = optim.Adam(current_model.parameters()) #lr=0.0001, weight_decay=1e-5)\n",
    "        \n",
    "        train_rmse = []\n",
    "        val_rmse = []\n",
    "        \n",
    "        for epoch in range(num_epochs):\n",
    "            current_model.train()\n",
    "            epoch_loss = 0\n",
    "            \n",
    "            for batch_X, batch_y in train_loader:\n",
    "                optimizer.zero_grad()\n",
    "                outputs = current_model(batch_X)\n",
    "                loss = criterion(outputs, batch_y)\n",
    "                loss.backward()\n",
    "                optimizer.step()\n",
    "                epoch_loss += loss.item()\n",
    "            \n",
    "            current_model.eval()\n",
    "            with torch.no_grad():\n",
    "                # Вычисляем RMSE для всего набора данных\n",
    "                train_preds = current_model(X_train)\n",
    "                train_rmse.append(np.sqrt(mean_squared_error(y_train.numpy(), train_preds.numpy())))\n",
    "                \n",
    "                val_preds = current_model(X_val)\n",
    "                current_val_rmse = np.sqrt(mean_squared_error(y_val.numpy(), val_preds.numpy()))\n",
    "                val_rmse.append(current_val_rmse)\n",
    "            \n",
    "            if (epoch+1) % 100 == 0:\n",
    "                print(f'Epoch [{epoch+1}/{num_epochs}] | Train RMSE: {train_rmse[-1]:.2f} | Val RMSE: {val_rmse[-1]:.2f}')\n",
    "        \n",
    "        # Проверяем, не улучшился ли результат\n",
    "        if min(val_rmse) < best_val_rmse:\n",
    "            best_val_rmse = min(val_rmse)\n",
    "            best_batch_size = batch_size\n",
    "            best_model_state = current_model.state_dict()\n",
    "            print(f\"New best batch_size: {batch_size} with Val RMSE: {best_val_rmse:.2f}\")\n",
    "    \n",
    "    # Загружаем веса лучшей модели\n",
    "    model.load_state_dict(best_model_state)\n",
    "    print(f\"\\nBest batch_size: {best_batch_size} with Val RMSE: {best_val_rmse:.2f}\")\n",
    "    \n",
    "    return model, best_batch_size, train_rmse, val_rmse"
   ]
  },
  {
   "cell_type": "code",
   "execution_count": 56,
   "id": "cb6c9a41",
   "metadata": {},
   "outputs": [
    {
     "name": "stdout",
     "output_type": "stream",
     "text": [
      "\n",
      "Training with batch_size = 16\n"
     ]
    },
    {
     "ename": "RuntimeError",
     "evalue": "Error(s) in loading state_dict for Baseline:\n\tUnexpected key(s) in state_dict: \"layers.4.weight\", \"layers.4.bias\", \"layers.5.weight\", \"layers.5.bias\", \"layers.6.weight\", \"layers.6.bias\", \"layers.7.weight\", \"layers.7.bias\". \n\tsize mismatch for layers.0.weight: copying a param with shape torch.Size([256, 20]) from checkpoint, the shape in current model is torch.Size([200, 20]).\n\tsize mismatch for layers.0.bias: copying a param with shape torch.Size([256]) from checkpoint, the shape in current model is torch.Size([200]).\n\tsize mismatch for layers.1.weight: copying a param with shape torch.Size([36, 256]) from checkpoint, the shape in current model is torch.Size([36, 200]).\n\tsize mismatch for layers.2.weight: copying a param with shape torch.Size([128, 36]) from checkpoint, the shape in current model is torch.Size([16, 36]).\n\tsize mismatch for layers.2.bias: copying a param with shape torch.Size([128]) from checkpoint, the shape in current model is torch.Size([16]).\n\tsize mismatch for layers.3.weight: copying a param with shape torch.Size([64, 128]) from checkpoint, the shape in current model is torch.Size([1, 16]).\n\tsize mismatch for layers.3.bias: copying a param with shape torch.Size([64]) from checkpoint, the shape in current model is torch.Size([1]).",
     "output_type": "error",
     "traceback": [
      "\u001b[0;31m---------------------------------------------------------------------------\u001b[0m",
      "\u001b[0;31mRuntimeError\u001b[0m                              Traceback (most recent call last)",
      "\u001b[0;32m/tmp/ipykernel_48/2654412578.py\u001b[0m in \u001b[0;36m<module>\u001b[0;34m\u001b[0m\n\u001b[0;32m----> 1\u001b[0;31m train_with_rmse2(deep_model2,train_X,\n\u001b[0m\u001b[1;32m      2\u001b[0m         \u001b[0mtrain_y\u001b[0m\u001b[0;34m,\u001b[0m\u001b[0;34m\u001b[0m\u001b[0;34m\u001b[0m\u001b[0m\n\u001b[1;32m      3\u001b[0m         test_X,test_y)\n",
      "\u001b[0;32m/tmp/ipykernel_48/4191812901.py\u001b[0m in \u001b[0;36mtrain_with_rmse2\u001b[0;34m(model, X_train, y_train, X_val, y_val, batch_sizes, num_epochs)\u001b[0m\n\u001b[1;32m     25\u001b[0m         \u001b[0;31m# Копируем модель для каждого batch_size\u001b[0m\u001b[0;34m\u001b[0m\u001b[0;34m\u001b[0m\u001b[0;34m\u001b[0m\u001b[0m\n\u001b[1;32m     26\u001b[0m         \u001b[0mcurrent_model\u001b[0m \u001b[0;34m=\u001b[0m \u001b[0mtype\u001b[0m\u001b[0;34m(\u001b[0m\u001b[0mmodel\u001b[0m\u001b[0;34m)\u001b[0m\u001b[0;34m(\u001b[0m\u001b[0;34m)\u001b[0m\u001b[0;34m\u001b[0m\u001b[0;34m\u001b[0m\u001b[0m\n\u001b[0;32m---> 27\u001b[0;31m         \u001b[0mcurrent_model\u001b[0m\u001b[0;34m.\u001b[0m\u001b[0mload_state_dict\u001b[0m\u001b[0;34m(\u001b[0m\u001b[0mmodel\u001b[0m\u001b[0;34m.\u001b[0m\u001b[0mstate_dict\u001b[0m\u001b[0;34m(\u001b[0m\u001b[0;34m)\u001b[0m\u001b[0;34m)\u001b[0m\u001b[0;34m\u001b[0m\u001b[0;34m\u001b[0m\u001b[0m\n\u001b[0m\u001b[1;32m     28\u001b[0m         \u001b[0moptimizer\u001b[0m \u001b[0;34m=\u001b[0m \u001b[0moptim\u001b[0m\u001b[0;34m.\u001b[0m\u001b[0mAdam\u001b[0m\u001b[0;34m(\u001b[0m\u001b[0mcurrent_model\u001b[0m\u001b[0;34m.\u001b[0m\u001b[0mparameters\u001b[0m\u001b[0;34m(\u001b[0m\u001b[0;34m)\u001b[0m\u001b[0;34m)\u001b[0m \u001b[0;31m#lr=0.0001, weight_decay=1e-5)\u001b[0m\u001b[0;34m\u001b[0m\u001b[0;34m\u001b[0m\u001b[0m\n\u001b[1;32m     29\u001b[0m \u001b[0;34m\u001b[0m\u001b[0m\n",
      "\u001b[0;32m/opt/conda/lib/python3.9/site-packages/torch/nn/modules/module.py\u001b[0m in \u001b[0;36mload_state_dict\u001b[0;34m(self, state_dict, strict)\u001b[0m\n\u001b[1;32m   1480\u001b[0m \u001b[0;34m\u001b[0m\u001b[0m\n\u001b[1;32m   1481\u001b[0m         \u001b[0;32mif\u001b[0m \u001b[0mlen\u001b[0m\u001b[0;34m(\u001b[0m\u001b[0merror_msgs\u001b[0m\u001b[0;34m)\u001b[0m \u001b[0;34m>\u001b[0m \u001b[0;36m0\u001b[0m\u001b[0;34m:\u001b[0m\u001b[0;34m\u001b[0m\u001b[0;34m\u001b[0m\u001b[0m\n\u001b[0;32m-> 1482\u001b[0;31m             raise RuntimeError('Error(s) in loading state_dict for {}:\\n\\t{}'.format(\n\u001b[0m\u001b[1;32m   1483\u001b[0m                                self.__class__.__name__, \"\\n\\t\".join(error_msgs)))\n\u001b[1;32m   1484\u001b[0m         \u001b[0;32mreturn\u001b[0m \u001b[0m_IncompatibleKeys\u001b[0m\u001b[0;34m(\u001b[0m\u001b[0mmissing_keys\u001b[0m\u001b[0;34m,\u001b[0m \u001b[0munexpected_keys\u001b[0m\u001b[0;34m)\u001b[0m\u001b[0;34m\u001b[0m\u001b[0;34m\u001b[0m\u001b[0m\n",
      "\u001b[0;31mRuntimeError\u001b[0m: Error(s) in loading state_dict for Baseline:\n\tUnexpected key(s) in state_dict: \"layers.4.weight\", \"layers.4.bias\", \"layers.5.weight\", \"layers.5.bias\", \"layers.6.weight\", \"layers.6.bias\", \"layers.7.weight\", \"layers.7.bias\". \n\tsize mismatch for layers.0.weight: copying a param with shape torch.Size([256, 20]) from checkpoint, the shape in current model is torch.Size([200, 20]).\n\tsize mismatch for layers.0.bias: copying a param with shape torch.Size([256]) from checkpoint, the shape in current model is torch.Size([200]).\n\tsize mismatch for layers.1.weight: copying a param with shape torch.Size([36, 256]) from checkpoint, the shape in current model is torch.Size([36, 200]).\n\tsize mismatch for layers.2.weight: copying a param with shape torch.Size([128, 36]) from checkpoint, the shape in current model is torch.Size([16, 36]).\n\tsize mismatch for layers.2.bias: copying a param with shape torch.Size([128]) from checkpoint, the shape in current model is torch.Size([16]).\n\tsize mismatch for layers.3.weight: copying a param with shape torch.Size([64, 128]) from checkpoint, the shape in current model is torch.Size([1, 16]).\n\tsize mismatch for layers.3.bias: copying a param with shape torch.Size([64]) from checkpoint, the shape in current model is torch.Size([1])."
     ]
    }
   ],
   "source": [
    "train_with_rmse2(deep_model2,train_X,\n",
    "        train_y,\n",
    "        test_X,test_y)"
   ]
  },
  {
   "cell_type": "code",
   "execution_count": null,
   "id": "da04956b",
   "metadata": {},
   "outputs": [],
   "source": []
  },
  {
   "cell_type": "code",
   "execution_count": null,
   "id": "0046f76f",
   "metadata": {},
   "outputs": [],
   "source": []
  },
  {
   "cell_type": "code",
   "execution_count": null,
   "id": "7d61c6cd",
   "metadata": {},
   "outputs": [],
   "source": []
  },
  {
   "cell_type": "code",
   "execution_count": null,
   "id": "a5030899",
   "metadata": {},
   "outputs": [],
   "source": []
  },
  {
   "cell_type": "code",
   "execution_count": 87,
   "id": "f1b12111",
   "metadata": {},
   "outputs": [
    {
     "ename": "TypeError",
     "evalue": "train_with_rmse() got an unexpected keyword argument 'batch_sizes'",
     "output_type": "error",
     "traceback": [
      "\u001b[0;31m---------------------------------------------------------------------------\u001b[0m",
      "\u001b[0;31mTypeError\u001b[0m                                 Traceback (most recent call last)",
      "\u001b[0;32m/tmp/ipykernel_152/692158844.py\u001b[0m in \u001b[0;36m<module>\u001b[0;34m\u001b[0m\n\u001b[0;32m----> 1\u001b[0;31m trained_model, best_batch_size = train_with_rmse(\n\u001b[0m\u001b[1;32m      2\u001b[0m     \u001b[0mdeep_model2\u001b[0m\u001b[0;34m,\u001b[0m\u001b[0;34m\u001b[0m\u001b[0;34m\u001b[0m\u001b[0m\n\u001b[1;32m      3\u001b[0m     \u001b[0mtrain_X\u001b[0m\u001b[0;34m,\u001b[0m\u001b[0;34m\u001b[0m\u001b[0;34m\u001b[0m\u001b[0m\n\u001b[1;32m      4\u001b[0m     \u001b[0mtrain_y\u001b[0m\u001b[0;34m,\u001b[0m\u001b[0;34m\u001b[0m\u001b[0;34m\u001b[0m\u001b[0m\n\u001b[1;32m      5\u001b[0m     \u001b[0mtest_X\u001b[0m\u001b[0;34m,\u001b[0m\u001b[0;34m\u001b[0m\u001b[0;34m\u001b[0m\u001b[0m\n",
      "\u001b[0;31mTypeError\u001b[0m: train_with_rmse() got an unexpected keyword argument 'batch_sizes'"
     ]
    }
   ],
   "source": [
    "trained_model, best_batch_size = train_with_rmse(\n",
    "    deep_model2,\n",
    "    train_X,\n",
    "    train_y,\n",
    "    test_X,\n",
    "    test_y,\n",
    "    batch_sizes=[20,25,35,45,55,60],\n",
    "    num_epochs=2000\n",
    ")\n"
   ]
  },
  {
   "cell_type": "code",
   "execution_count": null,
   "id": "bdea8141",
   "metadata": {},
   "outputs": [],
   "source": []
  },
  {
   "cell_type": "code",
   "execution_count": null,
   "id": "4eaa24f3",
   "metadata": {},
   "outputs": [],
   "source": []
  },
  {
   "cell_type": "code",
   "execution_count": 89,
   "id": "c45a868e",
   "metadata": {},
   "outputs": [],
   "source": [
    "def train_with_rmse2(model, batch_size, X_train, y_train, X_val, y_val, \n",
    "                   dropout_rates=[0.1, 0.2, 0.3, 0.4,0.5], num_epochs=2000):\n",
    "    \"\"\"\n",
    "    Train model with RMSE tracking and dropout rate optimization\n",
    "    \n",
    "    Args:\n",
    "        model: PyTorch model (should have dropout layers)\n",
    "        batch_size: int, batch size for training\n",
    "        X_train: torch.Tensor, training features\n",
    "        y_train: torch.Tensor, training targets\n",
    "        X_val: torch.Tensor, validation features\n",
    "        y_val: torch.Tensor, validation targets\n",
    "        dropout_rates: list, dropout rates to try for each layer\n",
    "        num_epochs: int, number of training epochs\n",
    "    \"\"\"\n",
    "    criterion = nn.MSELoss()\n",
    "    \n",
    "    # Store best results\n",
    "    best_dropout_rates = None\n",
    "    best_val_rmse = float('inf')\n",
    "    best_model_state = None\n",
    "    \n",
    "    # Generate all possible dropout rate combinations\n",
    "    from itertools import product\n",
    "    dropout_combinations = list(product(dropout_rates, repeat=4))  # For 4 dropout layers\n",
    "    \n",
    "    for rates in dropout_combinations:\n",
    "        print(f\"\\nTraining with dropout rates: {rates}\")\n",
    "        \n",
    "        # Apply dropout rates to model\n",
    "        model.dp1.p = rates[0]\n",
    "        model.dp2.p = rates[1]\n",
    "        model.dp3.p = rates[2]\n",
    "        model.dp4.p = rates[3]\n",
    "        model.dp5.p = rates[4]\n",
    "        model.dp6.p = rates[5]\n",
    "        \n",
    "        optimizer = optim.Adam(model.parameters(), lr=0.0001, weight_decay=1e-5)\n",
    "        train_rmse = []\n",
    "        val_rmse = []\n",
    "        \n",
    "        for epoch in range(num_epochs):\n",
    "            model.train()\n",
    "            permutation = torch.randperm(X_train.size()[0])\n",
    "            \n",
    "            for i in range(0, X_train.size()[0], batch_size):\n",
    "                indices = permutation[i:i+batch_size]\n",
    "                batch_X = X_train[indices]\n",
    "                batch_y = y_train[indices]\n",
    "                \n",
    "                optimizer.zero_grad()\n",
    "                outputs = model(batch_X)\n",
    "                loss = criterion(outputs, batch_y)\n",
    "                loss.backward()\n",
    "                optimizer.step()\n",
    "            \n",
    "            # Evaluation\n",
    "            model.eval()\n",
    "            with torch.no_grad():\n",
    "                train_preds = model(X_train)\n",
    "                train_rmse.append(np.sqrt(mean_squared_error(y_train.numpy(), train_preds.numpy())))\n",
    "                \n",
    "                val_preds = model(X_val)\n",
    "                current_val_rmse = np.sqrt(mean_squared_error(y_val.numpy(), val_preds.numpy()))\n",
    "                val_rmse.append(current_val_rmse)\n",
    "            \n",
    "            if (epoch+1) % 100 == 0:\n",
    "                print(f'Epoch [{epoch+1}/{num_epochs}] | Train RMSE: {train_rmse[-1]:.2f} | Val RMSE: {val_rmse[-1]:.2f}')\n",
    "        \n",
    "        # Check if this dropout combination gave better results\n",
    "        if min(val_rmse) < best_val_rmse:\n",
    "            best_val_rmse = min(val_rmse)\n",
    "            best_dropout_rates = rates\n",
    "            best_model_state = model.state_dict()\n",
    "            print(f\"New best dropout rates: {rates} with Val RMSE: {best_val_rmse:.2f}\")\n",
    "    \n",
    "    # Load best model state\n",
    "    model.load_state_dict(best_model_state)\n",
    "    print(f\"\\nBest dropout rates: {best_dropout_rates} with Val RMSE: {best_val_rmse:.2f}\")\n",
    "    \n",
    "    return model, best_dropout_rates, train_rmse, val_rmse"
   ]
  },
  {
   "cell_type": "code",
   "execution_count": 91,
   "id": "1a1975e4",
   "metadata": {},
   "outputs": [
    {
     "name": "stdout",
     "output_type": "stream",
     "text": [
      "\n",
      "Training with dropout rates: (0.1, 0.1, 0.1, 0.1)\n"
     ]
    },
    {
     "ename": "AttributeError",
     "evalue": "'Baseline' object has no attribute 'dp1'",
     "output_type": "error",
     "traceback": [
      "\u001b[0;31m---------------------------------------------------------------------------\u001b[0m",
      "\u001b[0;31mAttributeError\u001b[0m                            Traceback (most recent call last)",
      "\u001b[0;32m/tmp/ipykernel_152/2144546499.py\u001b[0m in \u001b[0;36m<module>\u001b[0;34m\u001b[0m\n\u001b[0;32m----> 1\u001b[0;31m trained_model, best_dropout, train_rmse, val_rmse = train_with_rmse2(\n\u001b[0m\u001b[1;32m      2\u001b[0m     \u001b[0mmodel\u001b[0m\u001b[0;34m=\u001b[0m\u001b[0mdeep_model2\u001b[0m\u001b[0;34m,\u001b[0m\u001b[0;34m\u001b[0m\u001b[0;34m\u001b[0m\u001b[0m\n\u001b[1;32m      3\u001b[0m     \u001b[0mbatch_size\u001b[0m\u001b[0;34m=\u001b[0m\u001b[0;36m20\u001b[0m\u001b[0;34m,\u001b[0m\u001b[0;34m\u001b[0m\u001b[0;34m\u001b[0m\u001b[0m\n\u001b[1;32m      4\u001b[0m     \u001b[0mX_train\u001b[0m\u001b[0;34m=\u001b[0m\u001b[0mtrain_X\u001b[0m\u001b[0;34m,\u001b[0m\u001b[0;34m\u001b[0m\u001b[0;34m\u001b[0m\u001b[0m\n\u001b[1;32m      5\u001b[0m     \u001b[0my_train\u001b[0m\u001b[0;34m=\u001b[0m\u001b[0mtrain_y\u001b[0m\u001b[0;34m,\u001b[0m\u001b[0;34m\u001b[0m\u001b[0;34m\u001b[0m\u001b[0m\n",
      "\u001b[0;32m/tmp/ipykernel_152/1322148159.py\u001b[0m in \u001b[0;36mtrain_with_rmse2\u001b[0;34m(model, batch_size, X_train, y_train, X_val, y_val, dropout_rates, num_epochs)\u001b[0m\n\u001b[1;32m     29\u001b[0m \u001b[0;34m\u001b[0m\u001b[0m\n\u001b[1;32m     30\u001b[0m         \u001b[0;31m# Apply dropout rates to model\u001b[0m\u001b[0;34m\u001b[0m\u001b[0;34m\u001b[0m\u001b[0;34m\u001b[0m\u001b[0m\n\u001b[0;32m---> 31\u001b[0;31m         \u001b[0mmodel\u001b[0m\u001b[0;34m.\u001b[0m\u001b[0mdp1\u001b[0m\u001b[0;34m.\u001b[0m\u001b[0mp\u001b[0m \u001b[0;34m=\u001b[0m \u001b[0mrates\u001b[0m\u001b[0;34m[\u001b[0m\u001b[0;36m0\u001b[0m\u001b[0;34m]\u001b[0m\u001b[0;34m\u001b[0m\u001b[0;34m\u001b[0m\u001b[0m\n\u001b[0m\u001b[1;32m     32\u001b[0m         \u001b[0mmodel\u001b[0m\u001b[0;34m.\u001b[0m\u001b[0mdp2\u001b[0m\u001b[0;34m.\u001b[0m\u001b[0mp\u001b[0m \u001b[0;34m=\u001b[0m \u001b[0mrates\u001b[0m\u001b[0;34m[\u001b[0m\u001b[0;36m1\u001b[0m\u001b[0;34m]\u001b[0m\u001b[0;34m\u001b[0m\u001b[0;34m\u001b[0m\u001b[0m\n\u001b[1;32m     33\u001b[0m         \u001b[0mmodel\u001b[0m\u001b[0;34m.\u001b[0m\u001b[0mdp3\u001b[0m\u001b[0;34m.\u001b[0m\u001b[0mp\u001b[0m \u001b[0;34m=\u001b[0m \u001b[0mrates\u001b[0m\u001b[0;34m[\u001b[0m\u001b[0;36m2\u001b[0m\u001b[0;34m]\u001b[0m\u001b[0;34m\u001b[0m\u001b[0;34m\u001b[0m\u001b[0m\n",
      "\u001b[0;32m/opt/conda/lib/python3.9/site-packages/torch/nn/modules/module.py\u001b[0m in \u001b[0;36m__getattr__\u001b[0;34m(self, name)\u001b[0m\n\u001b[1;32m   1175\u001b[0m             \u001b[0;32mif\u001b[0m \u001b[0mname\u001b[0m \u001b[0;32min\u001b[0m \u001b[0mmodules\u001b[0m\u001b[0;34m:\u001b[0m\u001b[0;34m\u001b[0m\u001b[0;34m\u001b[0m\u001b[0m\n\u001b[1;32m   1176\u001b[0m                 \u001b[0;32mreturn\u001b[0m \u001b[0mmodules\u001b[0m\u001b[0;34m[\u001b[0m\u001b[0mname\u001b[0m\u001b[0;34m]\u001b[0m\u001b[0;34m\u001b[0m\u001b[0;34m\u001b[0m\u001b[0m\n\u001b[0;32m-> 1177\u001b[0;31m         raise AttributeError(\"'{}' object has no attribute '{}'\".format(\n\u001b[0m\u001b[1;32m   1178\u001b[0m             type(self).__name__, name))\n\u001b[1;32m   1179\u001b[0m \u001b[0;34m\u001b[0m\u001b[0m\n",
      "\u001b[0;31mAttributeError\u001b[0m: 'Baseline' object has no attribute 'dp1'"
     ]
    }
   ],
   "source": [
    "trained_model, best_dropout, train_rmse, val_rmse = train_with_rmse2(\n",
    "    model=deep_model2,\n",
    "    batch_size=20,\n",
    "    X_train=train_X,\n",
    "    y_train=train_y,\n",
    "    X_val=test_X,\n",
    "    y_val=test_y,\n",
    "    dropout_rates=[0.1, 0.2, 0.3, 0.4,0,5],\n",
    "    num_epochs=500\n",
    ")\n",
    "\n",
    "print(f\"Оптимальные dropout rates: {best_dropout}\")"
   ]
  },
  {
   "cell_type": "code",
   "execution_count": null,
   "id": "f918158e",
   "metadata": {},
   "outputs": [],
   "source": []
  },
  {
   "cell_type": "code",
   "execution_count": null,
   "id": "a7486f06",
   "metadata": {},
   "outputs": [],
   "source": []
  },
  {
   "cell_type": "code",
   "execution_count": null,
   "id": "0c052aeb",
   "metadata": {},
   "outputs": [],
   "source": []
  },
  {
   "cell_type": "code",
   "execution_count": null,
   "id": "a3027a1e",
   "metadata": {},
   "outputs": [],
   "source": [
    "best_batch_size, model = hyperparameter_search(train_X, train_y)\n",
    "\n",
    "print(\"Лучший batch_size:\", best_batch_size)"
   ]
  },
  {
   "cell_type": "code",
   "execution_count": null,
   "id": "0c591b1c",
   "metadata": {},
   "outputs": [],
   "source": []
  },
  {
   "cell_type": "code",
   "execution_count": null,
   "id": "0a10f223",
   "metadata": {},
   "outputs": [],
   "source": [
    "best_params, model = hyperparameter_search(train_X, train_y)\n"
   ]
  },
  {
   "cell_type": "code",
   "execution_count": null,
   "id": "cf2fbc4f",
   "metadata": {},
   "outputs": [],
   "source": [
    "#model = Baseline(input_size=X_train.shape[1], hidden_sizes=[30,256, 128, 64],default_dropout=0.2)"
   ]
  },
  {
   "cell_type": "code",
   "execution_count": null,
   "id": "05549ca0",
   "metadata": {},
   "outputs": [],
   "source": [
    "#model3 = Baseline(input_size=X_train.shape[1], hidden_sizes=[30,200,25,100,50,25,10],default_dropout=0.1)"
   ]
  },
  {
   "cell_type": "code",
   "execution_count": null,
   "id": "8db0d956",
   "metadata": {},
   "outputs": [],
   "source": []
  },
  {
   "cell_type": "code",
   "execution_count": null,
   "id": "2a670ac6",
   "metadata": {},
   "outputs": [],
   "source": []
  },
  {
   "cell_type": "code",
   "execution_count": null,
   "id": "ac10f9d7",
   "metadata": {},
   "outputs": [],
   "source": []
  },
  {
   "cell_type": "code",
   "execution_count": null,
   "id": "21f7f3b3",
   "metadata": {},
   "outputs": [],
   "source": []
  },
  {
   "cell_type": "markdown",
   "id": "growing-supply",
   "metadata": {},
   "source": [
    "## Улучшение нейронной сети"
   ]
  },
  {
   "cell_type": "code",
   "execution_count": null,
   "id": "3206548b",
   "metadata": {},
   "outputs": [],
   "source": []
  },
  {
   "cell_type": "code",
   "execution_count": null,
   "id": "acceptable-forwarding",
   "metadata": {},
   "outputs": [],
   "source": []
  },
  {
   "cell_type": "markdown",
   "id": "accurate-infrastructure",
   "metadata": {},
   "source": [
    "## Выводы"
   ]
  }
 ],
 "metadata": {
  "ExecuteTimeLog": [
   {
    "duration": 416,
    "start_time": "2025-06-01T21:49:07.673Z"
   },
   {
    "duration": 67,
    "start_time": "2025-06-01T21:49:30.564Z"
   },
   {
    "duration": 29,
    "start_time": "2025-06-01T21:49:35.076Z"
   },
   {
    "duration": 18,
    "start_time": "2025-06-01T21:49:45.087Z"
   },
   {
    "duration": 13,
    "start_time": "2025-06-01T21:52:52.774Z"
   },
   {
    "duration": 18,
    "start_time": "2025-06-01T21:53:02.941Z"
   },
   {
    "duration": 7,
    "start_time": "2025-06-01T21:53:36.685Z"
   },
   {
    "duration": 13,
    "start_time": "2025-06-01T21:53:55.849Z"
   },
   {
    "duration": 928,
    "start_time": "2025-06-01T21:54:43.271Z"
   },
   {
    "duration": 473,
    "start_time": "2025-06-01T21:54:50.308Z"
   },
   {
    "duration": 430,
    "start_time": "2025-06-01T21:54:55.063Z"
   },
   {
    "duration": 398,
    "start_time": "2025-06-01T21:54:59.303Z"
   },
   {
    "duration": 5,
    "start_time": "2025-06-01T21:56:39.211Z"
   },
   {
    "duration": 11,
    "start_time": "2025-06-01T21:56:46.356Z"
   },
   {
    "duration": 21,
    "start_time": "2025-06-01T21:57:30.154Z"
   },
   {
    "duration": 4,
    "start_time": "2025-06-01T21:57:39.200Z"
   },
   {
    "duration": 9,
    "start_time": "2025-06-01T21:58:15.365Z"
   },
   {
    "duration": 617,
    "start_time": "2025-06-01T21:59:08.814Z"
   },
   {
    "duration": 82,
    "start_time": "2025-06-01T21:59:13.954Z"
   },
   {
    "duration": 40,
    "start_time": "2025-06-01T21:59:23.688Z"
   },
   {
    "duration": 153,
    "start_time": "2025-06-01T21:59:50.129Z"
   },
   {
    "duration": 137,
    "start_time": "2025-06-01T21:59:59.220Z"
   },
   {
    "duration": 24,
    "start_time": "2025-06-01T22:00:22.171Z"
   },
   {
    "duration": 3,
    "start_time": "2025-06-01T22:02:20.262Z"
   },
   {
    "duration": 156,
    "start_time": "2025-06-01T22:02:57.682Z"
   },
   {
    "duration": 179,
    "start_time": "2025-06-01T22:03:57.595Z"
   },
   {
    "duration": 265,
    "start_time": "2025-06-01T22:04:02.587Z"
   },
   {
    "duration": 187,
    "start_time": "2025-06-01T22:04:19.553Z"
   },
   {
    "duration": 169,
    "start_time": "2025-06-01T22:04:53.603Z"
   },
   {
    "duration": 160,
    "start_time": "2025-06-01T22:05:53.342Z"
   },
   {
    "duration": 160,
    "start_time": "2025-06-01T22:06:08.312Z"
   },
   {
    "duration": 168,
    "start_time": "2025-06-01T22:06:16.939Z"
   },
   {
    "duration": 11,
    "start_time": "2025-06-01T22:08:26.028Z"
   },
   {
    "duration": 3,
    "start_time": "2025-06-01T22:08:40.351Z"
   },
   {
    "duration": 558,
    "start_time": "2025-06-01T22:08:46.068Z"
   },
   {
    "duration": 1474,
    "start_time": "2025-06-02T09:05:12.713Z"
   },
   {
    "duration": 19,
    "start_time": "2025-06-02T09:05:14.189Z"
   },
   {
    "duration": 5,
    "start_time": "2025-06-02T09:05:14.210Z"
   },
   {
    "duration": 450,
    "start_time": "2025-06-02T09:05:14.217Z"
   },
   {
    "duration": 4,
    "start_time": "2025-06-02T09:05:14.669Z"
   },
   {
    "duration": 29,
    "start_time": "2025-06-02T09:05:14.675Z"
   },
   {
    "duration": 4,
    "start_time": "2025-06-02T09:05:14.706Z"
   },
   {
    "duration": 18,
    "start_time": "2025-06-02T09:05:14.712Z"
   },
   {
    "duration": 5,
    "start_time": "2025-06-02T09:05:37.919Z"
   },
   {
    "duration": 3,
    "start_time": "2025-06-02T09:05:38.835Z"
   },
   {
    "duration": 7,
    "start_time": "2025-06-02T09:05:39.618Z"
   },
   {
    "duration": 5,
    "start_time": "2025-06-02T09:05:46.446Z"
   },
   {
    "duration": 3,
    "start_time": "2025-06-02T09:06:04.451Z"
   },
   {
    "duration": 7,
    "start_time": "2025-06-02T09:06:04.945Z"
   },
   {
    "duration": 4,
    "start_time": "2025-06-02T09:06:05.457Z"
   },
   {
    "duration": 3,
    "start_time": "2025-06-02T09:06:54.819Z"
   },
   {
    "duration": 8,
    "start_time": "2025-06-02T09:06:55.293Z"
   },
   {
    "duration": 6,
    "start_time": "2025-06-02T09:06:55.784Z"
   },
   {
    "duration": 5,
    "start_time": "2025-06-02T09:08:11.989Z"
   },
   {
    "duration": 5,
    "start_time": "2025-06-02T09:08:16.025Z"
   },
   {
    "duration": 5,
    "start_time": "2025-06-02T09:08:47.891Z"
   },
   {
    "duration": 5,
    "start_time": "2025-06-02T09:08:48.469Z"
   },
   {
    "duration": 3,
    "start_time": "2025-06-02T09:09:20.384Z"
   },
   {
    "duration": 5,
    "start_time": "2025-06-02T09:09:43.085Z"
   },
   {
    "duration": 4,
    "start_time": "2025-06-02T09:09:43.648Z"
   },
   {
    "duration": 109,
    "start_time": "2025-06-02T09:10:07.878Z"
   },
   {
    "duration": 3,
    "start_time": "2025-06-02T09:10:44.984Z"
   },
   {
    "duration": 4,
    "start_time": "2025-06-02T09:10:51.317Z"
   },
   {
    "duration": 6,
    "start_time": "2025-06-02T09:10:56.990Z"
   },
   {
    "duration": 13,
    "start_time": "2025-06-02T09:11:30.584Z"
   },
   {
    "duration": 8,
    "start_time": "2025-06-02T09:12:12.940Z"
   },
   {
    "duration": 5,
    "start_time": "2025-06-02T09:12:18.506Z"
   },
   {
    "duration": 3,
    "start_time": "2025-06-02T09:12:26.232Z"
   },
   {
    "duration": 5,
    "start_time": "2025-06-02T09:12:27.818Z"
   },
   {
    "duration": 3,
    "start_time": "2025-06-02T09:12:58.075Z"
   },
   {
    "duration": 17,
    "start_time": "2025-06-02T09:12:58.635Z"
   },
   {
    "duration": 4,
    "start_time": "2025-06-02T09:12:59.264Z"
   },
   {
    "duration": 4,
    "start_time": "2025-06-02T09:13:07.814Z"
   },
   {
    "duration": 11,
    "start_time": "2025-06-02T09:13:08.322Z"
   },
   {
    "duration": 3,
    "start_time": "2025-06-02T09:13:08.979Z"
   },
   {
    "duration": 3,
    "start_time": "2025-06-02T09:16:35.122Z"
   },
   {
    "duration": 19,
    "start_time": "2025-06-02T09:16:35.796Z"
   },
   {
    "duration": 5,
    "start_time": "2025-06-02T09:16:36.291Z"
   },
   {
    "duration": 11,
    "start_time": "2025-06-02T09:16:42.462Z"
   },
   {
    "duration": 4,
    "start_time": "2025-06-02T09:16:44.147Z"
   },
   {
    "duration": 10,
    "start_time": "2025-06-02T09:16:44.543Z"
   },
   {
    "duration": 5,
    "start_time": "2025-06-02T09:16:49.222Z"
   },
   {
    "duration": 4,
    "start_time": "2025-06-02T09:16:53.035Z"
   },
   {
    "duration": 5,
    "start_time": "2025-06-02T09:16:54.896Z"
   },
   {
    "duration": 4,
    "start_time": "2025-06-02T09:18:59.230Z"
   },
   {
    "duration": 4,
    "start_time": "2025-06-02T09:19:01.389Z"
   },
   {
    "duration": 11,
    "start_time": "2025-06-02T09:21:23.045Z"
   },
   {
    "duration": 4,
    "start_time": "2025-06-02T09:21:57.634Z"
   },
   {
    "duration": 5,
    "start_time": "2025-06-02T09:21:59.791Z"
   },
   {
    "duration": 28,
    "start_time": "2025-06-02T09:24:18.761Z"
   },
   {
    "duration": 3,
    "start_time": "2025-06-02T09:52:16.403Z"
   },
   {
    "duration": 33,
    "start_time": "2025-06-02T09:52:16.408Z"
   },
   {
    "duration": 4,
    "start_time": "2025-06-02T09:52:16.443Z"
   },
   {
    "duration": 431,
    "start_time": "2025-06-02T09:52:16.448Z"
   },
   {
    "duration": 4,
    "start_time": "2025-06-02T09:52:16.881Z"
   },
   {
    "duration": 11,
    "start_time": "2025-06-02T09:52:16.887Z"
   },
   {
    "duration": 3,
    "start_time": "2025-06-02T09:52:16.900Z"
   },
   {
    "duration": 5,
    "start_time": "2025-06-02T09:52:16.905Z"
   },
   {
    "duration": 4,
    "start_time": "2025-06-02T09:52:16.912Z"
   },
   {
    "duration": 5,
    "start_time": "2025-06-02T09:52:16.917Z"
   },
   {
    "duration": 39,
    "start_time": "2025-06-02T09:52:16.924Z"
   },
   {
    "duration": 3,
    "start_time": "2025-06-02T09:52:16.965Z"
   },
   {
    "duration": 26,
    "start_time": "2025-06-02T09:52:22.568Z"
   },
   {
    "duration": 9,
    "start_time": "2025-06-02T09:52:50.224Z"
   },
   {
    "duration": 4,
    "start_time": "2025-06-02T10:01:57.435Z"
   },
   {
    "duration": 9,
    "start_time": "2025-06-02T10:05:25.644Z"
   },
   {
    "duration": 858,
    "start_time": "2025-06-02T10:05:33.011Z"
   },
   {
    "duration": 3,
    "start_time": "2025-06-02T10:06:05.720Z"
   },
   {
    "duration": 9,
    "start_time": "2025-06-02T10:07:07.071Z"
   },
   {
    "duration": 13,
    "start_time": "2025-06-02T10:07:11.930Z"
   },
   {
    "duration": 4,
    "start_time": "2025-06-02T10:07:47.109Z"
   },
   {
    "duration": 7,
    "start_time": "2025-06-02T10:07:56.618Z"
   },
   {
    "duration": 12,
    "start_time": "2025-06-02T10:07:57.138Z"
   },
   {
    "duration": 3,
    "start_time": "2025-06-02T10:08:25.364Z"
   },
   {
    "duration": 16,
    "start_time": "2025-06-02T10:08:48.248Z"
   },
   {
    "duration": 3,
    "start_time": "2025-06-02T10:09:16.386Z"
   },
   {
    "duration": 6,
    "start_time": "2025-06-02T10:09:20.233Z"
   },
   {
    "duration": 5,
    "start_time": "2025-06-02T10:09:23.798Z"
   },
   {
    "duration": 11,
    "start_time": "2025-06-02T10:18:17.684Z"
   },
   {
    "duration": 3,
    "start_time": "2025-06-02T10:18:37.489Z"
   },
   {
    "duration": 14,
    "start_time": "2025-06-02T10:18:44.160Z"
   },
   {
    "duration": 10,
    "start_time": "2025-06-02T10:20:21.941Z"
   },
   {
    "duration": 3,
    "start_time": "2025-06-02T10:20:29.915Z"
   },
   {
    "duration": 4,
    "start_time": "2025-06-02T10:20:48.906Z"
   },
   {
    "duration": 30,
    "start_time": "2025-06-02T10:20:56.211Z"
   },
   {
    "duration": 4,
    "start_time": "2025-06-02T10:30:23.011Z"
   },
   {
    "duration": 15,
    "start_time": "2025-06-02T10:30:29.752Z"
   },
   {
    "duration": 4,
    "start_time": "2025-06-02T10:48:06.067Z"
   },
   {
    "duration": 85,
    "start_time": "2025-06-02T10:48:06.073Z"
   },
   {
    "duration": 5,
    "start_time": "2025-06-02T10:48:06.160Z"
   },
   {
    "duration": 449,
    "start_time": "2025-06-02T10:48:06.167Z"
   },
   {
    "duration": 4,
    "start_time": "2025-06-02T10:48:06.618Z"
   },
   {
    "duration": 43,
    "start_time": "2025-06-02T10:48:06.625Z"
   },
   {
    "duration": 4,
    "start_time": "2025-06-02T10:48:06.670Z"
   },
   {
    "duration": 5,
    "start_time": "2025-06-02T10:48:06.675Z"
   },
   {
    "duration": 6,
    "start_time": "2025-06-02T10:48:06.681Z"
   },
   {
    "duration": 5,
    "start_time": "2025-06-02T10:48:06.689Z"
   },
   {
    "duration": 9,
    "start_time": "2025-06-02T10:48:06.695Z"
   },
   {
    "duration": 7,
    "start_time": "2025-06-02T10:48:06.706Z"
   },
   {
    "duration": 51,
    "start_time": "2025-06-02T10:48:06.715Z"
   },
   {
    "duration": 12,
    "start_time": "2025-06-02T10:48:06.768Z"
   },
   {
    "duration": 83,
    "start_time": "2025-06-02T10:48:06.782Z"
   },
   {
    "duration": 632,
    "start_time": "2025-06-02T10:48:06.867Z"
   },
   {
    "duration": 269,
    "start_time": "2025-06-02T10:48:07.501Z"
   },
   {
    "duration": 14,
    "start_time": "2025-06-02T10:48:07.772Z"
   },
   {
    "duration": 0,
    "start_time": "2025-06-02T10:48:07.789Z"
   },
   {
    "duration": 0,
    "start_time": "2025-06-02T10:48:07.790Z"
   },
   {
    "duration": 0,
    "start_time": "2025-06-02T10:48:07.792Z"
   },
   {
    "duration": 0,
    "start_time": "2025-06-02T10:48:07.793Z"
   },
   {
    "duration": 0,
    "start_time": "2025-06-02T10:48:07.794Z"
   },
   {
    "duration": 0,
    "start_time": "2025-06-02T10:48:07.795Z"
   },
   {
    "duration": 0,
    "start_time": "2025-06-02T10:48:07.796Z"
   },
   {
    "duration": 0,
    "start_time": "2025-06-02T10:48:07.797Z"
   },
   {
    "duration": 0,
    "start_time": "2025-06-02T10:48:07.798Z"
   },
   {
    "duration": 0,
    "start_time": "2025-06-02T10:48:07.799Z"
   },
   {
    "duration": 0,
    "start_time": "2025-06-02T10:48:07.800Z"
   },
   {
    "duration": 0,
    "start_time": "2025-06-02T10:48:07.801Z"
   },
   {
    "duration": 19,
    "start_time": "2025-06-02T11:03:57.895Z"
   },
   {
    "duration": 8,
    "start_time": "2025-06-02T11:04:05.683Z"
   },
   {
    "duration": 3,
    "start_time": "2025-06-02T11:04:07.155Z"
   },
   {
    "duration": 19,
    "start_time": "2025-06-02T11:04:07.758Z"
   },
   {
    "duration": 1521,
    "start_time": "2025-06-02T11:05:02.798Z"
   },
   {
    "duration": 31,
    "start_time": "2025-06-02T11:05:04.321Z"
   },
   {
    "duration": 11,
    "start_time": "2025-06-02T11:05:04.354Z"
   },
   {
    "duration": 447,
    "start_time": "2025-06-02T11:05:04.367Z"
   },
   {
    "duration": 6,
    "start_time": "2025-06-02T11:05:04.817Z"
   },
   {
    "duration": 172,
    "start_time": "2025-06-02T11:05:04.825Z"
   },
   {
    "duration": 23,
    "start_time": "2025-06-02T11:05:04.998Z"
   },
   {
    "duration": 5,
    "start_time": "2025-06-02T11:05:05.023Z"
   },
   {
    "duration": 7,
    "start_time": "2025-06-02T11:05:05.030Z"
   },
   {
    "duration": 7,
    "start_time": "2025-06-02T11:05:05.040Z"
   },
   {
    "duration": 5,
    "start_time": "2025-06-02T11:05:05.048Z"
   },
   {
    "duration": 21,
    "start_time": "2025-06-02T11:05:05.055Z"
   },
   {
    "duration": 6,
    "start_time": "2025-06-02T11:05:05.078Z"
   },
   {
    "duration": 11,
    "start_time": "2025-06-02T11:05:05.086Z"
   },
   {
    "duration": 25,
    "start_time": "2025-06-02T11:05:05.098Z"
   },
   {
    "duration": 725,
    "start_time": "2025-06-02T11:05:05.124Z"
   },
   {
    "duration": 7,
    "start_time": "2025-06-02T11:05:10.880Z"
   },
   {
    "duration": 3,
    "start_time": "2025-06-02T11:05:11.775Z"
   },
   {
    "duration": 119,
    "start_time": "2025-06-02T11:05:12.424Z"
   },
   {
    "duration": 3,
    "start_time": "2025-06-02T11:07:14.205Z"
   },
   {
    "duration": 9,
    "start_time": "2025-06-02T11:07:18.995Z"
   },
   {
    "duration": 3,
    "start_time": "2025-06-02T11:07:19.609Z"
   },
   {
    "duration": 10,
    "start_time": "2025-06-02T11:07:20.279Z"
   },
   {
    "duration": 11,
    "start_time": "2025-06-02T11:09:19.402Z"
   },
   {
    "duration": 3,
    "start_time": "2025-06-02T11:10:27.972Z"
   },
   {
    "duration": 11,
    "start_time": "2025-06-02T11:10:32.804Z"
   },
   {
    "duration": 12,
    "start_time": "2025-06-02T11:10:42.496Z"
   },
   {
    "duration": 11,
    "start_time": "2025-06-02T11:10:43.024Z"
   },
   {
    "duration": 12,
    "start_time": "2025-06-02T11:11:13.838Z"
   },
   {
    "duration": 4,
    "start_time": "2025-06-02T11:11:23.810Z"
   },
   {
    "duration": 11,
    "start_time": "2025-06-02T11:11:24.893Z"
   },
   {
    "duration": 8,
    "start_time": "2025-06-02T11:11:25.394Z"
   },
   {
    "duration": 10,
    "start_time": "2025-06-02T11:11:26.001Z"
   },
   {
    "duration": 10,
    "start_time": "2025-06-02T11:11:43.149Z"
   },
   {
    "duration": 3,
    "start_time": "2025-06-02T11:11:48.941Z"
   },
   {
    "duration": 34,
    "start_time": "2025-06-02T11:11:51.892Z"
   },
   {
    "duration": 12,
    "start_time": "2025-06-02T11:13:19.449Z"
   },
   {
    "duration": 4,
    "start_time": "2025-06-02T11:13:24.858Z"
   },
   {
    "duration": 495,
    "start_time": "2025-06-02T13:50:52.143Z"
   },
   {
    "duration": 4,
    "start_time": "2025-06-02T13:51:20.861Z"
   },
   {
    "duration": 31,
    "start_time": "2025-06-02T13:51:20.867Z"
   },
   {
    "duration": 38,
    "start_time": "2025-06-02T13:51:20.901Z"
   },
   {
    "duration": 535,
    "start_time": "2025-06-02T13:51:20.941Z"
   },
   {
    "duration": 5,
    "start_time": "2025-06-02T13:51:21.478Z"
   },
   {
    "duration": 14,
    "start_time": "2025-06-02T13:51:21.484Z"
   },
   {
    "duration": 7,
    "start_time": "2025-06-02T13:51:21.500Z"
   },
   {
    "duration": 3,
    "start_time": "2025-06-02T13:51:21.510Z"
   },
   {
    "duration": 8,
    "start_time": "2025-06-02T13:51:21.515Z"
   },
   {
    "duration": 5,
    "start_time": "2025-06-02T13:51:21.560Z"
   },
   {
    "duration": 29,
    "start_time": "2025-06-02T13:51:21.568Z"
   },
   {
    "duration": 10,
    "start_time": "2025-06-02T13:51:21.599Z"
   },
   {
    "duration": 6,
    "start_time": "2025-06-02T13:51:21.611Z"
   },
   {
    "duration": 75,
    "start_time": "2025-06-02T13:51:21.619Z"
   },
   {
    "duration": 31,
    "start_time": "2025-06-02T13:51:21.696Z"
   },
   {
    "duration": 602,
    "start_time": "2025-06-02T13:51:21.729Z"
   },
   {
    "duration": 161,
    "start_time": "2025-06-02T13:51:22.333Z"
   },
   {
    "duration": 3,
    "start_time": "2025-06-02T13:51:22.495Z"
   },
   {
    "duration": 66,
    "start_time": "2025-06-02T13:51:22.500Z"
   },
   {
    "duration": 6,
    "start_time": "2025-06-02T13:51:22.568Z"
   },
   {
    "duration": 3,
    "start_time": "2025-06-02T13:51:22.576Z"
   },
   {
    "duration": 11,
    "start_time": "2025-06-02T13:51:22.581Z"
   },
   {
    "duration": 114,
    "start_time": "2025-06-02T13:51:22.594Z"
   },
   {
    "duration": 9,
    "start_time": "2025-06-02T13:51:22.710Z"
   },
   {
    "duration": 36,
    "start_time": "2025-06-02T13:51:22.721Z"
   },
   {
    "duration": 10,
    "start_time": "2025-06-02T13:51:22.759Z"
   },
   {
    "duration": 4,
    "start_time": "2025-06-02T13:51:28.744Z"
   },
   {
    "duration": 4,
    "start_time": "2025-06-02T13:52:52.631Z"
   },
   {
    "duration": 3,
    "start_time": "2025-06-02T13:54:34.552Z"
   },
   {
    "duration": 4,
    "start_time": "2025-06-02T13:59:23.071Z"
   },
   {
    "duration": 5,
    "start_time": "2025-06-02T14:01:27.853Z"
   },
   {
    "duration": 3,
    "start_time": "2025-06-02T14:01:37.778Z"
   },
   {
    "duration": 59,
    "start_time": "2025-06-02T14:01:57.868Z"
   },
   {
    "duration": 28,
    "start_time": "2025-06-02T14:03:40.688Z"
   },
   {
    "duration": 5,
    "start_time": "2025-06-02T14:04:37.444Z"
   },
   {
    "duration": 3,
    "start_time": "2025-06-02T14:04:38.110Z"
   },
   {
    "duration": 27,
    "start_time": "2025-06-02T14:04:38.771Z"
   },
   {
    "duration": 5,
    "start_time": "2025-06-02T14:13:55.439Z"
   },
   {
    "duration": 3,
    "start_time": "2025-06-02T14:13:55.984Z"
   },
   {
    "duration": 365,
    "start_time": "2025-06-02T14:13:56.621Z"
   },
   {
    "duration": 3,
    "start_time": "2025-06-02T14:18:57.798Z"
   },
   {
    "duration": 439,
    "start_time": "2025-06-02T14:19:00.422Z"
   },
   {
    "duration": 7,
    "start_time": "2025-06-02T14:27:19.017Z"
   },
   {
    "duration": 16,
    "start_time": "2025-06-02T14:27:35.781Z"
   },
   {
    "duration": 13,
    "start_time": "2025-06-02T14:28:32.136Z"
   },
   {
    "duration": 5,
    "start_time": "2025-06-02T14:28:49.040Z"
   },
   {
    "duration": 6,
    "start_time": "2025-06-02T14:29:37.343Z"
   },
   {
    "duration": 5,
    "start_time": "2025-06-02T14:29:38.551Z"
   },
   {
    "duration": 11,
    "start_time": "2025-06-02T14:29:49.047Z"
   },
   {
    "duration": 7,
    "start_time": "2025-06-02T14:29:49.685Z"
   },
   {
    "duration": 8,
    "start_time": "2025-06-02T14:30:25.760Z"
   },
   {
    "duration": 5,
    "start_time": "2025-06-02T14:30:26.437Z"
   },
   {
    "duration": 6,
    "start_time": "2025-06-02T14:30:37.055Z"
   },
   {
    "duration": 28,
    "start_time": "2025-06-02T14:30:38.018Z"
   },
   {
    "duration": 7,
    "start_time": "2025-06-02T14:30:45.124Z"
   },
   {
    "duration": 5,
    "start_time": "2025-06-02T14:30:45.982Z"
   },
   {
    "duration": 13,
    "start_time": "2025-06-02T14:30:59.277Z"
   },
   {
    "duration": 6,
    "start_time": "2025-06-02T14:31:06.770Z"
   },
   {
    "duration": 5,
    "start_time": "2025-06-02T14:31:07.770Z"
   },
   {
    "duration": 8,
    "start_time": "2025-06-02T14:31:46.704Z"
   },
   {
    "duration": 6,
    "start_time": "2025-06-02T14:31:47.415Z"
   },
   {
    "duration": 6,
    "start_time": "2025-06-02T14:31:50.216Z"
   },
   {
    "duration": 14,
    "start_time": "2025-06-02T14:32:08.437Z"
   },
   {
    "duration": 7,
    "start_time": "2025-06-02T14:32:43.652Z"
   },
   {
    "duration": 6,
    "start_time": "2025-06-02T14:32:44.617Z"
   },
   {
    "duration": 7,
    "start_time": "2025-06-02T14:34:59.936Z"
   },
   {
    "duration": 5,
    "start_time": "2025-06-02T14:35:04.394Z"
   },
   {
    "duration": 7,
    "start_time": "2025-06-02T14:35:10.959Z"
   },
   {
    "duration": 5,
    "start_time": "2025-06-02T14:35:14.758Z"
   },
   {
    "duration": 16,
    "start_time": "2025-06-02T14:35:32.736Z"
   },
   {
    "duration": 1253,
    "start_time": "2025-06-02T14:35:55.019Z"
   },
   {
    "duration": 6,
    "start_time": "2025-06-02T14:35:56.274Z"
   },
   {
    "duration": 8,
    "start_time": "2025-06-02T14:39:54.095Z"
   },
   {
    "duration": 4,
    "start_time": "2025-06-02T14:39:58.480Z"
   },
   {
    "duration": 15,
    "start_time": "2025-06-02T14:40:47.168Z"
   },
   {
    "duration": 1362,
    "start_time": "2025-06-02T14:40:55.199Z"
   },
   {
    "duration": 7,
    "start_time": "2025-06-02T14:45:52.409Z"
   },
   {
    "duration": 5,
    "start_time": "2025-06-02T14:45:58.438Z"
   },
   {
    "duration": 15,
    "start_time": "2025-06-02T14:50:27.968Z"
   },
   {
    "duration": 10,
    "start_time": "2025-06-02T14:50:40.384Z"
   },
   {
    "duration": 6,
    "start_time": "2025-06-02T14:54:22.760Z"
   },
   {
    "duration": 14,
    "start_time": "2025-06-02T15:10:59.687Z"
   },
   {
    "duration": 6,
    "start_time": "2025-06-02T15:11:14.238Z"
   },
   {
    "duration": 15,
    "start_time": "2025-06-02T15:11:15.459Z"
   },
   {
    "duration": 6,
    "start_time": "2025-06-02T15:27:25.278Z"
   },
   {
    "duration": 16,
    "start_time": "2025-06-02T15:27:36.370Z"
   },
   {
    "duration": 5,
    "start_time": "2025-06-02T15:35:45.220Z"
   },
   {
    "duration": 5,
    "start_time": "2025-06-02T15:44:29.358Z"
   },
   {
    "duration": 127,
    "start_time": "2025-06-02T15:44:55.337Z"
   },
   {
    "duration": 9,
    "start_time": "2025-06-02T15:45:16.708Z"
   },
   {
    "duration": 13,
    "start_time": "2025-06-02T15:45:48.359Z"
   },
   {
    "duration": 75,
    "start_time": "2025-06-02T15:46:37.367Z"
   },
   {
    "duration": 80,
    "start_time": "2025-06-02T15:47:10.139Z"
   },
   {
    "duration": 13,
    "start_time": "2025-06-02T15:47:34.538Z"
   },
   {
    "duration": 4,
    "start_time": "2025-06-02T15:49:51.110Z"
   },
   {
    "duration": 12,
    "start_time": "2025-06-02T15:49:58.367Z"
   },
   {
    "duration": 22,
    "start_time": "2025-06-02T15:50:17.084Z"
   },
   {
    "duration": 6,
    "start_time": "2025-06-02T15:55:40.450Z"
   },
   {
    "duration": 7,
    "start_time": "2025-06-02T15:55:42.729Z"
   },
   {
    "duration": 4,
    "start_time": "2025-06-02T15:55:43.813Z"
   },
   {
    "duration": 24,
    "start_time": "2025-06-02T15:55:44.824Z"
   },
   {
    "duration": 33,
    "start_time": "2025-06-02T15:57:00.636Z"
   },
   {
    "duration": 5651,
    "start_time": "2025-06-02T15:58:21.472Z"
   },
   {
    "duration": 83679,
    "start_time": "2025-06-02T16:12:52.245Z"
   },
   {
    "duration": 1955,
    "start_time": "2025-06-02T16:19:19.525Z"
   },
   {
    "duration": 20,
    "start_time": "2025-06-02T16:19:21.482Z"
   },
   {
    "duration": 6,
    "start_time": "2025-06-02T16:19:21.503Z"
   },
   {
    "duration": 541,
    "start_time": "2025-06-02T16:19:21.511Z"
   },
   {
    "duration": 9,
    "start_time": "2025-06-02T16:19:22.054Z"
   },
   {
    "duration": 14,
    "start_time": "2025-06-02T16:19:22.065Z"
   },
   {
    "duration": 7,
    "start_time": "2025-06-02T16:19:22.081Z"
   },
   {
    "duration": 4,
    "start_time": "2025-06-02T16:19:22.089Z"
   },
   {
    "duration": 5,
    "start_time": "2025-06-02T16:19:22.094Z"
   },
   {
    "duration": 5,
    "start_time": "2025-06-02T16:19:22.101Z"
   },
   {
    "duration": 23,
    "start_time": "2025-06-02T16:19:22.107Z"
   },
   {
    "duration": 32,
    "start_time": "2025-06-02T16:19:22.131Z"
   },
   {
    "duration": 6,
    "start_time": "2025-06-02T16:19:22.164Z"
   },
   {
    "duration": 7,
    "start_time": "2025-06-02T16:19:22.174Z"
   },
   {
    "duration": 24,
    "start_time": "2025-06-02T16:19:22.182Z"
   },
   {
    "duration": 633,
    "start_time": "2025-06-02T16:19:22.208Z"
   },
   {
    "duration": 160,
    "start_time": "2025-06-02T16:19:22.843Z"
   },
   {
    "duration": 3,
    "start_time": "2025-06-02T16:19:23.005Z"
   },
   {
    "duration": 68,
    "start_time": "2025-06-02T16:19:23.009Z"
   },
   {
    "duration": 23,
    "start_time": "2025-06-02T16:19:23.079Z"
   },
   {
    "duration": 7,
    "start_time": "2025-06-02T16:19:23.104Z"
   },
   {
    "duration": 12,
    "start_time": "2025-06-02T16:19:23.113Z"
   },
   {
    "duration": 9,
    "start_time": "2025-06-02T16:19:23.127Z"
   },
   {
    "duration": 5,
    "start_time": "2025-06-02T16:19:23.138Z"
   },
   {
    "duration": 44,
    "start_time": "2025-06-02T16:19:23.145Z"
   },
   {
    "duration": 5,
    "start_time": "2025-06-02T16:19:23.191Z"
   },
   {
    "duration": 5,
    "start_time": "2025-06-02T16:19:23.198Z"
   },
   {
    "duration": 6,
    "start_time": "2025-06-02T16:19:23.205Z"
   },
   {
    "duration": 5563,
    "start_time": "2025-06-02T16:19:23.213Z"
   },
   {
    "duration": 83719,
    "start_time": "2025-06-02T16:19:28.778Z"
   },
   {
    "duration": 6,
    "start_time": "2025-06-02T16:20:52.499Z"
   },
   {
    "duration": 11,
    "start_time": "2025-06-02T16:20:52.507Z"
   },
   {
    "duration": 20,
    "start_time": "2025-06-02T16:20:52.519Z"
   },
   {
    "duration": 186,
    "start_time": "2025-06-02T16:20:52.540Z"
   },
   {
    "duration": 0,
    "start_time": "2025-06-02T16:20:52.728Z"
   },
   {
    "duration": 0,
    "start_time": "2025-06-02T16:20:52.730Z"
   },
   {
    "duration": 0,
    "start_time": "2025-06-02T16:20:52.731Z"
   },
   {
    "duration": 0,
    "start_time": "2025-06-02T16:20:52.732Z"
   },
   {
    "duration": 0,
    "start_time": "2025-06-02T16:20:52.733Z"
   },
   {
    "duration": 1,
    "start_time": "2025-06-02T16:20:52.734Z"
   },
   {
    "duration": 0,
    "start_time": "2025-06-02T16:20:52.736Z"
   },
   {
    "duration": 0,
    "start_time": "2025-06-02T16:20:52.737Z"
   },
   {
    "duration": 0,
    "start_time": "2025-06-02T16:20:52.737Z"
   },
   {
    "duration": 0,
    "start_time": "2025-06-02T16:20:52.738Z"
   },
   {
    "duration": 0,
    "start_time": "2025-06-02T16:20:52.760Z"
   },
   {
    "duration": 0,
    "start_time": "2025-06-02T16:20:52.762Z"
   },
   {
    "duration": 0,
    "start_time": "2025-06-02T16:20:52.763Z"
   },
   {
    "duration": 0,
    "start_time": "2025-06-02T16:20:52.764Z"
   },
   {
    "duration": 0,
    "start_time": "2025-06-02T16:20:52.765Z"
   },
   {
    "duration": 0,
    "start_time": "2025-06-02T16:20:52.767Z"
   },
   {
    "duration": 1804,
    "start_time": "2025-06-02T16:23:49.992Z"
   },
   {
    "duration": 11,
    "start_time": "2025-06-02T16:23:59.173Z"
   },
   {
    "duration": 3,
    "start_time": "2025-06-02T16:24:24.740Z"
   },
   {
    "duration": 3,
    "start_time": "2025-06-02T16:24:25.277Z"
   },
   {
    "duration": 5,
    "start_time": "2025-06-02T16:24:27.242Z"
   },
   {
    "duration": 4,
    "start_time": "2025-06-02T16:24:46.865Z"
   },
   {
    "duration": 4,
    "start_time": "2025-06-02T16:24:47.357Z"
   },
   {
    "duration": 4,
    "start_time": "2025-06-02T16:24:47.795Z"
   },
   {
    "duration": 6,
    "start_time": "2025-06-02T16:24:48.319Z"
   },
   {
    "duration": 604,
    "start_time": "2025-06-02T16:24:51.567Z"
   },
   {
    "duration": 3,
    "start_time": "2025-06-02T16:25:40.729Z"
   },
   {
    "duration": 17,
    "start_time": "2025-06-02T16:26:48.795Z"
   },
   {
    "duration": 140,
    "start_time": "2025-06-02T16:26:54.124Z"
   },
   {
    "duration": 6,
    "start_time": "2025-06-02T16:27:22.541Z"
   },
   {
    "duration": 2,
    "start_time": "2025-06-02T16:27:26.467Z"
   },
   {
    "duration": 4,
    "start_time": "2025-06-02T16:27:28.456Z"
   },
   {
    "duration": 4,
    "start_time": "2025-06-02T16:27:29.065Z"
   },
   {
    "duration": 10,
    "start_time": "2025-06-02T16:27:29.781Z"
   },
   {
    "duration": 8,
    "start_time": "2025-06-02T16:27:30.498Z"
   },
   {
    "duration": 4,
    "start_time": "2025-06-02T16:27:31.106Z"
   },
   {
    "duration": 4,
    "start_time": "2025-06-02T16:27:34.210Z"
   },
   {
    "duration": 4,
    "start_time": "2025-06-02T16:27:39.206Z"
   },
   {
    "duration": 5555,
    "start_time": "2025-06-02T16:27:47.607Z"
   },
   {
    "duration": 14,
    "start_time": "2025-06-02T16:28:21.155Z"
   },
   {
    "duration": 3,
    "start_time": "2025-06-02T16:30:16.208Z"
   },
   {
    "duration": 5954,
    "start_time": "2025-06-02T16:30:21.990Z"
   },
   {
    "duration": 83149,
    "start_time": "2025-06-02T16:30:31.819Z"
   },
   {
    "duration": 5,
    "start_time": "2025-06-02T16:35:04.635Z"
   },
   {
    "duration": 5,
    "start_time": "2025-06-02T16:37:19.768Z"
   },
   {
    "duration": 2104,
    "start_time": "2025-06-02T20:59:01.786Z"
   },
   {
    "duration": 30,
    "start_time": "2025-06-02T20:59:03.892Z"
   },
   {
    "duration": 498,
    "start_time": "2025-06-02T20:59:06.067Z"
   },
   {
    "duration": 4,
    "start_time": "2025-06-02T20:59:08.469Z"
   },
   {
    "duration": 13,
    "start_time": "2025-06-02T20:59:09.179Z"
   },
   {
    "duration": 2,
    "start_time": "2025-06-02T20:59:16.935Z"
   },
   {
    "duration": 2,
    "start_time": "2025-06-02T20:59:17.977Z"
   },
   {
    "duration": 5,
    "start_time": "2025-06-02T20:59:22.083Z"
   },
   {
    "duration": 4,
    "start_time": "2025-06-02T20:59:24.783Z"
   },
   {
    "duration": 4,
    "start_time": "2025-06-02T20:59:25.419Z"
   },
   {
    "duration": 4,
    "start_time": "2025-06-02T20:59:26.058Z"
   },
   {
    "duration": 5,
    "start_time": "2025-06-02T20:59:26.702Z"
   },
   {
    "duration": 6,
    "start_time": "2025-06-02T20:59:27.269Z"
   },
   {
    "duration": 24,
    "start_time": "2025-06-02T20:59:39.802Z"
   },
   {
    "duration": 5,
    "start_time": "2025-06-02T21:11:30.812Z"
   },
   {
    "duration": 2,
    "start_time": "2025-06-02T21:11:33.290Z"
   },
   {
    "duration": 3,
    "start_time": "2025-06-02T21:11:40.072Z"
   },
   {
    "duration": 138,
    "start_time": "2025-06-02T21:11:42.039Z"
   },
   {
    "duration": 2,
    "start_time": "2025-06-02T21:11:50.231Z"
   },
   {
    "duration": 10,
    "start_time": "2025-06-02T21:12:00.224Z"
   },
   {
    "duration": 3,
    "start_time": "2025-06-02T21:12:30.040Z"
   },
   {
    "duration": 4,
    "start_time": "2025-06-02T21:12:33.519Z"
   },
   {
    "duration": 3,
    "start_time": "2025-06-02T21:13:22.906Z"
   },
   {
    "duration": 7,
    "start_time": "2025-06-02T21:13:29.312Z"
   },
   {
    "duration": 381,
    "start_time": "2025-06-02T21:15:10.170Z"
   },
   {
    "duration": 4,
    "start_time": "2025-06-02T21:15:36.896Z"
   },
   {
    "duration": 24,
    "start_time": "2025-06-02T21:15:39.134Z"
   },
   {
    "duration": 4,
    "start_time": "2025-06-02T21:16:48.897Z"
   },
   {
    "duration": 4,
    "start_time": "2025-06-02T21:16:56.895Z"
   },
   {
    "duration": 4,
    "start_time": "2025-06-02T21:18:09.437Z"
   },
   {
    "duration": 4,
    "start_time": "2025-06-02T21:18:21.513Z"
   },
   {
    "duration": 4,
    "start_time": "2025-06-02T21:18:23.702Z"
   },
   {
    "duration": 3,
    "start_time": "2025-06-02T21:18:53.775Z"
   },
   {
    "duration": 33,
    "start_time": "2025-06-02T21:18:53.780Z"
   },
   {
    "duration": 4,
    "start_time": "2025-06-02T21:18:53.815Z"
   },
   {
    "duration": 413,
    "start_time": "2025-06-02T21:18:53.820Z"
   },
   {
    "duration": 4,
    "start_time": "2025-06-02T21:18:54.235Z"
   },
   {
    "duration": 22,
    "start_time": "2025-06-02T21:18:54.240Z"
   },
   {
    "duration": 5,
    "start_time": "2025-06-02T21:18:54.264Z"
   },
   {
    "duration": 4,
    "start_time": "2025-06-02T21:18:54.270Z"
   },
   {
    "duration": 8,
    "start_time": "2025-06-02T21:18:54.276Z"
   },
   {
    "duration": 5,
    "start_time": "2025-06-02T21:18:54.285Z"
   },
   {
    "duration": 9,
    "start_time": "2025-06-02T21:18:54.292Z"
   },
   {
    "duration": 6,
    "start_time": "2025-06-02T21:18:54.302Z"
   },
   {
    "duration": 29,
    "start_time": "2025-06-02T21:18:54.309Z"
   },
   {
    "duration": 7,
    "start_time": "2025-06-02T21:18:54.341Z"
   },
   {
    "duration": 23,
    "start_time": "2025-06-02T21:18:54.350Z"
   },
   {
    "duration": 703,
    "start_time": "2025-06-02T21:18:54.375Z"
   },
   {
    "duration": 144,
    "start_time": "2025-06-02T21:18:55.080Z"
   },
   {
    "duration": 13,
    "start_time": "2025-06-02T21:18:55.225Z"
   },
   {
    "duration": 3,
    "start_time": "2025-06-02T21:18:55.239Z"
   },
   {
    "duration": 6,
    "start_time": "2025-06-02T21:18:55.243Z"
   },
   {
    "duration": 4,
    "start_time": "2025-06-02T21:18:55.251Z"
   },
   {
    "duration": 4,
    "start_time": "2025-06-02T21:18:55.256Z"
   },
   {
    "duration": 9,
    "start_time": "2025-06-02T21:18:55.262Z"
   },
   {
    "duration": 5,
    "start_time": "2025-06-02T21:18:55.273Z"
   },
   {
    "duration": 4,
    "start_time": "2025-06-02T21:18:55.280Z"
   },
   {
    "duration": 52,
    "start_time": "2025-06-02T21:18:55.286Z"
   },
   {
    "duration": 3,
    "start_time": "2025-06-02T21:18:55.340Z"
   },
   {
    "duration": 8,
    "start_time": "2025-06-02T21:18:55.345Z"
   },
   {
    "duration": 4,
    "start_time": "2025-06-02T21:20:00.651Z"
   },
   {
    "duration": 40,
    "start_time": "2025-06-02T21:20:00.658Z"
   },
   {
    "duration": 5,
    "start_time": "2025-06-02T21:20:00.700Z"
   },
   {
    "duration": 439,
    "start_time": "2025-06-02T21:20:00.707Z"
   },
   {
    "duration": 4,
    "start_time": "2025-06-02T21:20:01.148Z"
   },
   {
    "duration": 16,
    "start_time": "2025-06-02T21:20:01.153Z"
   },
   {
    "duration": 13,
    "start_time": "2025-06-02T21:20:01.171Z"
   },
   {
    "duration": 14,
    "start_time": "2025-06-02T21:20:01.186Z"
   },
   {
    "duration": 6,
    "start_time": "2025-06-02T21:20:01.202Z"
   },
   {
    "duration": 6,
    "start_time": "2025-06-02T21:20:01.210Z"
   },
   {
    "duration": 54,
    "start_time": "2025-06-02T21:20:01.218Z"
   },
   {
    "duration": 58,
    "start_time": "2025-06-02T21:20:01.274Z"
   },
   {
    "duration": 39,
    "start_time": "2025-06-02T21:20:01.334Z"
   },
   {
    "duration": 13,
    "start_time": "2025-06-02T21:20:01.377Z"
   },
   {
    "duration": 35,
    "start_time": "2025-06-02T21:20:01.392Z"
   },
   {
    "duration": 586,
    "start_time": "2025-06-02T21:20:01.429Z"
   },
   {
    "duration": 142,
    "start_time": "2025-06-02T21:20:02.017Z"
   },
   {
    "duration": 6,
    "start_time": "2025-06-02T21:20:02.161Z"
   },
   {
    "duration": 14,
    "start_time": "2025-06-02T21:20:02.169Z"
   },
   {
    "duration": 29,
    "start_time": "2025-06-02T21:20:02.185Z"
   },
   {
    "duration": 94,
    "start_time": "2025-06-02T21:20:02.216Z"
   },
   {
    "duration": 8,
    "start_time": "2025-06-02T21:20:02.311Z"
   },
   {
    "duration": 43,
    "start_time": "2025-06-02T21:20:02.320Z"
   },
   {
    "duration": 119,
    "start_time": "2025-06-02T21:20:02.365Z"
   },
   {
    "duration": 22,
    "start_time": "2025-06-02T21:20:02.485Z"
   },
   {
    "duration": 67,
    "start_time": "2025-06-02T21:20:02.509Z"
   },
   {
    "duration": 31,
    "start_time": "2025-06-02T21:20:02.577Z"
   },
   {
    "duration": 5,
    "start_time": "2025-06-02T21:21:08.882Z"
   },
   {
    "duration": 4,
    "start_time": "2025-06-02T21:21:09.505Z"
   },
   {
    "duration": 3,
    "start_time": "2025-06-02T21:21:10.179Z"
   },
   {
    "duration": 11,
    "start_time": "2025-06-02T21:21:22.365Z"
   },
   {
    "duration": 12,
    "start_time": "2025-06-02T21:21:35.903Z"
   },
   {
    "duration": 39,
    "start_time": "2025-06-02T21:21:45.220Z"
   },
   {
    "duration": 6,
    "start_time": "2025-06-02T21:23:34.327Z"
   },
   {
    "duration": 7,
    "start_time": "2025-06-02T21:23:42.000Z"
   },
   {
    "duration": 8,
    "start_time": "2025-06-02T21:23:42.431Z"
   },
   {
    "duration": 12,
    "start_time": "2025-06-02T21:23:47.528Z"
   },
   {
    "duration": 11,
    "start_time": "2025-06-02T21:24:00.355Z"
   },
   {
    "duration": 11,
    "start_time": "2025-06-02T21:24:16.210Z"
   },
   {
    "duration": 3,
    "start_time": "2025-06-02T21:24:22.593Z"
   },
   {
    "duration": 9229,
    "start_time": "2025-06-02T21:24:34.631Z"
   },
   {
    "duration": 3,
    "start_time": "2025-06-02T21:25:31.813Z"
   },
   {
    "duration": 8256,
    "start_time": "2025-06-02T21:25:33.701Z"
   },
   {
    "duration": 41,
    "start_time": "2025-06-02T21:27:26.150Z"
   },
   {
    "duration": 3,
    "start_time": "2025-06-02T21:27:43.720Z"
   },
   {
    "duration": 18,
    "start_time": "2025-06-02T21:27:43.725Z"
   },
   {
    "duration": 4,
    "start_time": "2025-06-02T21:27:43.744Z"
   },
   {
    "duration": 392,
    "start_time": "2025-06-02T21:27:43.749Z"
   },
   {
    "duration": 4,
    "start_time": "2025-06-02T21:27:44.143Z"
   },
   {
    "duration": 35,
    "start_time": "2025-06-02T21:27:44.148Z"
   },
   {
    "duration": 14,
    "start_time": "2025-06-02T21:27:44.185Z"
   },
   {
    "duration": 14,
    "start_time": "2025-06-02T21:27:44.202Z"
   },
   {
    "duration": 17,
    "start_time": "2025-06-02T21:27:44.218Z"
   },
   {
    "duration": 18,
    "start_time": "2025-06-02T21:27:44.236Z"
   },
   {
    "duration": 26,
    "start_time": "2025-06-02T21:27:44.256Z"
   },
   {
    "duration": 35,
    "start_time": "2025-06-02T21:27:44.283Z"
   },
   {
    "duration": 28,
    "start_time": "2025-06-02T21:27:44.319Z"
   },
   {
    "duration": 6,
    "start_time": "2025-06-02T21:27:44.349Z"
   },
   {
    "duration": 28,
    "start_time": "2025-06-02T21:27:44.357Z"
   },
   {
    "duration": 560,
    "start_time": "2025-06-02T21:27:44.386Z"
   },
   {
    "duration": 138,
    "start_time": "2025-06-02T21:27:44.948Z"
   },
   {
    "duration": 4,
    "start_time": "2025-06-02T21:27:45.088Z"
   },
   {
    "duration": 35,
    "start_time": "2025-06-02T21:27:45.093Z"
   },
   {
    "duration": 21,
    "start_time": "2025-06-02T21:27:45.130Z"
   },
   {
    "duration": 18,
    "start_time": "2025-06-02T21:27:45.152Z"
   },
   {
    "duration": 17,
    "start_time": "2025-06-02T21:27:45.172Z"
   },
   {
    "duration": 19,
    "start_time": "2025-06-02T21:27:45.190Z"
   },
   {
    "duration": 18,
    "start_time": "2025-06-02T21:27:45.211Z"
   },
   {
    "duration": 36,
    "start_time": "2025-06-02T21:27:45.231Z"
   },
   {
    "duration": 5,
    "start_time": "2025-06-02T21:27:45.269Z"
   },
   {
    "duration": 21,
    "start_time": "2025-06-02T21:27:45.276Z"
   },
   {
    "duration": 47,
    "start_time": "2025-06-02T21:27:45.298Z"
   },
   {
    "duration": 18,
    "start_time": "2025-06-02T21:27:45.347Z"
   },
   {
    "duration": 5,
    "start_time": "2025-06-02T21:27:45.366Z"
   },
   {
    "duration": 9,
    "start_time": "2025-06-02T21:27:45.373Z"
   },
   {
    "duration": 29,
    "start_time": "2025-06-02T21:27:45.384Z"
   },
   {
    "duration": 39,
    "start_time": "2025-06-02T21:27:45.415Z"
   },
   {
    "duration": 1889,
    "start_time": "2025-06-02T21:28:43.995Z"
   },
   {
    "duration": 19,
    "start_time": "2025-06-02T21:28:45.885Z"
   },
   {
    "duration": 5,
    "start_time": "2025-06-02T21:28:45.906Z"
   },
   {
    "duration": 508,
    "start_time": "2025-06-02T21:28:45.913Z"
   },
   {
    "duration": 4,
    "start_time": "2025-06-02T21:28:46.422Z"
   },
   {
    "duration": 12,
    "start_time": "2025-06-02T21:28:46.659Z"
   },
   {
    "duration": 3,
    "start_time": "2025-06-02T21:28:47.609Z"
   },
   {
    "duration": 5,
    "start_time": "2025-06-02T21:32:58.726Z"
   },
   {
    "duration": 3,
    "start_time": "2025-06-02T21:33:08.826Z"
   },
   {
    "duration": 3,
    "start_time": "2025-06-02T21:33:12.463Z"
   },
   {
    "duration": 6,
    "start_time": "2025-06-02T21:33:13.031Z"
   },
   {
    "duration": 8,
    "start_time": "2025-06-02T21:33:13.798Z"
   },
   {
    "duration": 3,
    "start_time": "2025-06-02T21:33:14.695Z"
   },
   {
    "duration": 3,
    "start_time": "2025-06-02T21:33:15.449Z"
   },
   {
    "duration": 10,
    "start_time": "2025-06-02T21:33:16.131Z"
   },
   {
    "duration": 8,
    "start_time": "2025-06-02T21:33:18.896Z"
   },
   {
    "duration": 4,
    "start_time": "2025-06-02T21:33:19.545Z"
   },
   {
    "duration": 30,
    "start_time": "2025-06-02T21:33:26.231Z"
   },
   {
    "duration": 3,
    "start_time": "2025-06-02T21:33:31.628Z"
   },
   {
    "duration": 3,
    "start_time": "2025-06-02T21:33:37.330Z"
   },
   {
    "duration": 4,
    "start_time": "2025-06-02T21:33:38.113Z"
   },
   {
    "duration": 7,
    "start_time": "2025-06-02T21:33:43.815Z"
   },
   {
    "duration": 5076,
    "start_time": "2025-06-02T21:33:50.695Z"
   },
   {
    "duration": 5182,
    "start_time": "2025-06-02T21:35:42.322Z"
   },
   {
    "duration": 68119,
    "start_time": "2025-06-02T21:36:21.495Z"
   },
   {
    "duration": 0,
    "start_time": "2025-06-02T21:37:29.615Z"
   },
   {
    "duration": 0,
    "start_time": "2025-06-02T21:37:29.616Z"
   },
   {
    "duration": 0,
    "start_time": "2025-06-02T21:37:29.617Z"
   },
   {
    "duration": 67748,
    "start_time": "2025-06-02T21:37:55.105Z"
   },
   {
    "duration": 6,
    "start_time": "2025-06-02T21:39:06.795Z"
   },
   {
    "duration": 4,
    "start_time": "2025-06-02T21:39:26.456Z"
   },
   {
    "duration": 25,
    "start_time": "2025-06-02T21:39:28.810Z"
   },
   {
    "duration": 26,
    "start_time": "2025-06-02T21:40:41.488Z"
   },
   {
    "duration": 22,
    "start_time": "2025-06-02T21:40:47.074Z"
   },
   {
    "duration": 5,
    "start_time": "2025-06-02T21:41:28.204Z"
   },
   {
    "duration": 45981,
    "start_time": "2025-06-02T21:42:30.973Z"
   },
   {
    "duration": 7,
    "start_time": "2025-06-02T21:43:24.470Z"
   },
   {
    "duration": 7,
    "start_time": "2025-06-02T21:43:47.856Z"
   },
   {
    "duration": 3,
    "start_time": "2025-06-02T21:43:48.702Z"
   },
   {
    "duration": 24,
    "start_time": "2025-06-02T21:44:18.287Z"
   },
   {
    "duration": 6,
    "start_time": "2025-06-02T21:46:52.438Z"
   },
   {
    "duration": 8,
    "start_time": "2025-06-02T21:46:53.868Z"
   },
   {
    "duration": 4,
    "start_time": "2025-06-02T21:46:54.937Z"
   },
   {
    "duration": 6782,
    "start_time": "2025-06-02T21:46:55.695Z"
   },
   {
    "duration": 20407,
    "start_time": "2025-06-02T21:48:22.563Z"
   },
   {
    "duration": 32633,
    "start_time": "2025-06-02T21:48:59.759Z"
   },
   {
    "duration": 7,
    "start_time": "2025-06-02T21:50:18.702Z"
   },
   {
    "duration": 5,
    "start_time": "2025-06-02T21:50:19.695Z"
   },
   {
    "duration": 320185,
    "start_time": "2025-06-02T21:50:20.687Z"
   },
   {
    "duration": 4,
    "start_time": "2025-06-02T21:56:37.060Z"
   },
   {
    "duration": 6,
    "start_time": "2025-06-02T21:56:42.994Z"
   },
   {
    "duration": 6,
    "start_time": "2025-06-02T21:57:11.716Z"
   },
   {
    "duration": 665,
    "start_time": "2025-06-02T21:59:09.978Z"
   },
   {
    "duration": 665,
    "start_time": "2025-06-02T21:59:43.359Z"
   },
   {
    "duration": 2237,
    "start_time": "2025-06-03T18:28:35.953Z"
   },
   {
    "duration": 30,
    "start_time": "2025-06-03T18:28:38.192Z"
   },
   {
    "duration": 6,
    "start_time": "2025-06-03T18:28:38.224Z"
   },
   {
    "duration": 512,
    "start_time": "2025-06-03T18:28:51.351Z"
   },
   {
    "duration": 5,
    "start_time": "2025-06-03T18:28:54.399Z"
   },
   {
    "duration": 12,
    "start_time": "2025-06-03T18:28:55.250Z"
   },
   {
    "duration": 3,
    "start_time": "2025-06-03T18:34:13.858Z"
   },
   {
    "duration": 3,
    "start_time": "2025-06-03T18:34:14.290Z"
   },
   {
    "duration": 5,
    "start_time": "2025-06-03T18:34:20.755Z"
   },
   {
    "duration": 5,
    "start_time": "2025-06-03T18:34:21.157Z"
   },
   {
    "duration": 4,
    "start_time": "2025-06-03T18:34:21.956Z"
   },
   {
    "duration": 4,
    "start_time": "2025-06-03T18:34:22.556Z"
   },
   {
    "duration": 4,
    "start_time": "2025-06-03T18:34:23.155Z"
   },
   {
    "duration": 7,
    "start_time": "2025-06-03T18:34:23.502Z"
   },
   {
    "duration": 23,
    "start_time": "2025-06-03T18:34:24.200Z"
   },
   {
    "duration": 583,
    "start_time": "2025-06-03T18:34:30.175Z"
   },
   {
    "duration": 150,
    "start_time": "2025-06-03T18:34:30.760Z"
   },
   {
    "duration": 2,
    "start_time": "2025-06-03T18:34:34.787Z"
   },
   {
    "duration": 7,
    "start_time": "2025-06-03T18:34:35.367Z"
   },
   {
    "duration": 9,
    "start_time": "2025-06-03T18:34:37.373Z"
   },
   {
    "duration": 2,
    "start_time": "2025-06-03T18:34:40.148Z"
   },
   {
    "duration": 3,
    "start_time": "2025-06-03T18:34:41.556Z"
   },
   {
    "duration": 10,
    "start_time": "2025-06-03T18:34:43.457Z"
   },
   {
    "duration": 8,
    "start_time": "2025-06-03T18:34:44.089Z"
   },
   {
    "duration": 3,
    "start_time": "2025-06-03T18:34:44.823Z"
   },
   {
    "duration": 4,
    "start_time": "2025-06-03T18:34:48.591Z"
   },
   {
    "duration": 4,
    "start_time": "2025-06-03T18:34:50.639Z"
   },
   {
    "duration": 4,
    "start_time": "2025-06-03T18:34:51.255Z"
   },
   {
    "duration": 5305,
    "start_time": "2025-06-03T18:34:57.839Z"
   },
   {
    "duration": 195709,
    "start_time": "2025-06-03T18:35:07.061Z"
   },
   {
    "duration": 7,
    "start_time": "2025-06-03T18:38:26.904Z"
   },
   {
    "duration": 4,
    "start_time": "2025-06-03T18:38:32.264Z"
   },
   {
    "duration": 341679,
    "start_time": "2025-06-03T18:38:33.059Z"
   },
   {
    "duration": 4,
    "start_time": "2025-06-03T19:48:35.857Z"
   },
   {
    "duration": 31,
    "start_time": "2025-06-03T19:48:36.663Z"
   },
   {
    "duration": 5,
    "start_time": "2025-06-03T19:48:37.164Z"
   },
   {
    "duration": 426,
    "start_time": "2025-06-03T19:48:39.113Z"
   },
   {
    "duration": 4,
    "start_time": "2025-06-03T19:48:41.348Z"
   },
   {
    "duration": 14,
    "start_time": "2025-06-03T19:48:42.440Z"
   },
   {
    "duration": 4,
    "start_time": "2025-06-03T19:48:43.464Z"
   },
   {
    "duration": 4,
    "start_time": "2025-06-03T19:48:43.863Z"
   },
   {
    "duration": 7,
    "start_time": "2025-06-03T19:48:48.567Z"
   },
   {
    "duration": 6,
    "start_time": "2025-06-03T19:48:49.011Z"
   },
   {
    "duration": 6,
    "start_time": "2025-06-03T19:48:49.373Z"
   },
   {
    "duration": 6,
    "start_time": "2025-06-03T19:48:49.721Z"
   },
   {
    "duration": 6,
    "start_time": "2025-06-03T19:48:49.979Z"
   },
   {
    "duration": 10,
    "start_time": "2025-06-03T19:48:50.264Z"
   },
   {
    "duration": 26,
    "start_time": "2025-06-03T19:48:50.617Z"
   },
   {
    "duration": 588,
    "start_time": "2025-06-03T19:48:52.323Z"
   },
   {
    "duration": 3,
    "start_time": "2025-06-03T19:48:56.443Z"
   },
   {
    "duration": 7,
    "start_time": "2025-06-03T19:48:56.981Z"
   },
   {
    "duration": 8,
    "start_time": "2025-06-03T19:48:57.697Z"
   },
   {
    "duration": 3,
    "start_time": "2025-06-03T19:49:00.939Z"
   },
   {
    "duration": 3,
    "start_time": "2025-06-03T19:49:01.328Z"
   },
   {
    "duration": 10,
    "start_time": "2025-06-03T19:49:01.784Z"
   },
   {
    "duration": 9,
    "start_time": "2025-06-03T19:49:02.197Z"
   },
   {
    "duration": 4,
    "start_time": "2025-06-03T19:49:02.647Z"
   },
   {
    "duration": 4,
    "start_time": "2025-06-03T19:49:05.940Z"
   },
   {
    "duration": 3,
    "start_time": "2025-06-03T19:49:06.563Z"
   },
   {
    "duration": 4,
    "start_time": "2025-06-03T19:49:07.087Z"
   },
   {
    "duration": 4,
    "start_time": "2025-06-03T19:49:08.056Z"
   },
   {
    "duration": 5920,
    "start_time": "2025-06-03T19:49:08.740Z"
   },
   {
    "duration": 7,
    "start_time": "2025-06-03T19:49:27.022Z"
   },
   {
    "duration": 7,
    "start_time": "2025-06-03T19:49:29.501Z"
   },
   {
    "duration": 5,
    "start_time": "2025-06-03T19:49:31.224Z"
   },
   {
    "duration": 728688,
    "start_time": "2025-06-03T19:49:42.269Z"
   },
   {
    "duration": 6,
    "start_time": "2025-06-03T20:01:50.959Z"
   },
   {
    "duration": 7,
    "start_time": "2025-06-03T20:55:38.078Z"
   },
   {
    "duration": 7,
    "start_time": "2025-06-03T20:55:42.147Z"
   },
   {
    "duration": 16,
    "start_time": "2025-06-03T20:55:44.096Z"
   },
   {
    "duration": 42065,
    "start_time": "2025-06-03T20:55:47.355Z"
   },
   {
    "duration": 0,
    "start_time": "2025-06-03T20:57:01.522Z"
   },
   {
    "duration": 0,
    "start_time": "2025-06-03T20:57:01.523Z"
   },
   {
    "duration": 0,
    "start_time": "2025-06-03T20:57:01.524Z"
   },
   {
    "duration": 0,
    "start_time": "2025-06-03T20:57:01.525Z"
   },
   {
    "duration": 7,
    "start_time": "2025-06-03T20:57:06.389Z"
   },
   {
    "duration": 7,
    "start_time": "2025-06-03T20:57:07.143Z"
   },
   {
    "duration": 4,
    "start_time": "2025-06-03T20:57:07.799Z"
   },
   {
    "duration": 25,
    "start_time": "2025-06-03T20:57:08.506Z"
   },
   {
    "duration": 9,
    "start_time": "2025-06-03T20:58:51.639Z"
   },
   {
    "duration": 7,
    "start_time": "2025-06-03T20:58:53.379Z"
   },
   {
    "duration": 5,
    "start_time": "2025-06-03T20:58:54.319Z"
   },
   {
    "duration": 26559,
    "start_time": "2025-06-03T20:58:55.161Z"
   },
   {
    "duration": 8,
    "start_time": "2025-06-03T20:59:49.444Z"
   },
   {
    "duration": 7,
    "start_time": "2025-06-03T21:00:11.854Z"
   },
   {
    "duration": 7,
    "start_time": "2025-06-03T21:00:12.544Z"
   },
   {
    "duration": 4,
    "start_time": "2025-06-03T21:00:13.161Z"
   },
   {
    "duration": 68515,
    "start_time": "2025-06-03T21:00:13.934Z"
   },
   {
    "duration": 41506,
    "start_time": "2025-06-03T21:01:27.418Z"
   },
   {
    "duration": 5,
    "start_time": "2025-06-03T21:02:34.018Z"
   },
   {
    "duration": 298053,
    "start_time": "2025-06-03T21:02:41.899Z"
   },
   {
    "duration": 7,
    "start_time": "2025-06-03T21:22:29.350Z"
   },
   {
    "duration": 7,
    "start_time": "2025-06-03T21:22:36.305Z"
   },
   {
    "duration": 6,
    "start_time": "2025-06-03T21:23:54.025Z"
   },
   {
    "duration": 145381,
    "start_time": "2025-06-03T21:24:02.044Z"
   },
   {
    "duration": 5,
    "start_time": "2025-06-03T21:27:11.275Z"
   },
   {
    "duration": 54091,
    "start_time": "2025-06-03T21:27:16.530Z"
   },
   {
    "duration": 5,
    "start_time": "2025-06-03T21:28:42.043Z"
   },
   {
    "duration": 30319,
    "start_time": "2025-06-03T21:28:47.199Z"
   },
   {
    "duration": 6,
    "start_time": "2025-06-03T21:29:22.444Z"
   },
   {
    "duration": 104616,
    "start_time": "2025-06-03T21:29:23.009Z"
   },
   {
    "duration": 505789,
    "start_time": "2025-06-03T21:31:27.565Z"
   },
   {
    "duration": 11,
    "start_time": "2025-06-03T21:40:18.133Z"
   },
   {
    "duration": 145935,
    "start_time": "2025-06-03T21:41:07.087Z"
   },
   {
    "duration": 0,
    "start_time": "2025-06-03T21:43:33.023Z"
   },
   {
    "duration": 0,
    "start_time": "2025-06-03T21:43:33.025Z"
   },
   {
    "duration": 7,
    "start_time": "2025-06-03T21:43:43.977Z"
   },
   {
    "duration": 8,
    "start_time": "2025-06-03T21:46:57.632Z"
   },
   {
    "duration": 370165,
    "start_time": "2025-06-03T21:46:57.642Z"
   },
   {
    "duration": 5,
    "start_time": "2025-06-03T21:53:34.546Z"
   },
   {
    "duration": 716,
    "start_time": "2025-06-03T21:53:36.554Z"
   },
   {
    "duration": 714,
    "start_time": "2025-06-03T21:53:56.954Z"
   },
   {
    "duration": 0,
    "start_time": "2025-06-03T22:11:57.423Z"
   },
   {
    "duration": 5,
    "start_time": "2025-06-03T22:12:00.566Z"
   },
   {
    "duration": 769,
    "start_time": "2025-06-03T22:12:03.791Z"
   },
   {
    "duration": 7,
    "start_time": "2025-06-03T22:12:48.039Z"
   },
   {
    "duration": 746954,
    "start_time": "2025-06-03T22:12:53.371Z"
   },
   {
    "duration": 5,
    "start_time": "2025-06-03T22:25:43.166Z"
   },
   {
    "duration": 728,
    "start_time": "2025-06-03T22:25:45.447Z"
   },
   {
    "duration": 2009,
    "start_time": "2025-06-03T22:28:42.405Z"
   },
   {
    "duration": 17,
    "start_time": "2025-06-03T22:28:44.416Z"
   },
   {
    "duration": 31,
    "start_time": "2025-06-03T22:28:44.435Z"
   },
   {
    "duration": 437,
    "start_time": "2025-06-03T22:28:44.468Z"
   },
   {
    "duration": 4,
    "start_time": "2025-06-03T22:28:44.908Z"
   },
   {
    "duration": 33,
    "start_time": "2025-06-03T22:28:44.914Z"
   },
   {
    "duration": 7,
    "start_time": "2025-06-03T22:28:44.949Z"
   },
   {
    "duration": 14,
    "start_time": "2025-06-03T22:28:44.958Z"
   },
   {
    "duration": 6,
    "start_time": "2025-06-03T22:28:44.976Z"
   },
   {
    "duration": 22,
    "start_time": "2025-06-03T22:28:44.985Z"
   },
   {
    "duration": 50,
    "start_time": "2025-06-03T22:28:45.009Z"
   },
   {
    "duration": 37,
    "start_time": "2025-06-03T22:28:45.060Z"
   },
   {
    "duration": 86,
    "start_time": "2025-06-03T22:28:45.098Z"
   },
   {
    "duration": 28,
    "start_time": "2025-06-03T22:28:45.186Z"
   },
   {
    "duration": 64,
    "start_time": "2025-06-03T22:28:45.216Z"
   },
   {
    "duration": 601,
    "start_time": "2025-06-03T22:28:45.281Z"
   },
   {
    "duration": 156,
    "start_time": "2025-06-03T22:28:45.884Z"
   },
   {
    "duration": 4,
    "start_time": "2025-06-03T22:28:46.042Z"
   },
   {
    "duration": 21,
    "start_time": "2025-06-03T22:28:46.047Z"
   },
   {
    "duration": 2,
    "start_time": "2025-06-03T22:28:49.363Z"
   },
   {
    "duration": 7,
    "start_time": "2025-06-03T22:28:49.393Z"
   },
   {
    "duration": 4,
    "start_time": "2025-06-03T22:28:55.181Z"
   },
   {
    "duration": 141,
    "start_time": "2025-06-03T22:28:55.693Z"
   },
   {
    "duration": 11,
    "start_time": "2025-06-03T22:29:03.101Z"
   },
   {
    "duration": 14,
    "start_time": "2025-06-03T22:29:14.898Z"
   },
   {
    "duration": 8,
    "start_time": "2025-06-03T22:29:33.517Z"
   },
   {
    "duration": 14,
    "start_time": "2025-06-03T22:29:37.874Z"
   },
   {
    "duration": 11,
    "start_time": "2025-06-03T22:30:07.698Z"
   },
   {
    "duration": 11,
    "start_time": "2025-06-03T22:31:17.825Z"
   },
   {
    "duration": 3,
    "start_time": "2025-06-03T22:36:20.623Z"
   },
   {
    "duration": 3,
    "start_time": "2025-06-03T22:36:21.199Z"
   },
   {
    "duration": 11,
    "start_time": "2025-06-03T22:36:21.671Z"
   },
   {
    "duration": 8,
    "start_time": "2025-06-03T22:36:22.218Z"
   },
   {
    "duration": 3,
    "start_time": "2025-06-03T22:36:23.747Z"
   },
   {
    "duration": 32,
    "start_time": "2025-06-03T22:36:26.907Z"
   },
   {
    "duration": 3,
    "start_time": "2025-06-03T22:36:35.330Z"
   },
   {
    "duration": 3,
    "start_time": "2025-06-03T22:36:37.463Z"
   },
   {
    "duration": 4,
    "start_time": "2025-06-03T22:36:55.138Z"
   },
   {
    "duration": 2080,
    "start_time": "2025-06-04T16:45:25.296Z"
   },
   {
    "duration": 29,
    "start_time": "2025-06-04T16:45:27.378Z"
   },
   {
    "duration": 5,
    "start_time": "2025-06-04T16:45:27.409Z"
   },
   {
    "duration": 402,
    "start_time": "2025-06-04T16:45:27.415Z"
   },
   {
    "duration": 4,
    "start_time": "2025-06-04T16:45:27.819Z"
   },
   {
    "duration": 16,
    "start_time": "2025-06-04T16:45:28.102Z"
   },
   {
    "duration": 3,
    "start_time": "2025-06-04T16:45:28.632Z"
   },
   {
    "duration": 3,
    "start_time": "2025-06-04T16:45:30.445Z"
   },
   {
    "duration": 6,
    "start_time": "2025-06-04T16:45:32.644Z"
   },
   {
    "duration": 6,
    "start_time": "2025-06-04T16:45:33.837Z"
   },
   {
    "duration": 4,
    "start_time": "2025-06-04T16:45:34.312Z"
   },
   {
    "duration": 5,
    "start_time": "2025-06-04T16:45:34.711Z"
   },
   {
    "duration": 4,
    "start_time": "2025-06-04T16:45:35.195Z"
   },
   {
    "duration": 7,
    "start_time": "2025-06-04T16:45:36.751Z"
   },
   {
    "duration": 24,
    "start_time": "2025-06-04T16:45:38.786Z"
   },
   {
    "duration": 3,
    "start_time": "2025-06-04T16:46:47.762Z"
   },
   {
    "duration": 2,
    "start_time": "2025-06-04T16:46:48.210Z"
   },
   {
    "duration": 3,
    "start_time": "2025-06-04T16:46:52.320Z"
   },
   {
    "duration": 7,
    "start_time": "2025-06-04T16:46:52.837Z"
   },
   {
    "duration": 3,
    "start_time": "2025-06-04T16:47:13.660Z"
   },
   {
    "duration": 3,
    "start_time": "2025-06-04T16:47:22.909Z"
   },
   {
    "duration": 7,
    "start_time": "2025-06-04T16:48:32.822Z"
   },
   {
    "duration": 4,
    "start_time": "2025-06-04T16:49:32.865Z"
   },
   {
    "duration": 7,
    "start_time": "2025-06-04T16:49:56.212Z"
   },
   {
    "duration": 4,
    "start_time": "2025-06-04T16:50:53.543Z"
   },
   {
    "duration": 4,
    "start_time": "2025-06-04T16:50:54.041Z"
   },
   {
    "duration": 6,
    "start_time": "2025-06-04T16:51:10.014Z"
   },
   {
    "duration": 5,
    "start_time": "2025-06-04T16:51:35.926Z"
   },
   {
    "duration": 31,
    "start_time": "2025-06-04T16:51:40.027Z"
   },
   {
    "duration": 4,
    "start_time": "2025-06-04T16:52:01.336Z"
   },
   {
    "duration": 6,
    "start_time": "2025-06-04T16:52:03.041Z"
   },
   {
    "duration": 133,
    "start_time": "2025-06-04T16:52:50.609Z"
   },
   {
    "duration": 12,
    "start_time": "2025-06-04T16:53:03.740Z"
   },
   {
    "duration": 7,
    "start_time": "2025-06-04T16:53:42.842Z"
   },
   {
    "duration": 12,
    "start_time": "2025-06-04T16:53:48.209Z"
   },
   {
    "duration": 5,
    "start_time": "2025-06-04T16:53:52.202Z"
   },
   {
    "duration": 4,
    "start_time": "2025-06-04T16:55:14.529Z"
   },
   {
    "duration": 8,
    "start_time": "2025-06-04T16:55:22.609Z"
   },
   {
    "duration": 5,
    "start_time": "2025-06-04T17:07:13.747Z"
   },
   {
    "duration": 6,
    "start_time": "2025-06-04T17:12:31.326Z"
   },
   {
    "duration": 7,
    "start_time": "2025-06-04T17:14:04.834Z"
   },
   {
    "duration": 16,
    "start_time": "2025-06-04T17:14:23.734Z"
   },
   {
    "duration": 4,
    "start_time": "2025-06-04T17:16:15.315Z"
   },
   {
    "duration": 14,
    "start_time": "2025-06-04T17:16:17.415Z"
   },
   {
    "duration": 21,
    "start_time": "2025-06-04T17:16:32.832Z"
   },
   {
    "duration": 10,
    "start_time": "2025-06-04T17:16:52.040Z"
   },
   {
    "duration": 11,
    "start_time": "2025-06-04T17:16:56.800Z"
   },
   {
    "duration": 6,
    "start_time": "2025-06-04T17:17:06.415Z"
   },
   {
    "duration": 6,
    "start_time": "2025-06-04T17:17:07.683Z"
   },
   {
    "duration": 4,
    "start_time": "2025-06-04T17:17:08.332Z"
   },
   {
    "duration": 19,
    "start_time": "2025-06-04T17:17:09.318Z"
   },
   {
    "duration": 78,
    "start_time": "2025-06-04T17:18:35.974Z"
   },
   {
    "duration": 6,
    "start_time": "2025-06-04T17:18:47.741Z"
   },
   {
    "duration": 3,
    "start_time": "2025-06-04T17:18:51.067Z"
   },
   {
    "duration": 160691,
    "start_time": "2025-06-04T17:19:18.967Z"
   },
   {
    "duration": 5,
    "start_time": "2025-06-04T17:23:23.973Z"
   },
   {
    "duration": 7,
    "start_time": "2025-06-04T17:23:25.848Z"
   },
   {
    "duration": 3,
    "start_time": "2025-06-04T17:23:26.689Z"
   },
   {
    "duration": 14166,
    "start_time": "2025-06-04T17:23:27.390Z"
   },
   {
    "duration": 1924,
    "start_time": "2025-06-04T17:23:54.566Z"
   },
   {
    "duration": 17,
    "start_time": "2025-06-04T17:23:56.492Z"
   },
   {
    "duration": 6,
    "start_time": "2025-06-04T17:23:56.511Z"
   },
   {
    "duration": 421,
    "start_time": "2025-06-04T17:23:56.519Z"
   },
   {
    "duration": 4,
    "start_time": "2025-06-04T17:23:56.942Z"
   },
   {
    "duration": 14,
    "start_time": "2025-06-04T17:23:56.947Z"
   },
   {
    "duration": 6,
    "start_time": "2025-06-04T17:23:56.962Z"
   },
   {
    "duration": 6,
    "start_time": "2025-06-04T17:23:56.969Z"
   },
   {
    "duration": 5,
    "start_time": "2025-06-04T17:23:56.977Z"
   },
   {
    "duration": 4,
    "start_time": "2025-06-04T17:23:56.984Z"
   },
   {
    "duration": 6,
    "start_time": "2025-06-04T17:23:56.990Z"
   },
   {
    "duration": 5,
    "start_time": "2025-06-04T17:23:57.037Z"
   },
   {
    "duration": 5,
    "start_time": "2025-06-04T17:23:57.045Z"
   },
   {
    "duration": 8,
    "start_time": "2025-06-04T17:23:57.054Z"
   },
   {
    "duration": 27,
    "start_time": "2025-06-04T17:23:57.064Z"
   },
   {
    "duration": 537,
    "start_time": "2025-06-04T17:23:57.137Z"
   },
   {
    "duration": 138,
    "start_time": "2025-06-04T17:23:57.675Z"
   },
   {
    "duration": 5,
    "start_time": "2025-06-04T17:23:57.815Z"
   },
   {
    "duration": 4,
    "start_time": "2025-06-04T17:23:57.821Z"
   },
   {
    "duration": 6,
    "start_time": "2025-06-04T17:23:57.839Z"
   },
   {
    "duration": 37,
    "start_time": "2025-06-04T17:23:57.847Z"
   },
   {
    "duration": 7,
    "start_time": "2025-06-04T17:23:57.886Z"
   },
   {
    "duration": 4,
    "start_time": "2025-06-04T17:23:57.895Z"
   },
   {
    "duration": 5,
    "start_time": "2025-06-04T17:23:57.900Z"
   },
   {
    "duration": 4,
    "start_time": "2025-06-04T17:23:57.907Z"
   },
   {
    "duration": 27,
    "start_time": "2025-06-04T17:23:57.913Z"
   },
   {
    "duration": 15,
    "start_time": "2025-06-04T17:23:57.942Z"
   },
   {
    "duration": 30,
    "start_time": "2025-06-04T17:23:57.959Z"
   },
   {
    "duration": 6,
    "start_time": "2025-06-04T17:23:57.991Z"
   },
   {
    "duration": 11,
    "start_time": "2025-06-04T17:23:57.999Z"
   },
   {
    "duration": 5,
    "start_time": "2025-06-04T17:23:58.012Z"
   },
   {
    "duration": 8,
    "start_time": "2025-06-04T17:23:58.018Z"
   },
   {
    "duration": 31,
    "start_time": "2025-06-04T17:23:58.028Z"
   },
   {
    "duration": 5,
    "start_time": "2025-06-04T17:23:58.060Z"
   },
   {
    "duration": 15,
    "start_time": "2025-06-04T17:23:58.067Z"
   },
   {
    "duration": 4,
    "start_time": "2025-06-04T17:23:58.083Z"
   },
   {
    "duration": 6,
    "start_time": "2025-06-04T17:23:58.089Z"
   },
   {
    "duration": 7,
    "start_time": "2025-06-04T17:23:58.097Z"
   },
   {
    "duration": 7,
    "start_time": "2025-06-04T17:23:58.105Z"
   },
   {
    "duration": 234444,
    "start_time": "2025-06-04T17:23:58.136Z"
   },
   {
    "duration": 0,
    "start_time": "2025-06-04T17:27:52.581Z"
   },
   {
    "duration": 0,
    "start_time": "2025-06-04T17:27:52.582Z"
   },
   {
    "duration": 0,
    "start_time": "2025-06-04T17:27:52.584Z"
   },
   {
    "duration": 0,
    "start_time": "2025-06-04T17:27:52.585Z"
   },
   {
    "duration": 0,
    "start_time": "2025-06-04T17:27:52.586Z"
   },
   {
    "duration": 0,
    "start_time": "2025-06-04T17:27:52.587Z"
   },
   {
    "duration": 14,
    "start_time": "2025-06-04T17:28:04.588Z"
   },
   {
    "duration": 7,
    "start_time": "2025-06-04T17:28:07.577Z"
   },
   {
    "duration": 4,
    "start_time": "2025-06-04T17:28:08.212Z"
   },
   {
    "duration": 28066,
    "start_time": "2025-06-04T17:28:08.788Z"
   },
   {
    "duration": 90,
    "start_time": "2025-06-04T17:34:29.500Z"
   },
   {
    "duration": 87,
    "start_time": "2025-06-04T17:34:48.010Z"
   },
   {
    "duration": 85,
    "start_time": "2025-06-04T17:34:58.296Z"
   },
   {
    "duration": 97,
    "start_time": "2025-06-04T17:37:28.186Z"
   },
   {
    "duration": 86,
    "start_time": "2025-06-04T17:37:53.885Z"
   },
   {
    "duration": 90,
    "start_time": "2025-06-04T17:37:59.050Z"
   },
   {
    "duration": 103,
    "start_time": "2025-06-04T17:38:54.986Z"
   },
   {
    "duration": 145,
    "start_time": "2025-06-04T17:39:00.045Z"
   },
   {
    "duration": 83,
    "start_time": "2025-06-04T17:39:14.741Z"
   },
   {
    "duration": 198,
    "start_time": "2025-06-04T17:41:14.582Z"
   },
   {
    "duration": 87,
    "start_time": "2025-06-04T17:42:40.461Z"
   },
   {
    "duration": 88,
    "start_time": "2025-06-04T17:43:58.858Z"
   },
   {
    "duration": 87,
    "start_time": "2025-06-04T17:44:17.839Z"
   },
   {
    "duration": 114,
    "start_time": "2025-06-04T17:44:33.424Z"
   },
   {
    "duration": 9,
    "start_time": "2025-06-04T17:46:23.796Z"
   },
   {
    "duration": 99,
    "start_time": "2025-06-04T17:46:58.898Z"
   },
   {
    "duration": 9,
    "start_time": "2025-06-04T17:55:39.439Z"
   },
   {
    "duration": 88,
    "start_time": "2025-06-04T17:56:08.903Z"
   },
   {
    "duration": 95,
    "start_time": "2025-06-04T17:56:19.521Z"
   },
   {
    "duration": 101,
    "start_time": "2025-06-04T17:56:24.665Z"
   },
   {
    "duration": 82,
    "start_time": "2025-06-04T17:56:40.737Z"
   },
   {
    "duration": 14,
    "start_time": "2025-06-04T17:56:50.842Z"
   },
   {
    "duration": 79087,
    "start_time": "2025-06-04T18:03:07.677Z"
   },
   {
    "duration": 9,
    "start_time": "2025-06-04T18:05:23.453Z"
   },
   {
    "duration": 13,
    "start_time": "2025-06-04T18:05:33.314Z"
   },
   {
    "duration": 8183,
    "start_time": "2025-06-04T18:05:42.873Z"
   },
   {
    "duration": 13,
    "start_time": "2025-06-04T18:05:55.623Z"
   },
   {
    "duration": 11249,
    "start_time": "2025-06-04T18:05:58.707Z"
   },
   {
    "duration": 13,
    "start_time": "2025-06-04T18:36:42.046Z"
   },
   {
    "duration": 27,
    "start_time": "2025-06-04T18:36:42.061Z"
   },
   {
    "duration": 13,
    "start_time": "2025-06-04T18:36:58.177Z"
   },
   {
    "duration": 34,
    "start_time": "2025-06-04T18:36:59.848Z"
   },
   {
    "duration": 14,
    "start_time": "2025-06-04T18:37:51.212Z"
   },
   {
    "duration": 1880,
    "start_time": "2025-06-04T18:39:59.305Z"
   },
   {
    "duration": 18,
    "start_time": "2025-06-04T18:40:01.187Z"
   },
   {
    "duration": 11,
    "start_time": "2025-06-04T18:40:01.206Z"
   },
   {
    "duration": 438,
    "start_time": "2025-06-04T18:40:01.219Z"
   },
   {
    "duration": 5,
    "start_time": "2025-06-04T18:40:01.659Z"
   },
   {
    "duration": 86,
    "start_time": "2025-06-04T18:40:01.666Z"
   },
   {
    "duration": 43,
    "start_time": "2025-06-04T18:40:01.754Z"
   },
   {
    "duration": 25,
    "start_time": "2025-06-04T18:40:01.798Z"
   },
   {
    "duration": 31,
    "start_time": "2025-06-04T18:40:01.825Z"
   },
   {
    "duration": 34,
    "start_time": "2025-06-04T18:40:01.858Z"
   },
   {
    "duration": 25,
    "start_time": "2025-06-04T18:40:01.893Z"
   },
   {
    "duration": 45,
    "start_time": "2025-06-04T18:40:01.920Z"
   },
   {
    "duration": 18,
    "start_time": "2025-06-04T18:40:01.967Z"
   },
   {
    "duration": 24,
    "start_time": "2025-06-04T18:40:01.988Z"
   },
   {
    "duration": 60,
    "start_time": "2025-06-04T18:40:02.014Z"
   },
   {
    "duration": 525,
    "start_time": "2025-06-04T18:40:02.075Z"
   },
   {
    "duration": 137,
    "start_time": "2025-06-04T18:40:02.602Z"
   },
   {
    "duration": 4,
    "start_time": "2025-06-04T18:40:02.741Z"
   },
   {
    "duration": 22,
    "start_time": "2025-06-04T18:40:02.747Z"
   },
   {
    "duration": 22,
    "start_time": "2025-06-04T18:40:02.770Z"
   },
   {
    "duration": 27,
    "start_time": "2025-06-04T18:40:02.794Z"
   },
   {
    "duration": 48,
    "start_time": "2025-06-04T18:40:02.822Z"
   },
   {
    "duration": 28,
    "start_time": "2025-06-04T18:40:02.871Z"
   },
   {
    "duration": 7,
    "start_time": "2025-06-04T18:40:02.900Z"
   },
   {
    "duration": 29,
    "start_time": "2025-06-04T18:40:02.909Z"
   },
   {
    "duration": 35,
    "start_time": "2025-06-04T18:40:02.940Z"
   },
   {
    "duration": 12,
    "start_time": "2025-06-04T18:40:02.977Z"
   },
   {
    "duration": 7,
    "start_time": "2025-06-04T18:40:02.991Z"
   },
   {
    "duration": 42,
    "start_time": "2025-06-04T18:40:02.999Z"
   },
   {
    "duration": 15,
    "start_time": "2025-06-04T18:40:03.043Z"
   },
   {
    "duration": 20,
    "start_time": "2025-06-04T18:40:03.060Z"
   },
   {
    "duration": 15,
    "start_time": "2025-06-04T18:40:03.082Z"
   },
   {
    "duration": 38,
    "start_time": "2025-06-04T18:40:03.099Z"
   },
   {
    "duration": 31,
    "start_time": "2025-06-04T18:40:03.139Z"
   },
   {
    "duration": 42,
    "start_time": "2025-06-04T18:40:03.172Z"
   },
   {
    "duration": 39,
    "start_time": "2025-06-04T18:40:03.215Z"
   },
   {
    "duration": 24,
    "start_time": "2025-06-04T18:40:03.256Z"
   },
   {
    "duration": 20,
    "start_time": "2025-06-04T18:40:03.282Z"
   },
   {
    "duration": 43,
    "start_time": "2025-06-04T18:40:03.303Z"
   },
   {
    "duration": 4,
    "start_time": "2025-06-04T18:40:12.754Z"
   },
   {
    "duration": 57674,
    "start_time": "2025-06-04T18:40:13.495Z"
   },
   {
    "duration": 72,
    "start_time": "2025-06-04T18:46:27.729Z"
   },
   {
    "duration": 6,
    "start_time": "2025-06-04T18:46:34.429Z"
   },
   {
    "duration": 132,
    "start_time": "2025-06-04T18:46:52.008Z"
   },
   {
    "duration": 6,
    "start_time": "2025-06-04T18:46:54.354Z"
   },
   {
    "duration": 9,
    "start_time": "2025-06-04T18:46:54.978Z"
   },
   {
    "duration": 4,
    "start_time": "2025-06-04T18:47:04.293Z"
   },
   {
    "duration": 7,
    "start_time": "2025-06-04T18:47:12.327Z"
   },
   {
    "duration": 12,
    "start_time": "2025-06-04T18:47:25.688Z"
   },
   {
    "duration": 6,
    "start_time": "2025-06-04T18:47:30.880Z"
   },
   {
    "duration": 24938,
    "start_time": "2025-06-04T18:47:33.919Z"
   },
   {
    "duration": 90,
    "start_time": "2025-06-04T18:49:49.132Z"
   },
   {
    "duration": 6,
    "start_time": "2025-06-04T18:49:56.956Z"
   },
   {
    "duration": 15,
    "start_time": "2025-06-04T18:50:07.073Z"
   },
   {
    "duration": 6,
    "start_time": "2025-06-04T18:50:22.465Z"
   },
   {
    "duration": 16,
    "start_time": "2025-06-04T18:50:23.361Z"
   },
   {
    "duration": 6,
    "start_time": "2025-06-04T18:50:40.605Z"
   },
   {
    "duration": 4,
    "start_time": "2025-06-04T18:50:41.368Z"
   },
   {
    "duration": 57581,
    "start_time": "2025-06-04T18:50:50.483Z"
   },
   {
    "duration": 8,
    "start_time": "2025-06-04T18:52:55.050Z"
   },
   {
    "duration": 6,
    "start_time": "2025-06-04T18:53:02.410Z"
   },
   {
    "duration": 4,
    "start_time": "2025-06-04T18:53:03.268Z"
   },
   {
    "duration": 94493,
    "start_time": "2025-06-04T18:53:06.653Z"
   },
   {
    "duration": 83,
    "start_time": "2025-06-04T18:54:56.016Z"
   },
   {
    "duration": 6,
    "start_time": "2025-06-04T18:55:10.947Z"
   },
   {
    "duration": 12,
    "start_time": "2025-06-04T18:55:27.666Z"
   },
   {
    "duration": 4,
    "start_time": "2025-06-04T18:55:49.092Z"
   },
   {
    "duration": 79,
    "start_time": "2025-06-04T18:56:05.999Z"
   },
   {
    "duration": 73201,
    "start_time": "2025-06-04T18:56:10.645Z"
   },
   {
    "duration": 6,
    "start_time": "2025-06-04T18:57:30.372Z"
   },
   {
    "duration": 3,
    "start_time": "2025-06-04T18:57:31.124Z"
   },
   {
    "duration": 6061,
    "start_time": "2025-06-04T18:57:32.007Z"
   },
   {
    "duration": 6,
    "start_time": "2025-06-04T18:57:45.813Z"
   },
   {
    "duration": 68912,
    "start_time": "2025-06-04T18:58:27.148Z"
   },
   {
    "duration": 7,
    "start_time": "2025-06-04T18:59:37.691Z"
   },
   {
    "duration": 38072,
    "start_time": "2025-06-04T18:59:40.582Z"
   },
   {
    "duration": 0,
    "start_time": "2025-06-04T19:00:18.656Z"
   },
   {
    "duration": 7,
    "start_time": "2025-06-04T19:01:08.219Z"
   },
   {
    "duration": 79579,
    "start_time": "2025-06-04T19:01:11.274Z"
   },
   {
    "duration": 4,
    "start_time": "2025-06-04T19:20:49.612Z"
   },
   {
    "duration": 5,
    "start_time": "2025-06-04T19:20:50.340Z"
   },
   {
    "duration": 9,
    "start_time": "2025-06-04T19:20:52.433Z"
   },
   {
    "duration": 4,
    "start_time": "2025-06-04T19:20:54.745Z"
   },
   {
    "duration": 26751,
    "start_time": "2025-06-04T19:20:57.908Z"
   },
   {
    "duration": 6,
    "start_time": "2025-06-04T19:23:24.279Z"
   },
   {
    "duration": 4,
    "start_time": "2025-06-04T19:23:26.635Z"
   },
   {
    "duration": 41282,
    "start_time": "2025-06-04T19:23:40.070Z"
   },
   {
    "duration": 6,
    "start_time": "2025-06-04T19:25:16.144Z"
   },
   {
    "duration": 4,
    "start_time": "2025-06-04T19:25:18.707Z"
   },
   {
    "duration": 29392,
    "start_time": "2025-06-04T19:25:34.977Z"
   },
   {
    "duration": 17,
    "start_time": "2025-06-04T19:29:23.125Z"
   },
   {
    "duration": 720,
    "start_time": "2025-06-04T19:29:41.826Z"
   },
   {
    "duration": 7,
    "start_time": "2025-06-04T19:30:21.046Z"
   },
   {
    "duration": 6,
    "start_time": "2025-06-04T19:30:44.343Z"
   },
   {
    "duration": 4,
    "start_time": "2025-06-04T19:30:45.062Z"
   },
   {
    "duration": 26926,
    "start_time": "2025-06-04T19:30:45.625Z"
   },
   {
    "duration": 153,
    "start_time": "2025-06-04T19:35:40.807Z"
   },
   {
    "duration": 5,
    "start_time": "2025-06-04T19:35:41.311Z"
   },
   {
    "duration": 6,
    "start_time": "2025-06-04T19:35:53.081Z"
   },
   {
    "duration": 3,
    "start_time": "2025-06-04T19:35:53.692Z"
   },
   {
    "duration": 119648,
    "start_time": "2025-06-04T19:35:54.211Z"
   },
   {
    "duration": 724,
    "start_time": "2025-06-04T19:38:57.713Z"
   },
   {
    "duration": 688,
    "start_time": "2025-06-04T19:39:18.598Z"
   },
   {
    "duration": 6,
    "start_time": "2025-06-04T19:39:22.012Z"
   },
   {
    "duration": 4,
    "start_time": "2025-06-04T19:39:23.810Z"
   },
   {
    "duration": 29880,
    "start_time": "2025-06-04T19:39:24.375Z"
   },
   {
    "duration": 6,
    "start_time": "2025-06-04T19:40:01.501Z"
   },
   {
    "duration": 4,
    "start_time": "2025-06-04T19:40:03.742Z"
   },
   {
    "duration": 125839,
    "start_time": "2025-06-04T19:40:06.018Z"
   },
   {
    "duration": 7,
    "start_time": "2025-06-04T19:43:52.194Z"
   },
   {
    "duration": 211,
    "start_time": "2025-06-04T19:44:11.336Z"
   },
   {
    "duration": 86,
    "start_time": "2025-06-04T19:44:40.966Z"
   },
   {
    "duration": 7,
    "start_time": "2025-06-04T19:48:00.692Z"
   },
   {
    "duration": 756,
    "start_time": "2025-06-04T19:48:21.924Z"
   },
   {
    "duration": 694,
    "start_time": "2025-06-04T19:48:40.311Z"
   },
   {
    "duration": 723,
    "start_time": "2025-06-04T19:49:06.029Z"
   },
   {
    "duration": 147,
    "start_time": "2025-06-04T19:54:40.539Z"
   },
   {
    "duration": 15,
    "start_time": "2025-06-04T19:54:52.762Z"
   },
   {
    "duration": 6,
    "start_time": "2025-06-04T19:56:17.074Z"
   },
   {
    "duration": 27,
    "start_time": "2025-06-04T19:56:24.151Z"
   },
   {
    "duration": 7,
    "start_time": "2025-06-04T20:00:13.899Z"
   },
   {
    "duration": 20,
    "start_time": "2025-06-04T20:00:18.701Z"
   },
   {
    "duration": 6,
    "start_time": "2025-06-04T20:02:05.194Z"
   },
   {
    "duration": 17,
    "start_time": "2025-06-04T20:02:07.924Z"
   },
   {
    "duration": 6,
    "start_time": "2025-06-04T20:02:36.413Z"
   },
   {
    "duration": 16,
    "start_time": "2025-06-04T20:02:37.800Z"
   },
   {
    "duration": 6,
    "start_time": "2025-06-04T20:03:03.829Z"
   },
   {
    "duration": 17,
    "start_time": "2025-06-04T20:03:05.039Z"
   },
   {
    "duration": 10,
    "start_time": "2025-06-04T20:06:20.657Z"
   },
   {
    "duration": 64466,
    "start_time": "2025-06-04T20:07:42.375Z"
   },
   {
    "duration": 605803,
    "start_time": "2025-06-04T20:09:45.450Z"
   },
   {
    "duration": 12,
    "start_time": "2025-06-04T21:13:17.193Z"
   },
   {
    "duration": 9,
    "start_time": "2025-06-04T21:13:38.423Z"
   },
   {
    "duration": 41678,
    "start_time": "2025-06-04T21:13:41.477Z"
   },
   {
    "duration": 203073,
    "start_time": "2025-06-04T21:14:34.892Z"
   },
   {
    "duration": 5,
    "start_time": "2025-06-04T21:20:18.440Z"
   },
   {
    "duration": 16,
    "start_time": "2025-06-04T21:20:35.069Z"
   },
   {
    "duration": 5,
    "start_time": "2025-06-04T21:20:43.227Z"
   },
   {
    "duration": 3,
    "start_time": "2025-06-04T21:20:46.073Z"
   },
   {
    "duration": 11,
    "start_time": "2025-06-04T21:20:48.308Z"
   },
   {
    "duration": 6,
    "start_time": "2025-06-04T21:21:00.341Z"
   },
   {
    "duration": 3,
    "start_time": "2025-06-04T21:21:01.134Z"
   },
   {
    "duration": 148,
    "start_time": "2025-06-04T21:21:01.674Z"
   },
   {
    "duration": 10,
    "start_time": "2025-06-04T21:21:05.439Z"
   },
   {
    "duration": 76,
    "start_time": "2025-06-04T21:21:16.736Z"
   },
   {
    "duration": 54260,
    "start_time": "2025-06-04T21:21:20.288Z"
   },
   {
    "duration": 5,
    "start_time": "2025-06-04T21:25:21.078Z"
   },
   {
    "duration": 4,
    "start_time": "2025-06-04T21:25:34.839Z"
   },
   {
    "duration": 87691,
    "start_time": "2025-06-04T21:25:51.460Z"
   },
   {
    "duration": 4,
    "start_time": "2025-06-04T21:28:08.733Z"
   },
   {
    "duration": 97865,
    "start_time": "2025-06-04T21:28:15.282Z"
   },
   {
    "duration": 4,
    "start_time": "2025-06-04T21:30:32.866Z"
   },
   {
    "duration": 51707,
    "start_time": "2025-06-04T21:30:46.433Z"
   },
   {
    "duration": 4,
    "start_time": "2025-06-04T21:32:30.849Z"
   },
   {
    "duration": 63896,
    "start_time": "2025-06-04T21:32:41.360Z"
   },
   {
    "duration": 1956,
    "start_time": "2025-06-04T21:34:14.226Z"
   },
   {
    "duration": 17,
    "start_time": "2025-06-04T21:34:16.184Z"
   },
   {
    "duration": 5,
    "start_time": "2025-06-04T21:34:16.203Z"
   },
   {
    "duration": 409,
    "start_time": "2025-06-04T21:34:16.209Z"
   },
   {
    "duration": 4,
    "start_time": "2025-06-04T21:34:16.620Z"
   },
   {
    "duration": 21,
    "start_time": "2025-06-04T21:34:16.625Z"
   },
   {
    "duration": 3,
    "start_time": "2025-06-04T21:34:16.647Z"
   },
   {
    "duration": 7,
    "start_time": "2025-06-04T21:34:16.651Z"
   },
   {
    "duration": 6,
    "start_time": "2025-06-04T21:34:16.659Z"
   },
   {
    "duration": 4,
    "start_time": "2025-06-04T21:34:16.667Z"
   },
   {
    "duration": 3,
    "start_time": "2025-06-04T21:34:16.673Z"
   },
   {
    "duration": 10,
    "start_time": "2025-06-04T21:34:16.678Z"
   },
   {
    "duration": 8,
    "start_time": "2025-06-04T21:34:16.689Z"
   },
   {
    "duration": 42,
    "start_time": "2025-06-04T21:34:16.700Z"
   },
   {
    "duration": 48,
    "start_time": "2025-06-04T21:34:16.743Z"
   },
   {
    "duration": 533,
    "start_time": "2025-06-04T21:34:16.793Z"
   },
   {
    "duration": 134,
    "start_time": "2025-06-04T21:34:17.327Z"
   },
   {
    "duration": 4,
    "start_time": "2025-06-04T21:34:17.463Z"
   },
   {
    "duration": 12,
    "start_time": "2025-06-04T21:34:17.468Z"
   },
   {
    "duration": 6,
    "start_time": "2025-06-04T21:34:17.481Z"
   },
   {
    "duration": 13,
    "start_time": "2025-06-04T21:34:17.488Z"
   },
   {
    "duration": 3,
    "start_time": "2025-06-04T21:34:17.502Z"
   },
   {
    "duration": 32,
    "start_time": "2025-06-04T21:34:17.506Z"
   },
   {
    "duration": 4,
    "start_time": "2025-06-04T21:34:17.540Z"
   },
   {
    "duration": 5,
    "start_time": "2025-06-04T21:34:17.545Z"
   },
   {
    "duration": 6,
    "start_time": "2025-06-04T21:34:17.552Z"
   },
   {
    "duration": 5,
    "start_time": "2025-06-04T21:34:17.560Z"
   },
   {
    "duration": 5,
    "start_time": "2025-06-04T21:34:17.566Z"
   },
   {
    "duration": 4,
    "start_time": "2025-06-04T21:34:17.573Z"
   },
   {
    "duration": 5,
    "start_time": "2025-06-04T21:34:17.579Z"
   },
   {
    "duration": 5,
    "start_time": "2025-06-04T21:34:17.585Z"
   },
   {
    "duration": 47,
    "start_time": "2025-06-04T21:34:17.591Z"
   },
   {
    "duration": 42,
    "start_time": "2025-06-04T21:34:17.639Z"
   },
   {
    "duration": 5,
    "start_time": "2025-06-04T21:34:17.683Z"
   },
   {
    "duration": 4,
    "start_time": "2025-06-04T21:34:17.690Z"
   },
   {
    "duration": 3,
    "start_time": "2025-06-04T21:34:33.885Z"
   },
   {
    "duration": 4,
    "start_time": "2025-06-04T21:34:34.469Z"
   },
   {
    "duration": 4,
    "start_time": "2025-06-04T21:34:36.301Z"
   },
   {
    "duration": 5,
    "start_time": "2025-06-04T21:34:43.225Z"
   },
   {
    "duration": 5,
    "start_time": "2025-06-04T21:35:21.361Z"
   },
   {
    "duration": 4,
    "start_time": "2025-06-04T21:35:28.629Z"
   },
   {
    "duration": 131,
    "start_time": "2025-06-04T21:35:32.353Z"
   },
   {
    "duration": 7,
    "start_time": "2025-06-04T21:35:50.521Z"
   },
   {
    "duration": 9445,
    "start_time": "2025-06-04T21:35:52.909Z"
   },
   {
    "duration": 7,
    "start_time": "2025-06-04T21:36:11.931Z"
   },
   {
    "duration": 5,
    "start_time": "2025-06-04T21:36:12.885Z"
   },
   {
    "duration": 82007,
    "start_time": "2025-06-04T21:36:13.550Z"
   },
   {
    "duration": 9,
    "start_time": "2025-06-04T21:37:45.639Z"
   },
   {
    "duration": 5,
    "start_time": "2025-06-04T21:37:46.184Z"
   },
   {
    "duration": 175448,
    "start_time": "2025-06-04T21:37:46.694Z"
   },
   {
    "duration": 6,
    "start_time": "2025-06-04T21:41:09.353Z"
   },
   {
    "duration": 4,
    "start_time": "2025-06-04T21:41:09.872Z"
   },
   {
    "duration": 121343,
    "start_time": "2025-06-04T21:41:10.416Z"
   },
   {
    "duration": 11,
    "start_time": "2025-06-04T21:43:56.404Z"
   },
   {
    "duration": 4,
    "start_time": "2025-06-04T21:44:00.553Z"
   },
   {
    "duration": 92036,
    "start_time": "2025-06-04T21:44:04.816Z"
   },
   {
    "duration": 12,
    "start_time": "2025-06-04T21:46:24.505Z"
   },
   {
    "duration": 4,
    "start_time": "2025-06-04T21:46:28.564Z"
   },
   {
    "duration": 51420,
    "start_time": "2025-06-04T21:46:29.639Z"
   },
   {
    "duration": 4,
    "start_time": "2025-06-04T21:47:45.196Z"
   },
   {
    "duration": 25296,
    "start_time": "2025-06-04T21:47:45.665Z"
   },
   {
    "duration": 4,
    "start_time": "2025-06-04T21:48:59.081Z"
   },
   {
    "duration": 27243,
    "start_time": "2025-06-04T21:48:59.596Z"
   },
   {
    "duration": 7,
    "start_time": "2025-06-04T21:49:55.310Z"
   },
   {
    "duration": 15,
    "start_time": "2025-06-04T21:49:59.016Z"
   },
   {
    "duration": 7,
    "start_time": "2025-06-04T21:50:07.293Z"
   },
   {
    "duration": 15,
    "start_time": "2025-06-04T21:50:07.962Z"
   },
   {
    "duration": 6,
    "start_time": "2025-06-04T21:50:14.426Z"
   },
   {
    "duration": 15,
    "start_time": "2025-06-04T21:50:15.064Z"
   },
   {
    "duration": 15,
    "start_time": "2025-06-04T21:50:34.742Z"
   },
   {
    "duration": 15,
    "start_time": "2025-06-04T21:50:40.225Z"
   },
   {
    "duration": 18,
    "start_time": "2025-06-04T21:50:45.692Z"
   },
   {
    "duration": 5,
    "start_time": "2025-06-04T21:51:13.405Z"
   },
   {
    "duration": 6,
    "start_time": "2025-06-04T21:53:18.643Z"
   },
   {
    "duration": 711,
    "start_time": "2025-06-04T21:53:19.527Z"
   },
   {
    "duration": 766,
    "start_time": "2025-06-04T21:53:28.762Z"
   },
   {
    "duration": 4,
    "start_time": "2025-06-04T21:53:44.663Z"
   },
   {
    "duration": 681,
    "start_time": "2025-06-04T21:54:06.697Z"
   },
   {
    "duration": 4,
    "start_time": "2025-06-04T21:54:24.130Z"
   },
   {
    "duration": 95970,
    "start_time": "2025-06-04T21:54:29.271Z"
   },
   {
    "duration": 720,
    "start_time": "2025-06-04T21:56:23.713Z"
   },
   {
    "duration": 7,
    "start_time": "2025-06-04T21:56:31.472Z"
   },
   {
    "duration": 6,
    "start_time": "2025-06-04T21:58:34.768Z"
   },
   {
    "duration": 4,
    "start_time": "2025-06-04T22:00:18.268Z"
   },
   {
    "duration": 135777,
    "start_time": "2025-06-04T22:00:23.763Z"
   },
   {
    "duration": 12,
    "start_time": "2025-06-04T22:02:52.266Z"
   },
   {
    "duration": 12,
    "start_time": "2025-06-04T22:03:20.813Z"
   },
   {
    "duration": 9,
    "start_time": "2025-06-04T22:03:31.186Z"
   },
   {
    "duration": 9,
    "start_time": "2025-06-04T22:05:33.578Z"
   },
   {
    "duration": 11,
    "start_time": "2025-06-04T22:05:41.589Z"
   },
   {
    "duration": 18,
    "start_time": "2025-06-04T22:05:55.701Z"
   },
   {
    "duration": 10,
    "start_time": "2025-06-04T22:09:25.582Z"
   },
   {
    "duration": 9,
    "start_time": "2025-06-04T22:09:33.943Z"
   },
   {
    "duration": 16,
    "start_time": "2025-06-04T22:10:51.678Z"
   },
   {
    "duration": 15,
    "start_time": "2025-06-04T22:11:48.431Z"
   },
   {
    "duration": 10,
    "start_time": "2025-06-04T22:12:03.349Z"
   },
   {
    "duration": 9,
    "start_time": "2025-06-04T22:12:10.684Z"
   },
   {
    "duration": 2416,
    "start_time": "2025-06-05T12:39:02.420Z"
   },
   {
    "duration": 20,
    "start_time": "2025-06-05T12:39:04.839Z"
   },
   {
    "duration": 7,
    "start_time": "2025-06-05T12:39:04.861Z"
   },
   {
    "duration": 507,
    "start_time": "2025-06-05T12:39:07.491Z"
   },
   {
    "duration": 4,
    "start_time": "2025-06-05T12:39:08.000Z"
   },
   {
    "duration": 14,
    "start_time": "2025-06-05T12:39:08.061Z"
   },
   {
    "duration": 3,
    "start_time": "2025-06-05T12:39:08.491Z"
   },
   {
    "duration": 3,
    "start_time": "2025-06-05T12:39:08.723Z"
   },
   {
    "duration": 7,
    "start_time": "2025-06-05T12:39:09.223Z"
   },
   {
    "duration": 7,
    "start_time": "2025-06-05T12:39:09.440Z"
   },
   {
    "duration": 5,
    "start_time": "2025-06-05T12:39:11.322Z"
   },
   {
    "duration": 5,
    "start_time": "2025-06-05T12:39:11.726Z"
   },
   {
    "duration": 4,
    "start_time": "2025-06-05T12:39:12.069Z"
   },
   {
    "duration": 9,
    "start_time": "2025-06-05T12:39:12.525Z"
   },
   {
    "duration": 26,
    "start_time": "2025-06-05T12:39:13.174Z"
   },
   {
    "duration": 6,
    "start_time": "2025-06-05T12:40:25.911Z"
   },
   {
    "duration": 6,
    "start_time": "2025-06-05T12:41:02.576Z"
   },
   {
    "duration": 35,
    "start_time": "2025-06-05T12:41:04.824Z"
   },
   {
    "duration": 164,
    "start_time": "2025-06-05T12:41:14.673Z"
   },
   {
    "duration": 3,
    "start_time": "2025-06-05T12:41:27.837Z"
   },
   {
    "duration": 7,
    "start_time": "2025-06-05T12:41:28.457Z"
   },
   {
    "duration": 14,
    "start_time": "2025-06-05T12:41:30.615Z"
   },
   {
    "duration": 4,
    "start_time": "2025-06-05T12:41:38.339Z"
   },
   {
    "duration": 3,
    "start_time": "2025-06-05T12:41:38.889Z"
   },
   {
    "duration": 5,
    "start_time": "2025-06-05T12:41:39.373Z"
   },
   {
    "duration": 7,
    "start_time": "2025-06-05T12:41:39.855Z"
   },
   {
    "duration": 9,
    "start_time": "2025-06-05T12:41:42.068Z"
   },
   {
    "duration": 7,
    "start_time": "2025-06-05T12:41:42.537Z"
   },
   {
    "duration": 5,
    "start_time": "2025-06-05T12:41:43.040Z"
   },
   {
    "duration": 4,
    "start_time": "2025-06-05T12:41:43.533Z"
   },
   {
    "duration": 8,
    "start_time": "2025-06-05T12:41:44.081Z"
   },
   {
    "duration": 5,
    "start_time": "2025-06-05T12:41:44.768Z"
   },
   {
    "duration": 3,
    "start_time": "2025-06-05T12:41:45.406Z"
   },
   {
    "duration": 34,
    "start_time": "2025-06-05T12:41:46.005Z"
   },
   {
    "duration": 4,
    "start_time": "2025-06-05T12:41:46.906Z"
   },
   {
    "duration": 6,
    "start_time": "2025-06-05T12:41:48.068Z"
   },
   {
    "duration": 6,
    "start_time": "2025-06-05T12:41:48.706Z"
   },
   {
    "duration": 8,
    "start_time": "2025-06-05T12:41:50.073Z"
   },
   {
    "duration": 7,
    "start_time": "2025-06-05T12:41:55.403Z"
   },
   {
    "duration": 107,
    "start_time": "2025-06-05T12:41:56.221Z"
   },
   {
    "duration": 11,
    "start_time": "2025-06-05T12:42:03.840Z"
   },
   {
    "duration": 6,
    "start_time": "2025-06-05T12:42:07.758Z"
   },
   {
    "duration": 153916,
    "start_time": "2025-06-05T12:42:08.724Z"
   },
   {
    "duration": 6,
    "start_time": "2025-06-05T12:44:48.575Z"
   },
   {
    "duration": 122124,
    "start_time": "2025-06-05T12:44:49.212Z"
   },
   {
    "duration": 6,
    "start_time": "2025-06-05T12:47:13.876Z"
   },
   {
    "duration": 5,
    "start_time": "2025-06-05T12:47:14.589Z"
   },
   {
    "duration": 144081,
    "start_time": "2025-06-05T12:47:15.331Z"
   },
   {
    "duration": 17,
    "start_time": "2025-06-05T12:49:43.066Z"
   },
   {
    "duration": 14,
    "start_time": "2025-06-05T12:49:47.164Z"
   },
   {
    "duration": 85,
    "start_time": "2025-06-05T12:50:13.620Z"
   },
   {
    "duration": 18,
    "start_time": "2025-06-05T12:50:24.354Z"
   },
   {
    "duration": 10,
    "start_time": "2025-06-05T12:52:12.644Z"
   },
   {
    "duration": 30,
    "start_time": "2025-06-05T12:52:13.478Z"
   },
   {
    "duration": 10,
    "start_time": "2025-06-05T12:54:30.398Z"
   },
   {
    "duration": 28,
    "start_time": "2025-06-05T12:54:32.357Z"
   },
   {
    "duration": 18,
    "start_time": "2025-06-05T12:57:42.889Z"
   },
   {
    "duration": 7,
    "start_time": "2025-06-05T12:58:11.368Z"
   },
   {
    "duration": 28,
    "start_time": "2025-06-05T12:58:23.594Z"
   },
   {
    "duration": 8,
    "start_time": "2025-06-05T12:58:32.036Z"
   },
   {
    "duration": 7,
    "start_time": "2025-06-05T12:58:36.264Z"
   },
   {
    "duration": 18,
    "start_time": "2025-06-05T12:58:37.415Z"
   },
   {
    "duration": 21,
    "start_time": "2025-06-05T12:58:38.174Z"
   },
   {
    "duration": 5,
    "start_time": "2025-06-05T12:59:27.846Z"
   },
   {
    "duration": 12,
    "start_time": "2025-06-05T12:59:29.042Z"
   },
   {
    "duration": 20,
    "start_time": "2025-06-05T12:59:29.757Z"
   },
   {
    "duration": 8,
    "start_time": "2025-06-05T12:59:40.073Z"
   },
   {
    "duration": 24,
    "start_time": "2025-06-05T12:59:40.716Z"
   },
   {
    "duration": 5,
    "start_time": "2025-06-05T13:03:12.431Z"
   },
   {
    "duration": 9,
    "start_time": "2025-06-05T13:03:13.600Z"
   },
   {
    "duration": 20,
    "start_time": "2025-06-05T13:03:15.023Z"
   },
   {
    "duration": 8,
    "start_time": "2025-06-05T13:04:00.223Z"
   },
   {
    "duration": 17,
    "start_time": "2025-06-05T13:04:01.553Z"
   },
   {
    "duration": 21,
    "start_time": "2025-06-05T13:04:02.175Z"
   },
   {
    "duration": 8,
    "start_time": "2025-06-05T13:10:38.098Z"
   },
   {
    "duration": 7,
    "start_time": "2025-06-05T13:11:17.850Z"
   },
   {
    "duration": 9,
    "start_time": "2025-06-05T13:11:43.944Z"
   },
   {
    "duration": 21,
    "start_time": "2025-06-05T13:11:53.116Z"
   }
  ],
  "kernelspec": {
   "display_name": "Python 3 (ipykernel)",
   "language": "python",
   "name": "python3"
  },
  "language_info": {
   "codemirror_mode": {
    "name": "ipython",
    "version": 3
   },
   "file_extension": ".py",
   "mimetype": "text/x-python",
   "name": "python",
   "nbconvert_exporter": "python",
   "pygments_lexer": "ipython3",
   "version": "3.9.5"
  },
  "toc": {
   "base_numbering": 1,
   "nav_menu": {},
   "number_sections": false,
   "sideBar": true,
   "skip_h1_title": false,
   "title_cell": "Table of Contents",
   "title_sidebar": "Contents",
   "toc_cell": false,
   "toc_position": {},
   "toc_section_display": true,
   "toc_window_display": false
  },
  "varInspector": {
   "cols": {
    "lenName": 16,
    "lenType": 16,
    "lenVar": 40
   },
   "kernels_config": {
    "python": {
     "delete_cmd_postfix": "",
     "delete_cmd_prefix": "del ",
     "library": "var_list.py",
     "varRefreshCmd": "print(var_dic_list())"
    },
    "r": {
     "delete_cmd_postfix": ") ",
     "delete_cmd_prefix": "rm(",
     "library": "var_list.r",
     "varRefreshCmd": "cat(var_dic_list()) "
    }
   },
   "types_to_exclude": [
    "module",
    "function",
    "builtin_function_or_method",
    "instance",
    "_Feature"
   ],
   "window_display": false
  }
 },
 "nbformat": 4,
 "nbformat_minor": 5
}
